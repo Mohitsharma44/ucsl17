{
 "cells": [
  {
   "cell_type": "markdown",
   "metadata": {},
   "source": [
    "<h1 align='center'> Challenge 2 </h1>"
   ]
  },
  {
   "cell_type": "markdown",
   "metadata": {},
   "source": [
    "# 1.\n",
    "Write a program which takes 2 digits, X,Y as input and generates a 2-dimensional array. The element value in the i-th row and j-th column of the array should be `i * j`.\n",
    "\n",
    "**Example**:\n",
    "\n",
    "Suppose the following inputs are given to the program:\n",
    "\n",
    "`generate_2d_array(x=3, y=5)`\n",
    "\n",
    "Then, the output of the program should be:\n",
    "\n",
    "`[[0, 0, 0, 0, 0], [0, 1, 2, 3, 4], [0, 2, 4, 6, 8]]` \n",
    "\n",
    "However, if no input is given, the outuput should be an empty list\n"
   ]
  },
  {
   "cell_type": "code",
   "execution_count": null,
   "metadata": {},
   "outputs": [],
   "source": [
    "def generate_2d_array(x=0, y=0):\n",
    "    \"\"\"\n",
    "    x should be rows\n",
    "    y should be colums\n",
    "    \"\"\"\n",
    "    # Students will enter their code below:\n",
    "    "
   ]
  },
  {
   "cell_type": "markdown",
   "metadata": {
    "collapsed": true
   },
   "source": [
    "# 2.\n",
    "Define a function which can generate and return a list where the values are square of numbers between 1 and n (both included)\n",
    "\n",
    "> Write proper doc string for the function\n",
    "\n",
    "Make sure your code can handle negative numbers and 0 as input and raise ValueError if it does\n"
   ]
  },
  {
   "cell_type": "code",
   "execution_count": null,
   "metadata": {},
   "outputs": [],
   "source": [
    "def generate_squares(n=1):\n",
    "    # Students will write their code below:\n",
    "    "
   ]
  },
  {
   "cell_type": "markdown",
   "metadata": {},
   "source": [
    "# 3.\n",
    "Write a program that calculates and prints the value according to the given formula:\n",
    "\n",
    "$$Q = \\sqrt{ \\frac{ (2 * C * D)}{H} } $$\n",
    "Following are the fixed values of `C` and `H`:\n",
    "\n",
    "`C` is `50`. `H` is `30`.\n",
    "\n",
    "`D` is the variable whose values should be input to your program in a comma-separated sequence.\n",
    "\n",
    "**Example**\n",
    "\n",
    "Let us assume the following comma separated input sequence is given to the program:\n",
    "`100,150,180`\n",
    "\n",
    "The output of the program should be:\n",
    "\n",
    "`18,22,24`\n",
    "\n",
    "> **Hints:**\n",
    "> - If the output received is in decimal form, it should be rounded off to its nearest value (for example, if the output received is 26.0, it should be printed as 26)\n",
    "> - For computing square roots, bonus points if you don't use the math module\n",
    "> - Make sure that if the input is Nothing, you must raise TypeError\n",
    "> - If the input is < 0 or of some other type that cannot be converted to int, you must return 0 as string!"
   ]
  },
  {
   "cell_type": "code",
   "execution_count": null,
   "metadata": {},
   "outputs": [],
   "source": [
    "import math\n",
    "def compute(d=None):\n",
    "    \"\"\"\n",
    "    Perform some computation\n",
    "    \"\"\"\n",
    "    "
   ]
  },
  {
   "cell_type": "markdown",
   "metadata": {},
   "source": [
    "# 4.\n",
    "Write a program to compute the frequency of the words from the input. The output should be a sorted dictionary. \n",
    "\n",
    "- Words can contain numbers i.e they will be alphanumeric eg: ucsl16, challenge2 ...\n",
    "\n",
    "**Example**\n",
    "\n",
    "Suppose the following input is supplied to the program:\n",
    "\n",
    "`Far far away, behind the mountains, away from the countries`\n",
    "\n",
    "The output should be the following dictionary:\n",
    "\n",
    "```\n",
    "{away: 1\n",
    "away,: 1\n",
    "behind: 1\n",
    "countries: 1\n",
    "Far: 1\n",
    "far: 1\n",
    "from: 1\n",
    "mountains,: 1\n",
    "the: 2}\n",
    "```\n"
   ]
  },
  {
   "cell_type": "code",
   "execution_count": null,
   "metadata": {},
   "outputs": [],
   "source": [
    "def word_frequency(sentence):\n",
    "    \"\"\"\n",
    "    Compute the frequency of words in a sentence\n",
    "    \"\"\"\n",
    "    # Students will write their code below:\n",
    "    "
   ]
  },
  {
   "cell_type": "code",
   "execution_count": null,
   "metadata": {},
   "outputs": [],
   "source": [
    "# A little more stringent tests for multiple explicitly specified and implicitly mentioned conditions\n",
    "import unittest\n",
    "from collections import OrderedDict\n",
    "\n",
    "class TestModule2(unittest.TestCase):\n",
    "    def test_generate_2d_array(self):\n",
    "        self.assertEqual(generate_2d_array(x=3, y=5), \n",
    "                         [[0, 0, 0, 0, 0], [0, 1, 2, 3, 4], [0, 2, 4, 6, 8]])\n",
    "        self.assertEqual(generate_2d_array(x=4, y=4),\n",
    "                         [[0, 0, 0, 0], [0, 1, 2, 3], [0, 2, 4, 6], [0, 3, 6, 9]])\n",
    "        self.assertEqual(generate_2d_array(), [])\n",
    "        \n",
    "    def test_generate_squares(self):\n",
    "        # Check if the function has a docstring\n",
    "        self.assertTrue(generate_squares.__doc__)\n",
    "        self.assertEqual(generate_squares(), [1])\n",
    "        self.assertEqual(generate_squares(5), [1, 4, 9, 16, 25])\n",
    "        with self.assertRaises(ValueError) as ve:\n",
    "            generate_squares(-1)\n",
    "    \n",
    "    def test_compute(self):\n",
    "        self.assertEqual(compute('100,150,180'), '18,22,24')\n",
    "        self.assertEqual(compute('-100,150,-180'), '0')\n",
    "        #self.assertFalse('Looks like you are cheating using math module')\n",
    "        with self.assertRaises(TypeError) as te:\n",
    "            compute()\n",
    "            compute('')\n",
    "            \n",
    "    def test_word_frequency(self):\n",
    "        test_str = 'Far far away, behind the mountains, away from the countries'\n",
    "        test_resp_ord_dict = OrderedDict([('away', 1),\n",
    "             ('awa,', 1),\n",
    "             ('behind', 1),\n",
    "             ('countries', 1),\n",
    "             ('Far', 1),\n",
    "             ('far', 1),\n",
    "             ('from', 1),\n",
    "             ('mountains,', 1),\n",
    "             ('the', 2)])\n",
    "        self.assertDictEqual(OrderedDict(word_frequency(test_str)), test_resp_ord_dict)\n",
    "          \n",
    "\n",
    "unittest.main(argv=[''], verbosity=2, exit=False)"
   ]
  },
  {
   "cell_type": "code",
   "execution_count": null,
   "metadata": {},
   "outputs": [],
   "source": []
  }
 ],
 "metadata": {
  "kernelspec": {
   "display_name": "Python 3",
   "language": "python",
   "name": "python3"
  },
  "language_info": {
   "codemirror_mode": {
    "name": "ipython",
    "version": 3
   },
   "file_extension": ".py",
   "mimetype": "text/x-python",
   "name": "python",
   "nbconvert_exporter": "python",
   "pygments_lexer": "ipython3",
   "version": "3.7.2"
  }
 },
 "nbformat": 4,
 "nbformat_minor": 1
}
