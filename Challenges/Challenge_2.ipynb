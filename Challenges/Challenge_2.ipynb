{
 "cells": [
  {
   "cell_type": "markdown",
   "metadata": {},
   "source": [
    "<h1 align='center'> Challenge 2 </h1>\n",
    "### Submission Date: July 14 2017\n",
    "\n",
    "### Instructions:\n",
    "#### 1. Create a New Notebook in ucsl sub-directory in your home directory. (After you login to jupyter hub, select homedirs, then select your net id and create a directory by the name ucsl, if it doesn't exist).\n",
    "#### 2. Name of your notebook should be \"Challenge_2_Solutions\" (without the quotes) and answer the challenges in it.\n",
    "#### 3. If you name your notebook anything other than above, you will not be graded.\n",
    "#### 4. Try not to miss the deadline. If you miss the deadline, let the TA know. Your finall score will be affected!\n",
    "#### 5. Plagiarism will not be tolerated."
   ]
  },
  {
   "cell_type": "markdown",
   "metadata": {},
   "source": [
    "# 1.\n",
    "Write a program which takes 2 digits, X,Y as input and generates a 2-dimensional array. The element value in the i-th row and j-th column of the array should be `i * j`.\n",
    "\n",
    "**Example**:\n",
    "\n",
    "Suppose the following inputs are given to the program:\n",
    "\n",
    "`3,5`\n",
    "\n",
    "Then, the output of the program should be:\n",
    "\n",
    "`[[0, 0, 0, 0, 0], [0, 1, 2, 3, 4], [0, 2, 4, 6, 8]]` \n",
    "\n",
    "> **Hints**:\n",
    "\n",
    "> - You can accept input from user using `raw_input()`"
   ]
  },
  {
   "cell_type": "markdown",
   "metadata": {
    "collapsed": true
   },
   "source": [
    "# 2.\n",
    "Define a function which can generate and print a list where the values are square of numbers between 1 and 20\n",
    "\n",
    "> Write proper doc string for the function\n"
   ]
  },
  {
   "cell_type": "markdown",
   "metadata": {},
   "source": [
    "# 3.\n",
    "Write a program that calculates and prints the value according to the given formula:\n",
    "\n",
    "$$Q = \\sqrt{ \\frac{ (2 * C * D)}{H} } $$\n",
    "Following are the fixed values of `C` and `H`:\n",
    "\n",
    "`C` is `50`. `H` is `30`.\n",
    "\n",
    "`D` is the variable whose values should be input to your program in a comma-separated sequence.\n",
    "\n",
    "**Example**\n",
    "\n",
    "Let us assume the following comma separated input sequence is given to the program:\n",
    "`100,150,180`\n",
    "\n",
    "The output of the program should be:\n",
    "\n",
    "`18,22,24`\n",
    "\n",
    "> **Hints:**\n",
    "\n",
    "> - If the output received is in decimal form, it should be rounded off to its nearest value (for example, if the output received is 26.0, it should be printed as 26)\n",
    "\n",
    "> - You can accept input from user using `raw_input()`"
   ]
  },
  {
   "cell_type": "markdown",
   "metadata": {},
   "source": [
    "# 4.\n",
    "Write a program to compute the frequency of the words from the input. The output should print after sorting the key alphanumerically. \n",
    "\n",
    "- Words can contain numbers i.e they will be alphanumeric eg: ucsl16, challenge2 ...\n",
    "\n",
    "**Example**\n",
    "\n",
    "Suppose the following input is supplied to the program:\n",
    "\n",
    "`Far far away, behind the mountains, away from the countries`\n",
    "\n",
    "The output should be:\n",
    "\n",
    "```\n",
    "away: 1\n",
    "away,: 1\n",
    "behind: 1\n",
    "countries: 1\n",
    "Far: 1\n",
    "far: 1\n",
    "from: 1\n",
    "mountains,: 1\n",
    "the: 2\n",
    "```\n",
    "> **Hints**:\n",
    "> - You can accept input from user using `raw_input()`\n",
    "\n",
    "<br/><br/>\n",
    "**Bonus** (+15 points)\n",
    "\n",
    "- Try for Case-Insensitive i.e USCL = ucsl = Ucsl = uCSL ... Hint, you will have to use regular expressions. Refer [Python Regex](https://docs.python.org/2/library/re.html) to learn more.\n",
    "- Do not consider punctuations i.e Hello, world should consider `Hello` and `world` and neglect the **`\",\"`**."
   ]
  },
  {
   "cell_type": "code",
   "execution_count": null,
   "metadata": {
    "collapsed": true
   },
   "outputs": [],
   "source": []
  }
 ],
 "metadata": {
  "kernelspec": {
   "display_name": "Python 2",
   "language": "python",
   "name": "python2"
  },
  "language_info": {
   "codemirror_mode": {
    "name": "ipython",
    "version": 2
   },
   "file_extension": ".py",
   "mimetype": "text/x-python",
   "name": "python",
   "nbconvert_exporter": "python",
   "pygments_lexer": "ipython2",
   "version": "2.7.13"
  }
 },
 "nbformat": 4,
 "nbformat_minor": 1
}
