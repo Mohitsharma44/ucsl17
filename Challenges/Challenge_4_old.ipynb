{
 "cells": [
  {
   "cell_type": "markdown",
   "metadata": {},
   "source": [
    "<h1 align='center'> Challenge 4 </h1>\n",
    "### Submission Date: August 18 2017\n",
    "\n",
    "### Instructions:\n",
    "#### 1. Create a New Notebook in ucsl sub-directory in your home directory. (After you login to jupyter hub, select homedirs, then select your net id and create a directory by the name ucsl, if it doesn't exist).\n",
    "#### 2. Name of your notebook should be \"Challenge_4_Solutions\" (without the quotes) and answer the challenges in it.\n",
    "#### 3. If you name your notebook anything other than above, you will not be graded.\n",
    "#### 4. Try not to miss the deadline. If you miss the deadline, let the TA know. Your finall score will be affected!\n",
    "#### 5. Plagiarism will not be tolerated."
   ]
  },
  {
   "cell_type": "markdown",
   "metadata": {},
   "source": [
    "## 1. create the vector v=(3,7) and plot it. "
   ]
  },
  {
   "cell_type": "code",
   "execution_count": 1,
   "metadata": {},
   "outputs": [
    {
     "name": "stdout",
     "output_type": "stream",
     "text": [
      "Populating the interactive namespace from numpy and matplotlib\n"
     ]
    }
   ],
   "source": [
    "# importing future for compatibility between python 2 and python 3\n",
    "from __future__ import print_function\n",
    "\n",
    "# importing needed packages\n",
    "import numpy as np\n",
    "import pylab as pl\n",
    "\n",
    "# The seaborn package makes plots prittier\n",
    "import seaborn as sns\n",
    "sns.set_style(\"white\")\n",
    "# The dollowing command (it is called a magic command) \n",
    "# is needed to display plots in the notebook.\n",
    "%pylab inline"
   ]
  },
  {
   "cell_type": "code",
   "execution_count": null,
   "metadata": {
    "collapsed": true
   },
   "outputs": [],
   "source": []
  },
  {
   "cell_type": "markdown",
   "metadata": {},
   "source": [
    "## 2. Modify vector v so as to get a vector twice as long, in the same direction of v=(3,7). Call the new vector vLong and plot it. For this and all following plots also plot the orivinal vector v with a dashed, grey line."
   ]
  },
  {
   "cell_type": "code",
   "execution_count": null,
   "metadata": {
    "collapsed": true
   },
   "outputs": [],
   "source": []
  },
  {
   "cell_type": "markdown",
   "metadata": {},
   "source": [
    "## 3. Create a function, that takes as argument an angle (in degrees) and returns a roatation matrix (also a numpy ndarray). Name the function rotMatrix."
   ]
  },
  {
   "cell_type": "raw",
   "metadata": {
    "collapsed": true
   },
   "source": [
    "def rotMatrix(angle):\n"
   ]
  },
  {
   "cell_type": "markdown",
   "metadata": {},
   "source": [
    "## 4. apply the rotation matrix to the vector v=(3,7) and rotate it by 30 degrees counterclockwise, call this vector v30, and then by 90 degrees clockwise call this vector v90. plot them.\n",
    "\n",
    "Tip: to apply a rotation to a vector you need to perform a dot product. The numpy package has a function numpy.dot() (http://docs.scipy.org/doc/numpy/reference/generated/numpy.dot.html) as well as a method dot for all numpy.ndarray objects (http://docs.scipy.org/doc/numpy/reference/generated/numpy.ndarray.dot.html)."
   ]
  },
  {
   "cell_type": "code",
   "execution_count": null,
   "metadata": {
    "collapsed": true
   },
   "outputs": [],
   "source": []
  },
  {
   "cell_type": "markdown",
   "metadata": {},
   "source": [
    "## 5. Sum the vectors vLong and v90. Plot the original vectors with dashed grey lines and the resulting vector."
   ]
  },
  {
   "cell_type": "code",
   "execution_count": null,
   "metadata": {
    "collapsed": true
   },
   "outputs": [],
   "source": []
  },
  {
   "cell_type": "markdown",
   "metadata": {},
   "source": [
    "## 6. Two connected devices A and B have the following probabilities of failure: P(A)=6% and P(B)=5%, while once second device fails the first one does so with the conditional probability of $P(A|B)=60\\%$. a) What is the probability of two devices failing together? b) What is the probability of the second device to fail once the first one did?"
   ]
  },
  {
   "cell_type": "code",
   "execution_count": null,
   "metadata": {
    "collapsed": true
   },
   "outputs": [],
   "source": []
  },
  {
   "cell_type": "markdown",
   "metadata": {},
   "source": [
    "## 7. Given three stocks of devices A,B,C, such that A has 5% of defective items in it, B has 10% and C has 3%, we pick up a random device from a random stock and it turns out to be defective. What is the probability that it came from the stock C?\n"
   ]
  },
  {
   "cell_type": "code",
   "execution_count": null,
   "metadata": {
    "collapsed": true
   },
   "outputs": [],
   "source": []
  }
 ],
 "metadata": {
  "kernelspec": {
   "display_name": "Python 3",
   "language": "python",
   "name": "python3"
  },
  "language_info": {
   "codemirror_mode": {
    "name": "ipython",
    "version": 3
   },
   "file_extension": ".py",
   "mimetype": "text/x-python",
   "name": "python",
   "nbconvert_exporter": "python",
   "pygments_lexer": "ipython3",
   "version": "3.6.2"
  }
 },
 "nbformat": 4,
 "nbformat_minor": 1
}
