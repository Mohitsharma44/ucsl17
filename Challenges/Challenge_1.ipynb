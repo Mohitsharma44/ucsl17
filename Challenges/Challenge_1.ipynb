{
 "cells": [
  {
   "cell_type": "markdown",
   "metadata": {},
   "source": [
    "<h1 align='center'> Challenge 1 </h1>"
   ]
  },
  {
   "cell_type": "markdown",
   "metadata": {},
   "source": [
    "# 1. \n",
    "Given a string, return a \"rotated left 2\" version where the first 2 chars are moved to the end. The string length will be at least 2.\n",
    "\n",
    "`'Hello' → 'loHel'`\n",
    "\n",
    "`'java' → 'vaja'`\n",
    "\n",
    "`'Hi' → 'Hi'`"
   ]
  },
  {
   "cell_type": "code",
   "execution_count": null,
   "metadata": {},
   "outputs": [],
   "source": [
    "def rotate_left(inp):\n",
    "    ### Students will enter their code below\n",
    "    "
   ]
  },
  {
   "cell_type": "markdown",
   "metadata": {},
   "source": [
    "# 2.\n",
    "Change the following Python code from using a while loop to for loop:\n",
    "\n",
    "```\n",
    "x=1\n",
    "while x<10:\n",
    "       print x,\n",
    "       x+=1\n",
    "```"
   ]
  },
  {
   "cell_type": "code",
   "execution_count": null,
   "metadata": {},
   "outputs": [],
   "source": [
    "def while_to_for():\n",
    "    ### Students will enter their code below\n",
    "    "
   ]
  },
  {
   "cell_type": "markdown",
   "metadata": {},
   "source": [
    "# 3.\n",
    "Write a program that accepts a sentence and calculate the number of letters and digits.\n",
    "Suppose the following input is supplied to the program:\n",
    "\n",
    "`hello world! 123`\n",
    "Then, the output should be:\n",
    "\n",
    "```\n",
    "LETTERS 10\n",
    "DIGITS 3\n",
    "```"
   ]
  },
  {
   "cell_type": "code",
   "execution_count": null,
   "metadata": {},
   "outputs": [],
   "source": [
    "def letter_digit_counter(sentence):\n",
    "    ### Students will enter their code below\n",
    "    d={\"DIGITS\":0, \"LETTERS\":0}\n",
    "    "
   ]
  },
  {
   "cell_type": "markdown",
   "metadata": {},
   "source": [
    "# 4.\n",
    "Question:\n",
    "A website requires the users to input username and password to register. Write a program to check the validity of password input by users.\n",
    "\n",
    "Following are the criteria for checking the password:\n",
    "```\n",
    "1. At least 1 letter between [a-z]\n",
    "2. At least 1 number between [0-9]\n",
    "1. At least 1 letter between [A-Z]\n",
    "3. At least 1 character from [$#@]\n",
    "4. Minimum length of transaction password: 6\n",
    "5. Maximum length of transaction password: 12\n",
    "```\n",
    "\n",
    "Example:\n",
    "\n",
    "Input to the program:\n",
    "\n",
    "`ABd1234@1`\n",
    "\n",
    "The output should be `Strong Password`\n",
    "\n",
    "Whereas for inputs like:\n",
    "\n",
    "`a F1#`\n",
    "`2w3E*`\n",
    "`2We3345`\n",
    "\n",
    "The output should be `Weak Password`\n"
   ]
  },
  {
   "cell_type": "code",
   "execution_count": null,
   "metadata": {},
   "outputs": [],
   "source": [
    "def validate_password(password):\n",
    "    ### Students will enter their code below\n",
    "    # check for a lower case letter\n",
    "    \n",
    "    # check for a upper case letter\n",
    "    \n",
    "    # check for a number\n",
    "    \n",
    "    # check for special character\n",
    "    \n",
    "    # check if length matches criteria\n",
    "    "
   ]
  },
  {
   "cell_type": "code",
   "execution_count": null,
   "metadata": {},
   "outputs": [],
   "source": [
    "## Don't be stringent with the tests. This is the first time for students\n",
    "import unittest\n",
    "\n",
    "class TestModule1(unittest.TestCase):\n",
    "    def test_rotation(self):\n",
    "        self.assertEqual(rotate_left('Hi'),'Hi')\n",
    "        self.assertEqual(rotate_left('java'), 'vaja')\n",
    "        self.assertEqual(rotate_left('Hello'), 'loHel')\n",
    "        with self.assertRaises(ValueError) as ve:\n",
    "            rotate_left('A')\n",
    "    \n",
    "    def test_while_to_for(self):\n",
    "        self.assertEqual(while_to_for(), None)\n",
    "        \n",
    "    def test_letter_digit_counter(self):\n",
    "        self.assertEqual(letter_digit_counter('hello world! 123'), \n",
    "                         {\"LETTERS\": 10, \"DIGITS\": 3})\n",
    "    \n",
    "    def test_validate_password(self):\n",
    "        self.assertEqual(validate_password('ABd1234@1'), 'Strong Password')\n",
    "        self.assertEqual(validate_password('a F1#'), 'Weak Password')\n",
    "        self.assertEqual(validate_password('2w3E*'), 'Weak Password')\n",
    "        self.assertEqual(validate_password('2We3345'), 'Weak Password')\n",
    "\n",
    "unittest.main(argv=[''], verbosity=2, exit=False)"
   ]
  },
  {
   "cell_type": "code",
   "execution_count": null,
   "metadata": {},
   "outputs": [],
   "source": []
  }
 ],
 "metadata": {
  "kernelspec": {
   "display_name": "Python 3",
   "language": "python",
   "name": "python3"
  },
  "language_info": {
   "codemirror_mode": {
    "name": "ipython",
    "version": 3
   },
   "file_extension": ".py",
   "mimetype": "text/x-python",
   "name": "python",
   "nbconvert_exporter": "python",
   "pygments_lexer": "ipython3",
   "version": "3.7.2"
  }
 },
 "nbformat": 4,
 "nbformat_minor": 1
}
