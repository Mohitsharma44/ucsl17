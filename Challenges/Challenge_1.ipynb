{
 "cells": [
  {
   "cell_type": "markdown",
   "metadata": {},
   "source": [
    "<h1 align='center'> Challenge 1 </h1>\n",
    "### Submission Date: June 30 2017\n",
    "\n",
    "### Instructions:\n",
    "#### 1. Create a New Notebook in your home directory. (After you login to jupyter hub, select homedirs, then select your net id).\n",
    "#### 2. Name of your notebook should be \"Challenge_1_Solutions\" (without the quotes) and answer the challenges in it.\n",
    "#### 3. If you name your notebook anything other than above, you will not be graded.\n",
    "#### 4. Try not to miss the deadline. If you miss the deadline, let the TA know. Your finall score will be affected!\n",
    "#### 5. Plagiarism will not be tolerated."
   ]
  },
  {
   "cell_type": "markdown",
   "metadata": {},
   "source": [
    "# 1. \n",
    "Given a string, return a \"rotated left 2\" version where the first 2 chars are moved to the end. The string length will be at least 2.\n",
    "\n",
    "`'Hello' → 'lloHe'`\n",
    "\n",
    "`'java' → 'vaja'`\n",
    "\n",
    "`'Hi' → 'Hi'`"
   ]
  },
  {
   "cell_type": "markdown",
   "metadata": {},
   "source": [
    "# 2.\n",
    "Change the following Python code from using a while loop to for loop:\n",
    "\n",
    "```\n",
    "x=1\n",
    "while x<10:\n",
    "       print x,\n",
    "       x+=1\n",
    "```"
   ]
  },
  {
   "cell_type": "markdown",
   "metadata": {},
   "source": [
    "# 3.\n",
    "Write a program that accepts a sentence and calculate the number of letters and digits.\n",
    "Suppose the following input is supplied to the program:\n",
    "\n",
    "`hello world! 123`\n",
    "Then, the output should be:\n",
    "\n",
    "```\n",
    "LETTERS 10\n",
    "DIGITS 3\n",
    "```"
   ]
  },
  {
   "cell_type": "markdown",
   "metadata": {},
   "source": [
    "# 4.\n",
    "Write a program that computes the net amount of a bank account based a transaction log from console input. The transaction log format is shown as following:\n",
    "```\n",
    "D 100\n",
    "W 200\n",
    "```\n",
    "where D means deposit while W means withdrawal.\n",
    "Suppose the following input is supplied to the program:\n",
    "```\n",
    "D 300\n",
    "D 300\n",
    "W 200\n",
    "D 100\n",
    "```\n",
    "Then, the output should be:\n",
    "500"
   ]
  },
  {
   "cell_type": "markdown",
   "metadata": {},
   "source": [
    "# 5.\n",
    "Question:\n",
    "A website requires the users to input username and password to register. Write a program to check the validity of password input by users.\n",
    "\n",
    "Following are the criteria for checking the password:\n",
    "```\n",
    "1. At least 1 letter between [a-z]\n",
    "2. At least 1 number between [0-9]\n",
    "1. At least 1 letter between [A-Z]\n",
    "3. At least 1 character from [$#@]\n",
    "4. Minimum length of transaction password: 6\n",
    "5. Maximum length of transaction password: 12\n",
    "```\n",
    "\n",
    "Example:\n",
    "\n",
    "Input to the program:\n",
    "\n",
    "`ABd1234@1`\n",
    "\n",
    "The output should be `Strong Password`\n",
    "\n",
    "Whereas for inputs like:\n",
    "\n",
    "`a F1#`\n",
    "`2w3E*`\n",
    "`2We3345`\n",
    "\n",
    "The output should be `Weak Password`\n"
   ]
  }
 ],
 "metadata": {
  "kernelspec": {
   "display_name": "Python 3",
   "language": "python",
   "name": "python3"
  },
  "language_info": {
   "codemirror_mode": {
    "name": "ipython",
    "version": 3
   },
   "file_extension": ".py",
   "mimetype": "text/x-python",
   "name": "python",
   "nbconvert_exporter": "python",
   "pygments_lexer": "ipython3",
   "version": "3.7.2"
  }
 },
 "nbformat": 4,
 "nbformat_minor": 1
}
