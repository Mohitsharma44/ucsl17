{
 "cells": [
  {
   "cell_type": "markdown",
   "metadata": {},
   "source": [
    "<h1 align='center'>Challenge 5</h1>"
   ]
  },
  {
   "cell_type": "markdown",
   "metadata": {},
   "source": [
    "\n",
    "## Question:\n",
    "\n",
    "** The recent Citi Bike data has garnered a lot of attention. Try to find some insight from this data: **\n",
    "\n",
    "** 1. Calculate the `average trip time`. **\n",
    "\n",
    "** 2. Visualize the `male - female` and `subscriber - tourist` ridership of the citi bikes over the period of a month. **\n",
    "\n",
    "** 3. Visualize the `citibike usage by gender` for a month averaged over a period of 24 hours. **\n",
    "\n",
    "> You can download the citibike data set from here: https://s3.amazonaws.com/tripdata/index.html\n",
    "\n",
    "> ps: Only download data for one particular month (your choice). Don't try to use multiple months for this homework."
   ]
  },
  {
   "cell_type": "markdown",
   "metadata": {},
   "source": [
    "### Note:\n",
    "\n",
    ">#### Header of CSV file:\n",
    "- `Trip Duration (seconds)`\n",
    "- `Start Time and Date`\n",
    "- `Stop Time and Date`\n",
    "- `Start Station id`\n",
    "- `Start Station Name`\n",
    "- `Start Station Latitude`\n",
    "- `Start Station Longitude`\n",
    "- `End Station id`\n",
    "- `End Station Name`\n",
    "- `End Station Latitude`\n",
    "- `End Station Longitude`\n",
    "- `Bike ID`\n",
    "- `User Type (Customer = 24-hour pass or 7-day pass user; Subscriber = Annual Member)`\n",
    "- `Year of Birth`\n",
    "- `Gender (0=unknown; 1=male; 2=female)`\n",
    "\n",
    ">#### You can use this cheat sheet as a reference guide to complete your python challenge. You are allowed to use google. Use comments to explain what your code is doing.\n",
    ">#### A screenshot with the output is attached for your reference. \n",
    "\n",
    "## Instructions:\n",
    "\n",
    "1. You can google.\n",
    "2. You are not allowed to use 3rd party API for plotting graphs like plotly. You are required to use Matplotlib.\n",
    "3. If you think any other type of plot will help better understand the data, feel free to implement them.\n",
    "4. All the plots are expected to be in the same panel so be wise about the axis ratio when plotting."
   ]
  },
  {
   "cell_type": "markdown",
   "metadata": {},
   "source": [
    "##### Packages that you might need. \n",
    "`1. Numpy`\n",
    "\n",
    "`2. Pandas`\n",
    "\n",
    "`3. Matplotlib`\n",
    "\n",
    "`4. datetime`"
   ]
  },
  {
   "cell_type": "markdown",
   "metadata": {},
   "source": [
    "### Some methods that you might need from these packages:\n",
    "\n",
    "#### `Numpy:`\n",
    "\n",
    "* [`genfromtxt`](http://docs.scipy.org/doc/numpy/reference/generated/numpy.genfromtxt.html \"genfromtxt\")     OR     [`loadtxt`](http://docs.scipy.org/doc/numpy/reference/generated/numpy.loadtxt.html \"loadtxt\")\n",
    "* [`histogram`](http://docs.scipy.org/doc/numpy/reference/generated/numpy.histogram.html \"histogram\")\n",
    "* [`max`](http://docs.scipy.org/doc/numpy/reference/generated/numpy.ndarray.max.html \"max\")\n",
    "* [`min`](http://docs.scipy.org/doc/numpy/reference/generated/numpy.ndarray.min.html \"min\")\n",
    "* [`mean`](http://docs.scipy.org/doc/numpy/reference/generated/numpy.mean.html \"mean\")\n",
    "* [`average`](http://docs.scipy.org/doc/numpy/reference/generated/numpy.average.html \"average\")"
   ]
  },
  {
   "cell_type": "markdown",
   "metadata": {},
   "source": [
    "#### `Pandas`\n",
    "\n",
    "* [`read_csv`](http://pandas.pydata.org/pandas-docs/stable/generated/pandas.read_csv.html \"read_csv\")"
   ]
  },
  {
   "cell_type": "markdown",
   "metadata": {},
   "source": [
    "#### ` Matplotlib pyplot`\n",
    "\n",
    "* [`gridspec`](http://matplotlib.org/users/gridspec.html \"gridspec and subplotspec\")\n",
    "* [`title`](http://matplotlib.org/api/pyplot_api.html#matplotlib.pyplot.title \"title\")\n",
    "* [`xlabel`](http://matplotlib.org/api/pyplot_api.html#matplotlib.pyplot.xlabel \"xlabel\")\n",
    "* [`ylabel`](http://matplotlib.org/api/pyplot_api.html#matplotlib.pyplot.ylabel \"ylabel\")\n",
    "* [`xticks`](http://matplotlib.org/api/pyplot_api.html#matplotlib.pyplot.xticks \"xticks\")\n",
    "* [`legend`](http://matplotlib.org/api/pyplot_api.html#matplotlib.pyplot.legend \"legend\")\n",
    "* [`xlim`](http://matplotlib.org/api/pyplot_api.html#matplotlib.pyplot.xlim \"xlim\")\n",
    "* [`ylim`](http://matplotlib.org/api/pyplot_api.html#matplotlib.pyplot.ylim \"ylim\")\n",
    "* [`axis`](http://matplotlib.org/1.4.1/api/pyplot_api.html#matplotlib.pyplot.axis \"axis\")\n",
    "* [`save/show`](http://matplotlib.org/api/pyplot_api.html#matplotlib.pyplot.show \"show\")\n",
    "* [`hist`](http://matplotlib.org/api/pyplot_api.html#matplotlib.pyplot.hist \"hist\")\n",
    "* [`bar`](http://matplotlib.org/api/pyplot_api.html#matplotlib.pyplot.bar \"bar\")\n",
    "* [`plot`](http://matplotlib.org/api/pyplot_api.html#matplotlib.pyplot.plot \"plot\")\n",
    "* [`tick_params`](http://matplotlib.org/api/axes_api.html#matplotlib.axes.Axes.tick_params \"tick_params\")\n",
    "* [`text`](http://matplotlib.org/api/pyplot_api.html#matplotlib.pyplot.text \"text\")\n",
    "* [`horizontalalignment`](http://matplotlib.org/users/text_props.html \"ha\")"
   ]
  },
  {
   "cell_type": "markdown",
   "metadata": {},
   "source": [
    "#### ` String Methods `\n",
    "* [`strip`](https://docs.python.org/2/library/string.html#string.strip \"strip\")\n",
    "* [`split`](https://docs.python.org/2/library/string.html#string.split \"split\")"
   ]
  },
  {
   "cell_type": "markdown",
   "metadata": {},
   "source": [
    "#### ` Datetime `\n",
    "* [`strptime`](https://docs.python.org/2/library/datetime.html#strftime-strptime-behavior 'strptime')"
   ]
  },
  {
   "cell_type": "markdown",
   "metadata": {},
   "source": [
    "## Reference Output 1\n",
    "------------------\n",
    "![Citibike Challenge 1](../notebooks/images/citibike_sample/cbc.png \"Citybike Challenge\")\n",
    "\n",
    "#### `Citibike Challenge Reference fig 1`"
   ]
  },
  {
   "cell_type": "markdown",
   "metadata": {},
   "source": [
    "## Reference Output 2\n",
    "---------------\n",
    "![Citibike Challenge 2](../notebooks/images/citibike_sample/cbc2.png \"Citybike Challenge\")\n",
    "\n",
    "\n",
    "#### `Citibike Challenge Reference fig 2`"
   ]
  },
  {
   "cell_type": "code",
   "execution_count": null,
   "metadata": {
    "collapsed": true
   },
   "outputs": [],
   "source": []
  }
 ],
 "metadata": {
  "kernelspec": {
   "display_name": "Python 3",
   "language": "python",
   "name": "python3"
  },
  "language_info": {
   "codemirror_mode": {
    "name": "ipython",
    "version": 3
   },
   "file_extension": ".py",
   "mimetype": "text/x-python",
   "name": "python",
   "nbconvert_exporter": "python",
   "pygments_lexer": "ipython3",
   "version": "3.7.2"
  }
 },
 "nbformat": 4,
 "nbformat_minor": 1
}
