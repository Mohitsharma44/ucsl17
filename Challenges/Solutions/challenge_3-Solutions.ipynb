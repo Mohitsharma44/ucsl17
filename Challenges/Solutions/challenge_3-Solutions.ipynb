{
 "cells": [
  {
   "cell_type": "markdown",
   "metadata": {},
   "source": [
    "# Challenge 3 -- Numpy\n",
    "\n",
    "#### Note:\n",
    "\n",
    "> By this time you must be able to write fail-safe code as much as possible. Things like:\n",
    "> - making sure the functions arguments have default value\n",
    "> - functions have proper documentation\n",
    "> - put your code in try except blocks wherever necessary"
   ]
  },
  {
   "cell_type": "markdown",
   "metadata": {},
   "source": [
    "### 1. Create a `n x n` matrix and fill it with a [checkerboard pattern](https://en.wikipedia.org/wiki/Checkerboard).\n",
    "\n",
    "> If the value of n < 0, compute the function as if value of n is 0"
   ]
  },
  {
   "cell_type": "code",
   "execution_count": 1,
   "metadata": {},
   "outputs": [],
   "source": [
    "import numpy as np\n",
    "\n",
    "def checkboard_pattern(n=0):\n",
    "    \"\"\"\n",
    "    Create a checkerboard pattern for a square matrix of shape n x n\n",
    "    \"\"\"\n",
    "    if n < 0:\n",
    "        n = 0\n",
    "    arr = np.zeros((n,n),dtype=int)\n",
    "    arr[1::2,::2] = 1\n",
    "    arr[::2,1::2] = 1\n",
    "    return(arr)"
   ]
  },
  {
   "cell_type": "markdown",
   "metadata": {},
   "source": [
    "### 2. Count the number of business days for a given year and month. \n",
    "\n",
    "> Hint: \n",
    "> - Use numpy's datetime datatype\n",
    "> - The month and year will be passed as integer\n",
    "(If month and/or year are not `int` then raise TypeError)"
   ]
  },
  {
   "cell_type": "code",
   "execution_count": 2,
   "metadata": {},
   "outputs": [],
   "source": [
    "import numpy as np\n",
    "\n",
    "def business_days(year=None, month=None):\n",
    "    if not(type(year) == int and type(month) == int):\n",
    "        raise TypeError\n",
    "    dates = np.arange('{}-{:02d}'.format(year, month), \n",
    "                      '{}-{:02d}'.format(year, month+1), \n",
    "                       dtype='datetime64[D]')\n",
    "    business_days_count = np.count_nonzero(np.is_busday(dates))\n",
    "    return business_days_count"
   ]
  },
  {
   "cell_type": "markdown",
   "metadata": {},
   "source": [
    "### 3. For a given n-dimensional array, Perform `addition` operation along the requested axis.\n",
    "\n",
    "The function will accept 2 parameters -- array and axis. You need to compute the sum along the given `axis`\n",
    "\n",
    "> Hint\n",
    "> - Raise ValueError if for some reason the computation cannot be performed"
   ]
  },
  {
   "cell_type": "code",
   "execution_count": 3,
   "metadata": {},
   "outputs": [],
   "source": [
    "def compute_sum(arr=None, axis=None):\n",
    "    dimensions = arr.ndim\n",
    "    if not axis <= dimensions:\n",
    "        raise ValueError\n",
    "    result = arr.sum(axis=axis)\n",
    "    return result"
   ]
  },
  {
   "cell_type": "code",
   "execution_count": 4,
   "metadata": {},
   "outputs": [
    {
     "name": "stderr",
     "output_type": "stream",
     "text": [
      "test_business_days (__main__.TestModule3) ... ok\n",
      "test_checkboard_pattern (__main__.TestModule3) ... ok\n",
      "test_compute_sum (__main__.TestModule3) ... ok\n",
      "\n",
      "----------------------------------------------------------------------\n",
      "Ran 3 tests in 0.013s\n",
      "\n",
      "OK\n"
     ]
    },
    {
     "data": {
      "text/plain": [
       "<unittest.main.TestProgram at 0x111759978>"
      ]
     },
     "execution_count": 4,
     "metadata": {},
     "output_type": "execute_result"
    }
   ],
   "source": [
    "import unittest\n",
    "import numpy.testing as ntest\n",
    "\n",
    "class TestModule3(unittest.TestCase):\n",
    "    def test_checkboard_pattern(self):\n",
    "        ntest.assert_array_almost_equal(np.array([]).reshape(0, 0), checkboard_pattern(0))\n",
    "        ntest.assert_array_almost_equal(np.array([[0]]).reshape(1, 1), checkboard_pattern(1))\n",
    "        ntest.assert_array_almost_equal(\n",
    "            np.array([[0, 1, 0, 1],\n",
    "                      [1, 0, 1, 0],\n",
    "                      [0, 1, 0, 1],\n",
    "                      [1, 0, 1, 0]]), \n",
    "            checkboard_pattern(4))\n",
    "        ntest.assert_array_almost_equal(np.array([]).reshape(0, 0), checkboard_pattern(-3))\n",
    "        \n",
    "    def test_business_days(self):\n",
    "        ntest.assert_equal(23, business_days(year=2018, month=5))\n",
    "        ntest.assert_raises(TypeError, business_days, '2018', 5)\n",
    "        ntest.assert_raises(TypeError, business_days, 2018, '5')\n",
    "\n",
    "    def test_compute_sum(self):\n",
    "        input_arr = np.arange(1, 9).reshape(2,2,2)\n",
    "        ntest.assert_equal(input_arr.sum(axis=1), compute_sum(arr=input_arr, axis=1))\n",
    "        ntest.assert_equal(input_arr.sum(axis=2), compute_sum(arr=input_arr, axis=2))\n",
    "        ntest.assert_equal(input_arr.sum(axis=0), compute_sum(arr=input_arr, axis=0))\n",
    "        ntest.assert_raises(ValueError, compute_sum, input_arr, 5)\n",
    "        \n",
    "unittest.main(argv=[''], verbosity=2, exit=False)  "
   ]
  },
  {
   "cell_type": "code",
   "execution_count": null,
   "metadata": {},
   "outputs": [],
   "source": []
  }
 ],
 "metadata": {
  "kernelspec": {
   "display_name": "Python 3",
   "language": "python",
   "name": "python3"
  },
  "language_info": {
   "codemirror_mode": {
    "name": "ipython",
    "version": 3
   },
   "file_extension": ".py",
   "mimetype": "text/x-python",
   "name": "python",
   "nbconvert_exporter": "python",
   "pygments_lexer": "ipython3",
   "version": "3.7.2"
  }
 },
 "nbformat": 4,
 "nbformat_minor": 2
}
