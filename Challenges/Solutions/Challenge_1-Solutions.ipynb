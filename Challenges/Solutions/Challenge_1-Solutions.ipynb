{
 "cells": [
  {
   "cell_type": "markdown",
   "metadata": {},
   "source": [
    "<h1 align='center'> Challenge 1 Solutions</h1>"
   ]
  },
  {
   "cell_type": "markdown",
   "metadata": {},
   "source": [
    "# 1. \n",
    "Given a string, return a \"rotated left 2\" version where the first 2 chars are moved to the end. The string length will be at least 2.\n",
    "\n",
    "`'Hello' → 'loHel'`\n",
    "\n",
    "`'java' → 'vaja'`\n",
    "\n",
    "`'Hi' → 'Hi'`"
   ]
  },
  {
   "cell_type": "code",
   "execution_count": 1,
   "metadata": {},
   "outputs": [],
   "source": [
    "def rotate_left(inp):\n",
    "    ### Students will enter their code below\n",
    "    if len(inp) >= 2:\n",
    "        return(inp[-2:] + inp[:-2])\n",
    "    else:\n",
    "        raise ValueError"
   ]
  },
  {
   "cell_type": "markdown",
   "metadata": {},
   "source": [
    "# 2.\n",
    "Change the following Python code from using a while loop to for loop:\n",
    "\n",
    "```\n",
    "x=1\n",
    "while x<10:\n",
    "       print x,\n",
    "       x+=1\n",
    "```"
   ]
  },
  {
   "cell_type": "code",
   "execution_count": 2,
   "metadata": {},
   "outputs": [],
   "source": [
    "def while_to_for():\n",
    "    ### Students will enter their code below\n",
    "    for x in range(1, 10):\n",
    "        print(x)"
   ]
  },
  {
   "cell_type": "markdown",
   "metadata": {},
   "source": [
    "# 3.\n",
    "Write a program that accepts a sentence and calculate the number of letters and digits.\n",
    "Suppose the following input is supplied to the program:\n",
    "\n",
    "`hello world! 123`\n",
    "Then, the output should be:\n",
    "\n",
    "```\n",
    "LETTERS 10\n",
    "DIGITS 3\n",
    "```"
   ]
  },
  {
   "cell_type": "code",
   "execution_count": 3,
   "metadata": {},
   "outputs": [],
   "source": [
    "def letter_digit_counter(sentence):\n",
    "    ### Students will enter their code below\n",
    "    d={\"DIGITS\":0, \"LETTERS\":0}\n",
    "    for c in sentence:\n",
    "        if c.isdigit():\n",
    "            d[\"DIGITS\"] += 1\n",
    "        elif c.isalpha():\n",
    "            d[\"LETTERS\"] += 1\n",
    "        else:\n",
    "            pass\n",
    "    print(\"LETTERS\", d[\"LETTERS\"])\n",
    "    print(\"DIGITS\", d[\"DIGITS\"])\n",
    "    return d"
   ]
  },
  {
   "cell_type": "markdown",
   "metadata": {},
   "source": [
    "# 4.\n",
    "Question:\n",
    "A website requires the users to input username and password to register. Write a program to check the validity of password input by users.\n",
    "\n",
    "Following are the criteria for checking the password:\n",
    "```\n",
    "1. At least 1 letter between [a-z]\n",
    "2. At least 1 number between [0-9]\n",
    "1. At least 1 letter between [A-Z]\n",
    "3. At least 1 character from [$#@]\n",
    "4. Minimum length of transaction password: 6\n",
    "5. Maximum length of transaction password: 12\n",
    "```\n",
    "\n",
    "Example:\n",
    "\n",
    "Input to the program:\n",
    "\n",
    "`ABd1234@1`\n",
    "\n",
    "The output should be `Strong Password`\n",
    "\n",
    "Whereas for inputs like:\n",
    "\n",
    "`a F1#`\n",
    "`2w3E*`\n",
    "`2We3345`\n",
    "\n",
    "The output should be `Weak Password`\n"
   ]
  },
  {
   "cell_type": "code",
   "execution_count": 4,
   "metadata": {},
   "outputs": [],
   "source": [
    "def validate_password(password):\n",
    "    ### Students will enter their code below\n",
    "    # check for a lower case letter\n",
    "    lowercase = [c for c in password if c.islower()]\n",
    "    # check for a upper case letter\n",
    "    uppercase = [c for c in password if c.isupper()]\n",
    "    # check for a number\n",
    "    number = [c for c in password if c.isnumeric()]\n",
    "    # check for special character\n",
    "    spcl = [c for c in password if c in '$#@']\n",
    "    # check if length matches criteria\n",
    "    lenmatch = 6 < len(password) < 12\n",
    "    if lowercase and uppercase and number and spcl and lenmatch:\n",
    "        return(\"Strong Password\")\n",
    "    else:\n",
    "        return(\"Weak Password\")"
   ]
  },
  {
   "cell_type": "code",
   "execution_count": 5,
   "metadata": {},
   "outputs": [
    {
     "name": "stderr",
     "output_type": "stream",
     "text": [
      "test_letter_digit_counter (__main__.TestModule1) ... ok\n",
      "test_rotation (__main__.TestModule1) ... ok\n",
      "test_validate_password (__main__.TestModule1) ... ok\n",
      "test_while_to_for (__main__.TestModule1) ... "
     ]
    },
    {
     "name": "stdout",
     "output_type": "stream",
     "text": [
      "LETTERS 10\n",
      "DIGITS 3\n",
      "1\n",
      "2\n",
      "3\n",
      "4\n",
      "5\n",
      "6\n",
      "7\n",
      "8\n",
      "9\n"
     ]
    },
    {
     "name": "stderr",
     "output_type": "stream",
     "text": [
      "ok\n",
      "\n",
      "----------------------------------------------------------------------\n",
      "Ran 4 tests in 0.015s\n",
      "\n",
      "OK\n"
     ]
    },
    {
     "data": {
      "text/plain": [
       "<unittest.main.TestProgram at 0x102d84710>"
      ]
     },
     "execution_count": 5,
     "metadata": {},
     "output_type": "execute_result"
    }
   ],
   "source": [
    "## Don't be stringent with the tests. This is the first time for students\n",
    "import unittest\n",
    "\n",
    "class TestModule1(unittest.TestCase):\n",
    "    def test_rotation(self):\n",
    "        self.assertEqual(rotate_left('Hi'),'Hi')\n",
    "        self.assertEqual(rotate_left('java'), 'vaja')\n",
    "        self.assertEqual(rotate_left('Hello'), 'loHel')\n",
    "        with self.assertRaises(ValueError) as ve:\n",
    "            rotate_left('A')\n",
    "    \n",
    "    def test_while_to_for(self):\n",
    "        self.assertEqual(while_to_for(), None)\n",
    "        \n",
    "    def test_letter_digit_counter(self):\n",
    "        self.assertEqual(letter_digit_counter('hello world! 123'), \n",
    "                         {\"LETTERS\": 10, \"DIGITS\": 3})\n",
    "    \n",
    "    def test_validate_password(self):\n",
    "        self.assertEqual(validate_password('ABd1234@1'), 'Strong Password')\n",
    "        self.assertEqual(validate_password('a F1#'), 'Weak Password')\n",
    "        self.assertEqual(validate_password('2w3E*'), 'Weak Password')\n",
    "        self.assertEqual(validate_password('2We3345'), 'Weak Password')\n",
    "\n",
    "unittest.main(argv=[''], verbosity=2, exit=False)"
   ]
  },
  {
   "cell_type": "code",
   "execution_count": null,
   "metadata": {},
   "outputs": [],
   "source": []
  }
 ],
 "metadata": {
  "kernelspec": {
   "display_name": "Python 3",
   "language": "python",
   "name": "python3"
  },
  "language_info": {
   "codemirror_mode": {
    "name": "ipython",
    "version": 3
   },
   "file_extension": ".py",
   "mimetype": "text/x-python",
   "name": "python",
   "nbconvert_exporter": "python",
   "pygments_lexer": "ipython3",
   "version": "3.7.2"
  }
 },
 "nbformat": 4,
 "nbformat_minor": 1
}
