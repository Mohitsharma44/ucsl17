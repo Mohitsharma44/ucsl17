{
 "cells": [
  {
   "cell_type": "markdown",
   "metadata": {},
   "source": [
    "## Introduction to Matplotlib\n",
    "[Matplotlib](https://matplotlib.org/index.html)(also abbreviated “mpl”) is probably the single most used Python package for 2D-graphics. It produces publication quality figures in a variety of hardcopy formats and interactive environments across platforms. Matplotlib can be used in Python scripts, the Python and IPython shells, the Jupyter notebook, web application servers, and four graphical user interface toolkits.\n",
    "\n",
    "Matplotlib tries to make easy things easy and hard things possible. You can generate plots, histograms, power spectra, bar charts, errorcharts, scatterplots, etc., with just a few lines of code. For examples, see the [sample plots](https://matplotlib.org/tutorials/introductory/sample_plots.html) and [thumbnail gallery](https://matplotlib.org/gallery/index.html).\n",
    "\n",
    "In this module, we are going to explore matplotlib in interactive mode (i.e. for Jupyter notebooks/ ipython environments)\n",
    "\n",
    "The matplotlib code is best thought of as divided into three distinct parts:\n",
    "\n",
    "- __The pylab interface__ is the set of functions provided by matplotlib.pylab which allow the user to create plots with code quite similar to MATLABfigure generating code.\n",
    "- __The matplotlib frontend or matplotlib API__ is the set of classes that do the heavy lifting, creating and managing figures, text, lines, plots and so on. This is an abstract interface that knows nothing about output.\n",
    "- __The backends__ are device-dependent drawing devices, aka renderers, that transform the frontend representation to hardcopy or a display device.\n",
    "\n",
    "### Gallery\n",
    "You’ll be amazed at your development in your next few years at CUSP. As you progress you might even find yourself saying something like \"I want a sine plot and a cosine plot together, but want them  to share the x axis.\"  And good luck getting an answer from a web search! This is why the Matplotlib Gallery is so useful. \n",
    "\n",
    "[Matplotlib Gallery](http://matplotlib.org/gallery.html \"Matplotlib Gallery\") showcases the variety forms your plots can take. If you browse through the gallery, you can click on the figure to see the coda and borrow all or parts, combine it, or change things completely. Soon enough, you will be like a chef, mixing and matching components to produce your masterpiece!\n"
   ]
  }
 ],
 "metadata": {
  "kernelspec": {
   "display_name": "Python 3",
   "language": "python",
   "name": "python3"
  },
  "language_info": {
   "codemirror_mode": {
    "name": "ipython",
    "version": 3
   },
   "file_extension": ".py",
   "mimetype": "text/x-python",
   "name": "python",
   "nbconvert_exporter": "python",
   "pygments_lexer": "ipython3",
   "version": "3.7.2"
  }
 },
 "nbformat": 4,
 "nbformat_minor": 2
}
