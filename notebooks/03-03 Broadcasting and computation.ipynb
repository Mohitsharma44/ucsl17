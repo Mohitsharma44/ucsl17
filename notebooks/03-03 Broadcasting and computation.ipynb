{
 "cells": [
  {
   "cell_type": "markdown",
   "metadata": {},
   "source": [
    "## Broadcasting and more Computation\n",
    "\n",
    "### Broadcasting\n",
    "[Broadcasting](https://docs.scipy.org/doc/numpy-1.13.0/reference/ufuncs.html#broadcasting) is a set of rules for performing arithmetic operations  (e.g., addition, subtraction, multiplication, etc.) on arrays of different shapes. It is an important functionality to leverage the power of NumPy.\n",
    "\n",
    "If you recall, NumPy Arithmetic  operations are performed element-wise. Let’s take a look at adding a [scalar](https://docs.scipy.org/doc/numpy-1.13.0/reference/arrays.scalars.html). "
   ]
  },
  {
   "cell_type": "code",
   "execution_count": 11,
   "metadata": {},
   "outputs": [
    {
     "name": "stdout",
     "output_type": "stream",
     "text": [
      "Arr1: \n",
      "[ 4 11 33 24 17]\n",
      "\n",
      "num : \n",
      "5\n",
      "\n",
      "Sum : \n",
      "[ 9 16 38 29 22]\n",
      "\n"
     ]
    }
   ],
   "source": [
    "from __future__ import print_function\n",
    "import numpy as np\n",
    "arr1 = np.random.randint(1, 40, 5)\n",
    "num  = 5\n",
    "print(\"Arr1: \\n{}\".format(arr1), end=\"\\n\\n\")\n",
    "print(\"num : \\n{}\".format(num), end=\"\\n\\n\")\n",
    "print(\"Sum : \\n{}\".format(arr1+num), end=\"\\n\\n\")"
   ]
  },
  {
   "cell_type": "markdown",
   "metadata": {},
   "source": [
    "Broadcasting allows these types of binary operations to be performed on arrays of different sizes just as we added a scalar (think of a scalar as a zero-dimensional array) to the array.\n",
    "\n",
    "We can think of this as an operation that *stretches* or *duplicates* the value `5` into the array `[5, 5, 5, 5, 5]`, and adds it to the array. This duplication does not actually take place during Broadcasting but it is a useful logic to remember when you talk about broadcasting.\n",
    "\n",
    "Just like adding scalar, we can perform broadcasting on multi-dimensional arrays as well.. however there are rules to be followed for `broadcasting` to work.\n",
    "\n",
    "- Rule 1: If the two arrays differ in their number of dimensions, the shape of the one with fewer dimensions is *padded* with ones on its leading (left) side.\n",
    "- Rule 2: If the shape of the two arrays does not match in any dimension, the array with shape equal to 1 in that dimension is stretched to match the other shape.\n",
    "- Rule 3: If in any dimension the sizes disagree and neither is equal to 1, an error is raised.\n",
    "\n",
    "Let's add two arrays of different sizes"
   ]
  },
  {
   "cell_type": "code",
   "execution_count": 12,
   "metadata": {},
   "outputs": [],
   "source": [
    "arr1 = np.ones((3, 4))\n",
    "arr2 = np.arange(4)"
   ]
  },
  {
   "cell_type": "markdown",
   "metadata": {},
   "source": [
    "Lets match these arrays to our set of Rules.\n",
    "\n",
    "Rule 1: Shape mismatch!\n",
    "- arr1 is of shape `m1 x n1 = 3 x 4`\n",
    "- arr2 is of shape `m2 x n2 = 1 x 4`\n",
    "\n",
    "Rule 2: **Stretch** `m2` or the first dimension of arr2 to match `m1` or the first dimension of arr1. So now,\n",
    "- arr1 is of shape `m1 x n1 = 3 x 4`\n",
    "- arr2 is of shape `m2 x n2 = 3 x 4`\n",
    "\n",
    "Rule 3: Doesnt apply since m1 x n1 = m2 x n2"
   ]
  },
  {
   "cell_type": "code",
   "execution_count": 13,
   "metadata": {},
   "outputs": [
    {
     "data": {
      "text/plain": [
       "array([[1., 2., 3., 4.],\n",
       "       [1., 2., 3., 4.],\n",
       "       [1., 2., 3., 4.]])"
      ]
     },
     "execution_count": 13,
     "metadata": {},
     "output_type": "execute_result"
    }
   ],
   "source": [
    "arr1 + arr2"
   ]
  },
  {
   "cell_type": "markdown",
   "metadata": {},
   "source": [
    "Now lets look at an example where we add arr1 to the transpose of arr1 itself. Lets first print out the transpose and then we shall apply the rules as we did for previous example"
   ]
  },
  {
   "cell_type": "code",
   "execution_count": 14,
   "metadata": {},
   "outputs": [
    {
     "name": "stdout",
     "output_type": "stream",
     "text": [
      "Arr1: \n",
      "[[1. 1. 1. 1.]\n",
      " [1. 1. 1. 1.]\n",
      " [1. 1. 1. 1.]]\n",
      "arr1.shape: (3, 4)\n",
      "\n",
      "Arr1 Transpose: \n",
      "[[1. 1. 1.]\n",
      " [1. 1. 1.]\n",
      " [1. 1. 1.]\n",
      " [1. 1. 1.]]\n",
      "arr1.T.shape: (4, 3)\n"
     ]
    }
   ],
   "source": [
    "print(\"Arr1: \\n{}\".format(arr1))\n",
    "print(\"arr1.shape: {}\".format(arr1.shape), end=\"\\n\\n\")\n",
    "print(\"Arr1 Transpose: \\n{}\".format(arr1.T))\n",
    "print(\"arr1.T.shape: {}\".format(arr1.T.shape))"
   ]
  },
  {
   "cell_type": "markdown",
   "metadata": {},
   "source": [
    "Lets apply our rules:\n",
    "\n",
    "Rule 1: Shape mismatch!\n",
    "- arr1 is of shape   `m1 x n1 = 3 x 4`\n",
    "- arr1.T is of shape `m2 x n2 = 4 x 3`\n",
    "\n",
    "Rule 2: **Stretch** `m1` or the first dimension of arr1 to match `m2` or the first dimension of arr1.T. So now,\n",
    "- arr1 is of shape   `m1 x n1 = 4 x 4`\n",
    "- arr1.T is of shape `m2 x n2 = 4 x 3`\n",
    "\n",
    "Rule 3: `n1` and `n2` or the second dimension of both the arrays are definitely not `1` and they don't match! This will raise a `ValueError`"
   ]
  },
  {
   "cell_type": "code",
   "execution_count": 15,
   "metadata": {},
   "outputs": [
    {
     "ename": "ValueError",
     "evalue": "operands could not be broadcast together with shapes (3,4) (4,3) ",
     "output_type": "error",
     "traceback": [
      "\u001b[0;31m---------------------------------------------------------------------------\u001b[0m",
      "\u001b[0;31mValueError\u001b[0m                                Traceback (most recent call last)",
      "\u001b[0;32m<ipython-input-15-c545f5548cf5>\u001b[0m in \u001b[0;36m<module>\u001b[0;34m\u001b[0m\n\u001b[0;32m----> 1\u001b[0;31m \u001b[0marr1\u001b[0m \u001b[0;34m+\u001b[0m \u001b[0marr1\u001b[0m\u001b[0;34m.\u001b[0m\u001b[0mT\u001b[0m\u001b[0;34m\u001b[0m\u001b[0;34m\u001b[0m\u001b[0m\n\u001b[0m",
      "\u001b[0;31mValueError\u001b[0m: operands could not be broadcast together with shapes (3,4) (4,3) "
     ]
    }
   ],
   "source": [
    "arr1 + arr1.T"
   ]
  },
  {
   "cell_type": "markdown",
   "metadata": {},
   "source": []
  },
  {
   "cell_type": "markdown",
   "metadata": {},
   "source": [
    "### Aggregation\n",
    "When performing analysis on any dataset, most of the times the first thing that you would end up doing is finding the summary statistics of the datasets. Things like maximum, minimum, mean, variance etc. is the first thing you would look at (for the relevant columns). NumPy provides such fast-performing aggregation ufuncs. Let’s take a look at some.\n",
    "\n",
    "#### sum\n",
    "As the name suggests, this function will return the sum of all the values of an array"
   ]
  },
  {
   "cell_type": "code",
   "execution_count": 17,
   "metadata": {},
   "outputs": [
    {
     "name": "stdout",
     "output_type": "stream",
     "text": [
      "Sum of 1D: 3523669\n"
     ]
    }
   ],
   "source": [
    "arr = np.random.randint(1, 700, 10000)\n",
    "print(\"Sum of 1D: {}\".format(np.sum(arr)))"
   ]
  },
  {
   "cell_type": "code",
   "execution_count": 18,
   "metadata": {},
   "outputs": [
    {
     "name": "stdout",
     "output_type": "stream",
     "text": [
      "Sum of 2D: 4799.3895404712175\n"
     ]
    }
   ],
   "source": [
    "arr2d = np.random.uniform(1, 700, (3, 4))\n",
    "print(\"Sum of 2D: {}\".format(np.sum(arr2d)))"
   ]
  },
  {
   "cell_type": "markdown",
   "metadata": {},
   "source": [
    "#### max and min\n",
    "This will find the maximum and minimum value in an array."
   ]
  },
  {
   "cell_type": "code",
   "execution_count": 19,
   "metadata": {},
   "outputs": [
    {
     "name": "stdout",
     "output_type": "stream",
     "text": [
      "Max of 1D arr: 699\n",
      "Min of 1D arr: 1\n",
      "Max of 2D arr: 687.2906250831021\n",
      "Min of 2D arr: 87.5979389112841\n"
     ]
    }
   ],
   "source": [
    "print(\"Max of 1D arr: {}\".format(np.max(arr)))\n",
    "print(\"Min of 1D arr: {}\".format(np.min(arr)))\n",
    "print(\"Max of 2D arr: {}\".format(np.max(arr2d)))\n",
    "print(\"Min of 2D arr: {}\".format(np.min(arr2d)))"
   ]
  },
  {
   "cell_type": "markdown",
   "metadata": {},
   "source": [
    "We can also get minimum and maximum along a particular axis\n",
    "> - axis 0 = along the column\n",
    "> - axis 1 = along the row"
   ]
  },
  {
   "cell_type": "code",
   "execution_count": 20,
   "metadata": {},
   "outputs": [
    {
     "name": "stdout",
     "output_type": "stream",
     "text": [
      "2D Array: \n",
      "[[685.68515356 664.83144535 366.807574   355.82768465]\n",
      " [521.01815331 687.29062508 137.6732848  306.76311701]\n",
      " [303.45670656 348.35597722 334.08188     87.59793891]]\n",
      "\n",
      "Max of 2D arr along axis 0: [685.68515356 687.29062508 366.807574   355.82768465]\n",
      "Min of 2D arr along axis 0: [303.45670656 348.35597722 137.6732848   87.59793891]\n"
     ]
    }
   ],
   "source": [
    "print(\"2D Array: \\n{}\".format(arr2d), end=\"\\n\\n\")\n",
    "print(\"Max of 2D arr along axis 0: {}\".format(np.amax(arr2d, axis=0)))\n",
    "print(\"Min of 2D arr along axis 0: {}\".format(np.amin(arr2d, axis=0)))"
   ]
  },
  {
   "cell_type": "markdown",
   "metadata": {},
   "source": [
    "#### std\n",
    "Compute standard deviation along a particular axis"
   ]
  },
  {
   "cell_type": "code",
   "execution_count": 21,
   "metadata": {},
   "outputs": [
    {
     "name": "stdout",
     "output_type": "stream",
     "text": [
      "2D Array: \n",
      "[[685.68515356 664.83144535 366.807574   355.82768465]\n",
      " [521.01815331 687.29062508 137.6732848  306.76311701]\n",
      " [303.45670656 348.35597722 334.08188     87.59793891]]\n",
      "\n",
      "Std along axis 0: \n",
      "[156.54136471 154.7535073  101.18730147 116.61327521]\n",
      "Std along axis 1: \n",
      "[157.19133399 208.56306303 105.62365116]\n"
     ]
    }
   ],
   "source": [
    "print(\"2D Array: \\n{}\".format(arr2d), end=\"\\n\\n\")\n",
    "print(\"Std along axis 0: \\n{}\".format(np.std(arr2d, axis=0)))\n",
    "print(\"Std along axis 1: \\n{}\".format(np.std(arr2d, axis=1)))"
   ]
  },
  {
   "cell_type": "markdown",
   "metadata": {},
   "source": [
    "We will take a look at more of these in module on matplotlib so that while we will be printing the output, we will also be able to plot the results for a better understanding. If you are intersted to know about more such functions, you can check the link on official documentation here: [`Numpy Statistics Routines`](https://docs.scipy.org/doc/numpy/reference/routines.statistics.html)"
   ]
  }
 ],
 "metadata": {
  "kernelspec": {
   "display_name": "Python 3",
   "language": "python",
   "name": "python3"
  },
  "language_info": {
   "codemirror_mode": {
    "name": "ipython",
    "version": 3
   },
   "file_extension": ".py",
   "mimetype": "text/x-python",
   "name": "python",
   "nbconvert_exporter": "python",
   "pygments_lexer": "ipython3",
   "version": "3.7.2"
  }
 },
 "nbformat": 4,
 "nbformat_minor": 2
}
