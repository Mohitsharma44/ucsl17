{
 "cells": [
  {
   "cell_type": "markdown",
   "metadata": {},
   "source": [
    "## Pandas Series and Dataframes"
   ]
  },
  {
   "cell_type": "markdown",
   "metadata": {},
   "source": [
    "**Pandas** is a Python package providing fast, flexible, and expressive data structures designed to make working with “relational” or “labeled” data both easy and intuitive. It aims to be the fundamental high-level building block for doing practical, real world data analysis in Python.\n",
    "Pandas provides high-performance, easy-to-use data structures and data analysis tools for the Python programming language. To get started with pandas, you will need to get comfortable with its two workhorse data structures: Series and DataFrame. \n",
    "\n",
    "## Series\n",
    "Pandas Series is a one-dimensional array-like object that has index and value just like NumPy. In fact if you view the type of the values of series object, you will see that it indeed is `numpy.ndarray`.\n",
    "\n",
    "You can assign name to pandas Series.\n"
   ]
  },
  {
   "cell_type": "code",
   "execution_count": 2,
   "metadata": {},
   "outputs": [],
   "source": [
    "import pandas as pd\n",
    "import numpy as np\n",
    "import matplotlib.pyplot as plt\n",
    "%matplotlib inline\n",
    "plt.style.use('seaborn-darkgrid')"
   ]
  },
  {
   "cell_type": "code",
   "execution_count": 3,
   "metadata": {},
   "outputs": [
    {
     "name": "stdout",
     "output_type": "stream",
     "text": [
      "Name:  test_data\n",
      "Data:\n",
      " 0    8\n",
      "1    7\n",
      "2    6\n",
      "3    5\n",
      "Name: test_data, dtype: int64\n",
      "Type of Object:  <class 'pandas.core.series.Series'>\n",
      "Type of elements: <class 'numpy.ndarray'>\n"
     ]
    }
   ],
   "source": [
    "ob = pd.Series([8,7,6,5], name='test_data')\n",
    "print('Name: ',ob.name)\n",
    "print('Data:\\n',ob)\n",
    "print('Type of Object: ',type(ob))\n",
    "print('Type of elements:',type(ob.values))"
   ]
  },
  {
   "cell_type": "markdown",
   "metadata": {},
   "source": [
    "You can also use your numpy array and convert them to Series."
   ]
  },
  {
   "cell_type": "code",
   "execution_count": 4,
   "metadata": {},
   "outputs": [
    {
     "name": "stdout",
     "output_type": "stream",
     "text": [
      "0    8\n",
      "1    7\n",
      "2    6\n",
      "3    5\n",
      "dtype: int64\n",
      "<class 'pandas.core.series.Series'>\n"
     ]
    }
   ],
   "source": [
    "# integers between 5 to 8 (reversed)\n",
    "ob = pd.Series(np.linspace(5, 8, num=4, dtype=int)[::-1])\n",
    "print(ob)\n",
    "print(type(ob))"
   ]
  },
  {
   "cell_type": "markdown",
   "metadata": {},
   "source": [
    "You can also provide custom index to the values and just like in Numpy, access them with the index."
   ]
  },
  {
   "cell_type": "code",
   "execution_count": 5,
   "metadata": {},
   "outputs": [
    {
     "name": "stdout",
     "output_type": "stream",
     "text": [
      "7\n"
     ]
    }
   ],
   "source": [
    "ob = pd.Series([8,7,6,5], index=['a','b','c','d'])\n",
    "print(ob['b'])"
   ]
  },
  {
   "cell_type": "markdown",
   "metadata": {},
   "source": [
    "Pandas Series is more like a fixed size dictionary whose mapping of index-value is preserved when array operations are applied to them. For example,"
   ]
  },
  {
   "cell_type": "code",
   "execution_count": 6,
   "metadata": {},
   "outputs": [
    {
     "name": "stdout",
     "output_type": "stream",
     "text": [
      "b    7\n",
      "c    6\n",
      "d    5\n",
      "dtype: int64\n"
     ]
    }
   ],
   "source": [
    "# select all the values greater than 4 and less than 8\n",
    "print(ob[(ob>4) & (ob<8)])"
   ]
  },
  {
   "cell_type": "markdown",
   "metadata": {},
   "source": [
    "This also means that if you have a dictionary, you can easily convert that into pandas series."
   ]
  },
  {
   "cell_type": "code",
   "execution_count": 7,
   "metadata": {},
   "outputs": [
    {
     "name": "stdout",
     "output_type": "stream",
     "text": [
      "State1       Alabama\n",
      "State2    California\n",
      "State3    New Jersey\n",
      "State4      New York\n",
      "dtype: object\n",
      "<class 'pandas.core.series.Series'>\n"
     ]
    }
   ],
   "source": [
    "states_dict = {'State1': 'Alabama', \n",
    "               'State2': 'California', \n",
    "               'State3': 'New Jersey', \n",
    "               'State4': 'New York'}\n",
    "ob = pd.Series(states_dict)\n",
    "print(ob)\n",
    "print(type(ob))"
   ]
  },
  {
   "cell_type": "markdown",
   "metadata": {},
   "source": [
    "Just like dictionaries, you can also change the index using the following method. "
   ]
  },
  {
   "cell_type": "code",
   "execution_count": 8,
   "metadata": {},
   "outputs": [
    {
     "name": "stdout",
     "output_type": "stream",
     "text": [
      "AL       Alabama\n",
      "CA    California\n",
      "NJ    New Jersey\n",
      "NY      New York\n",
      "dtype: object\n"
     ]
    }
   ],
   "source": [
    "ob.index = ['AL','CA','NJ','NY']\n",
    "print(ob)"
   ]
  },
  {
   "cell_type": "markdown",
   "metadata": {},
   "source": [
    "or use dictionary's method to get the label.."
   ]
  },
  {
   "cell_type": "code",
   "execution_count": 9,
   "metadata": {},
   "outputs": [
    {
     "data": {
      "text/plain": [
       "'California'"
      ]
     },
     "execution_count": 9,
     "metadata": {},
     "output_type": "execute_result"
    }
   ],
   "source": [
    "ob.get('CA', np.nan)"
   ]
  },
  {
   "cell_type": "markdown",
   "metadata": {},
   "source": [
    "## Dataframe\n",
    "Dataframe is something like spreadsheet or a sql table. It is basically a 2 dimensional labelled data structure with columns of potentially different datatype. Like Series, DataFrame accepts many different kinds of input:\n",
    "* Dict of 1D ndarrays, lists, dicts, or Series\n",
    "* 2-D numpy.ndarray\n",
    "* [`Structured or record ndarray`](http://docs.scipy.org/doc/numpy/user/basics.rec.html 'Structured or record ndarray')\n",
    "* A Series\n",
    "* Another DataFrame\n",
    "\n",
    "Compared with other such DataFrame-like structures you may have used before (like `R’s` `data.frame`), row- oriented and column-oriented operations in DataFrame are treated roughly symmetrically. Under the hood, the data is stored as one or more two-dimensional blocks rather than a list, dict, or some other collection of one-dimensional arrays.\n",
    "\n",
    "\n",
    "### Creating Dataframes from dictionaries"
   ]
  },
  {
   "cell_type": "code",
   "execution_count": 10,
   "metadata": {},
   "outputs": [],
   "source": [
    "data = {'one' : pd.Series([1., 2., 3.], index=['a', 'b', 'c']),\n",
    "    'two' : pd.Series([1., 2., 3., 4.], index=['a', 'b', 'c', 'd'])}"
   ]
  },
  {
   "cell_type": "code",
   "execution_count": 11,
   "metadata": {},
   "outputs": [
    {
     "name": "stdout",
     "output_type": "stream",
     "text": [
      "Dataframe:\n",
      "    one  two\n",
      "a  1.0  1.0\n",
      "b  2.0  2.0\n",
      "c  3.0  3.0\n",
      "d  NaN  4.0\n",
      "Type of Object: <class 'pandas.core.frame.DataFrame'>\n",
      "Type of elements: <class 'numpy.ndarray'>\n"
     ]
    }
   ],
   "source": [
    "df = pd.DataFrame(data)\n",
    "print('Dataframe:\\n',df)\n",
    "print('Type of Object:',type(df))\n",
    "print('Type of elements:',type(df.values))"
   ]
  },
  {
   "cell_type": "markdown",
   "metadata": {},
   "source": [
    "Another way to construct dataframe from dictionaries is by using DataFrame.from_dict function. DataFrame.from_dict takes a dict of dicts or a dict of array-like sequences and returns a DataFrame. It operates like the DataFrame constructor except for the orient parameter which is 'columns' by default, but which can be set to 'index' in order to use the dict keys as row labels.\n",
    "\n",
    "Just like Series, you can access index, values and also columns."
   ]
  },
  {
   "cell_type": "code",
   "execution_count": 12,
   "metadata": {},
   "outputs": [
    {
     "name": "stdout",
     "output_type": "stream",
     "text": [
      "Index:  Index(['a', 'b', 'c', 'd'], dtype='object')\n",
      "Columns:  Index(['one', 'two'], dtype='object')\n",
      "Values of Column one:  [ 1.  2.  3. nan]\n",
      "Values of Column two:  [1. 2. 3. 4.]\n"
     ]
    }
   ],
   "source": [
    "print('Index: ',df.index)\n",
    "print('Columns: ',df.columns)\n",
    "print('Values of Column one: ',df['one'].values)\n",
    "print('Values of Column two: ',df['two'].values)"
   ]
  },
  {
   "cell_type": "markdown",
   "metadata": {},
   "source": [
    "### Creating dataframe from list of dictionaries\n",
    "\n",
    "As with Series, if you pass a column that isn’t contained in data, it will appear with NaN values in the result"
   ]
  },
  {
   "cell_type": "code",
   "execution_count": 13,
   "metadata": {},
   "outputs": [
    {
     "name": "stdout",
     "output_type": "stream",
     "text": [
      "Dataframe: \n",
      "      a  b  c    d\n",
      "one  1  2  3  NaN\n",
      "two  2  2  3  4.0\n",
      "Transposed Dataframe: \n",
      "    one  two\n",
      "a  1.0  2.0\n",
      "b  2.0  2.0\n",
      "c  3.0  3.0\n",
      "d  NaN  4.0\n"
     ]
    }
   ],
   "source": [
    "df2 = pd.DataFrame([{'a': 1, 'b': 2, 'c':3, 'd':None}, \n",
    "                    {'a': 2, 'b': 2, 'c': 3, 'd': 4}],\n",
    "                   index=['one', 'two'])\n",
    "print('Dataframe: \\n',df2)\n",
    "\n",
    "# Ofcourse you can also transpose the result:\n",
    "print('Transposed Dataframe: \\n',df2.T)"
   ]
  },
  {
   "cell_type": "markdown",
   "metadata": {},
   "source": [
    "Assigning a column that doesn’t exist will create a new column. "
   ]
  },
  {
   "cell_type": "code",
   "execution_count": 14,
   "metadata": {},
   "outputs": [
    {
     "name": "stdout",
     "output_type": "stream",
     "text": [
      "Added third column: \n",
      "    one  two three\n",
      "a  1.0  1.0  None\n",
      "b  2.0  2.0  None\n",
      "c  3.0  3.0  None\n",
      "d  NaN  4.0  None\n",
      "\n",
      "Deleted third column: \n",
      "    one  two\n",
      "a  1.0  1.0\n",
      "b  2.0  2.0\n",
      "c  3.0  3.0\n",
      "d  NaN  4.0\n"
     ]
    }
   ],
   "source": [
    "df['three'] = None\n",
    "print('Added third column: \\n',df)\n",
    "\n",
    "# The del keyword can be used delete columns:\n",
    "del df['three']\n",
    "print('\\nDeleted third column: \\n',df)\n",
    "# You can also use df.drop(). We shall see that later"
   ]
  },
  {
   "cell_type": "markdown",
   "metadata": {},
   "source": [
    "Each Index has a number of methods and properties for set logic and answering other common questions about the data it contains.\n",
    "\n",
    "\n",
    "|Method | Description|\n",
    "|:---|:---|\n",
    "|`append` | Concatenate with additional Index objects, producing a new Index|\n",
    "|`diff` | Compute set difference as an Index|\n",
    "|`intersection` | Compute set intersection|\n",
    "|`union` | Compute set union|\n",
    "|`isin` | Compute boolean array indicating whether each value is contained in the passed collection|\n",
    "|`delete` | Compute new Index with element at index i deleted|\n",
    "|`drop` | Compute new index by deleting passed values|\n",
    "|`insert` | Compute new Index by inserting element at index i|\n",
    "|`is_monotonic` | Returns True if each element is greater than or equal to the previous element| \n",
    "|`is_unique` | Returns True if the Index has no duplicate values|\n",
    "|`unique` | Compute the array of unique values in the Index|\n",
    "\n",
    "for example:"
   ]
  },
  {
   "cell_type": "code",
   "execution_count": 15,
   "metadata": {},
   "outputs": [
    {
     "name": "stdout",
     "output_type": "stream",
     "text": [
      "True\n",
      "True\n"
     ]
    }
   ],
   "source": [
    "print(1 in df.one.values)\n",
    "print('one' in df.columns)"
   ]
  },
  {
   "cell_type": "markdown",
   "metadata": {},
   "source": [
    "## Reindexing\n",
    "A critical method on Pandas objects is reindex, which means to create a new object with the data conformed to a new index.\n",
    "\n",
    "The following is how you might reindex."
   ]
  },
  {
   "cell_type": "code",
   "execution_count": 16,
   "metadata": {},
   "outputs": [
    {
     "name": "stdout",
     "output_type": "stream",
     "text": [
      "   one  two\n",
      "a  1.0  1.0\n",
      "b  2.0  2.0\n",
      "c  3.0  3.0\n",
      "d  NaN  4.0\n"
     ]
    }
   ],
   "source": [
    "data = {'one' : pd.Series([1., 2., 3.], index=['a', 'b', 'c']),\n",
    "    'two' : pd.Series([1., 2., 3., 4.], index=['a', 'b', 'c', 'd'])}\n",
    "df = pd.DataFrame(data)\n",
    "print(df)"
   ]
  },
  {
   "cell_type": "code",
   "execution_count": 17,
   "metadata": {},
   "outputs": [
    {
     "name": "stdout",
     "output_type": "stream",
     "text": [
      "   one  two\n",
      "d  NaN  4.0\n",
      "c  3.0  3.0\n",
      "b  2.0  2.0\n",
      "a  1.0  1.0\n"
     ]
    }
   ],
   "source": [
    "# Reindex in descending order.\n",
    "print(df.reindex(['d','c','b','a']))"
   ]
  },
  {
   "cell_type": "markdown",
   "metadata": {},
   "source": [
    "If you `reindex` with more number of rows than in the dataframe, it will return the dataframe with new row whose values are `NaN`."
   ]
  },
  {
   "cell_type": "code",
   "execution_count": 18,
   "metadata": {},
   "outputs": [
    {
     "name": "stdout",
     "output_type": "stream",
     "text": [
      "   one  two\n",
      "a  1.0  1.0\n",
      "b  2.0  2.0\n",
      "c  3.0  3.0\n",
      "d  NaN  4.0\n",
      "e  NaN  NaN\n"
     ]
    }
   ],
   "source": [
    "print(df.reindex(['a','b','c','d','e']))"
   ]
  },
  {
   "cell_type": "markdown",
   "metadata": {},
   "source": [
    "Reindexing is also useful when you want to introduce any missing values. For example in our case, look at column `one` and row `d`"
   ]
  },
  {
   "cell_type": "code",
   "execution_count": 19,
   "metadata": {},
   "outputs": [
    {
     "data": {
      "text/html": [
       "<div>\n",
       "<style scoped>\n",
       "    .dataframe tbody tr th:only-of-type {\n",
       "        vertical-align: middle;\n",
       "    }\n",
       "\n",
       "    .dataframe tbody tr th {\n",
       "        vertical-align: top;\n",
       "    }\n",
       "\n",
       "    .dataframe thead th {\n",
       "        text-align: right;\n",
       "    }\n",
       "</style>\n",
       "<table border=\"1\" class=\"dataframe\">\n",
       "  <thead>\n",
       "    <tr style=\"text-align: right;\">\n",
       "      <th></th>\n",
       "      <th>one</th>\n",
       "      <th>two</th>\n",
       "    </tr>\n",
       "  </thead>\n",
       "  <tbody>\n",
       "    <tr>\n",
       "      <th>a</th>\n",
       "      <td>1.0</td>\n",
       "      <td>1.0</td>\n",
       "    </tr>\n",
       "    <tr>\n",
       "      <th>b</th>\n",
       "      <td>2.0</td>\n",
       "      <td>2.0</td>\n",
       "    </tr>\n",
       "    <tr>\n",
       "      <th>c</th>\n",
       "      <td>3.0</td>\n",
       "      <td>3.0</td>\n",
       "    </tr>\n",
       "    <tr>\n",
       "      <th>d</th>\n",
       "      <td>NaN</td>\n",
       "      <td>4.0</td>\n",
       "    </tr>\n",
       "    <tr>\n",
       "      <th>e</th>\n",
       "      <td>0.0</td>\n",
       "      <td>0.0</td>\n",
       "    </tr>\n",
       "  </tbody>\n",
       "</table>\n",
       "</div>"
      ],
      "text/plain": [
       "   one  two\n",
       "a  1.0  1.0\n",
       "b  2.0  2.0\n",
       "c  3.0  3.0\n",
       "d  NaN  4.0\n",
       "e  0.0  0.0"
      ]
     },
     "execution_count": 19,
     "metadata": {},
     "output_type": "execute_result"
    }
   ],
   "source": [
    "df.reindex(['a','b','c','d','e'], fill_value=0)\n",
    "# Guess why the df['one']['d'] was not filled with 0 ?"
   ]
  },
  {
   "cell_type": "markdown",
   "metadata": {},
   "source": [
    "For ordered data like time series, it may be desirable to do some interpolation or filling of values when `reindex`ing. The method option allows us to do this, using a `method` such as `ffill` which forward fills the values:"
   ]
  },
  {
   "cell_type": "code",
   "execution_count": 20,
   "metadata": {},
   "outputs": [
    {
     "data": {
      "text/html": [
       "<div>\n",
       "<style scoped>\n",
       "    .dataframe tbody tr th:only-of-type {\n",
       "        vertical-align: middle;\n",
       "    }\n",
       "\n",
       "    .dataframe tbody tr th {\n",
       "        vertical-align: top;\n",
       "    }\n",
       "\n",
       "    .dataframe thead th {\n",
       "        text-align: right;\n",
       "    }\n",
       "</style>\n",
       "<table border=\"1\" class=\"dataframe\">\n",
       "  <thead>\n",
       "    <tr style=\"text-align: right;\">\n",
       "      <th></th>\n",
       "      <th>one</th>\n",
       "      <th>two</th>\n",
       "    </tr>\n",
       "  </thead>\n",
       "  <tbody>\n",
       "    <tr>\n",
       "      <th>a</th>\n",
       "      <td>1.0</td>\n",
       "      <td>1.0</td>\n",
       "    </tr>\n",
       "    <tr>\n",
       "      <th>b</th>\n",
       "      <td>2.0</td>\n",
       "      <td>2.0</td>\n",
       "    </tr>\n",
       "    <tr>\n",
       "      <th>c</th>\n",
       "      <td>3.0</td>\n",
       "      <td>3.0</td>\n",
       "    </tr>\n",
       "    <tr>\n",
       "      <th>d</th>\n",
       "      <td>NaN</td>\n",
       "      <td>4.0</td>\n",
       "    </tr>\n",
       "    <tr>\n",
       "      <th>e</th>\n",
       "      <td>NaN</td>\n",
       "      <td>4.0</td>\n",
       "    </tr>\n",
       "  </tbody>\n",
       "</table>\n",
       "</div>"
      ],
      "text/plain": [
       "   one  two\n",
       "a  1.0  1.0\n",
       "b  2.0  2.0\n",
       "c  3.0  3.0\n",
       "d  NaN  4.0\n",
       "e  NaN  4.0"
      ]
     },
     "execution_count": 20,
     "metadata": {},
     "output_type": "execute_result"
    }
   ],
   "source": [
    "df.reindex(['a','b','c','d','e'], method='ffill')"
   ]
  },
  {
   "cell_type": "markdown",
   "metadata": {},
   "source": [
    "There are basically two different types of method (interpolation) options:\n",
    "\n",
    "|Method | Description|\n",
    "|:---|:---|\n",
    "|`ffill` or `pad` | Fill (or carry) values forward |\n",
    "|`bfill` or `backfill` | Fill (or carry) values backward|\n",
    "\n",
    "Reindexing has following arguments:\n",
    "\n",
    "|Argument | Description|\n",
    "|:---|:---|\n",
    "|`index` | New sequence to use as index. Can be Index instance or any other sequence-like Python data structure. An Index will be used exactly as is without any copying|\n",
    "|`method` | Interpolation (fill) method, see above table for options.|\n",
    "|`fill_value` | Substitute value to use when introducing missing data by reindexing.|\n",
    "|`limit` | When forward- or backfilling, maximum size gap to fill|\n",
    "|`level` | Match simple Index on level of MultiIndex, otherwise select subset of|\n",
    "|`copy` | Do not copy underlying data if new index is equivalent to old index. True by default (i.e. always copy data)|"
   ]
  },
  {
   "cell_type": "markdown",
   "metadata": {},
   "source": [
    "## Dropping Entries\n",
    "Dropping one or more entries from an axis is easy if you have an index array or list without those entries."
   ]
  },
  {
   "cell_type": "code",
   "execution_count": 21,
   "metadata": {},
   "outputs": [
    {
     "data": {
      "text/html": [
       "<div>\n",
       "<style scoped>\n",
       "    .dataframe tbody tr th:only-of-type {\n",
       "        vertical-align: middle;\n",
       "    }\n",
       "\n",
       "    .dataframe tbody tr th {\n",
       "        vertical-align: top;\n",
       "    }\n",
       "\n",
       "    .dataframe thead th {\n",
       "        text-align: right;\n",
       "    }\n",
       "</style>\n",
       "<table border=\"1\" class=\"dataframe\">\n",
       "  <thead>\n",
       "    <tr style=\"text-align: right;\">\n",
       "      <th></th>\n",
       "      <th>one</th>\n",
       "      <th>two</th>\n",
       "    </tr>\n",
       "  </thead>\n",
       "  <tbody>\n",
       "    <tr>\n",
       "      <th>b</th>\n",
       "      <td>2.0</td>\n",
       "      <td>2.0</td>\n",
       "    </tr>\n",
       "    <tr>\n",
       "      <th>d</th>\n",
       "      <td>NaN</td>\n",
       "      <td>4.0</td>\n",
       "    </tr>\n",
       "  </tbody>\n",
       "</table>\n",
       "</div>"
      ],
      "text/plain": [
       "   one  two\n",
       "b  2.0  2.0\n",
       "d  NaN  4.0"
      ]
     },
     "execution_count": 21,
     "metadata": {},
     "output_type": "execute_result"
    }
   ],
   "source": [
    "# Drop row c and row a\n",
    "df.drop(['c', 'a'])"
   ]
  },
  {
   "cell_type": "code",
   "execution_count": 22,
   "metadata": {},
   "outputs": [
    {
     "data": {
      "text/html": [
       "<div>\n",
       "<style scoped>\n",
       "    .dataframe tbody tr th:only-of-type {\n",
       "        vertical-align: middle;\n",
       "    }\n",
       "\n",
       "    .dataframe tbody tr th {\n",
       "        vertical-align: top;\n",
       "    }\n",
       "\n",
       "    .dataframe thead th {\n",
       "        text-align: right;\n",
       "    }\n",
       "</style>\n",
       "<table border=\"1\" class=\"dataframe\">\n",
       "  <thead>\n",
       "    <tr style=\"text-align: right;\">\n",
       "      <th></th>\n",
       "      <th>one</th>\n",
       "    </tr>\n",
       "  </thead>\n",
       "  <tbody>\n",
       "    <tr>\n",
       "      <th>a</th>\n",
       "      <td>1.0</td>\n",
       "    </tr>\n",
       "    <tr>\n",
       "      <th>b</th>\n",
       "      <td>2.0</td>\n",
       "    </tr>\n",
       "    <tr>\n",
       "      <th>c</th>\n",
       "      <td>3.0</td>\n",
       "    </tr>\n",
       "    <tr>\n",
       "      <th>d</th>\n",
       "      <td>NaN</td>\n",
       "    </tr>\n",
       "  </tbody>\n",
       "</table>\n",
       "</div>"
      ],
      "text/plain": [
       "   one\n",
       "a  1.0\n",
       "b  2.0\n",
       "c  3.0\n",
       "d  NaN"
      ]
     },
     "execution_count": 22,
     "metadata": {},
     "output_type": "execute_result"
    }
   ],
   "source": [
    "# And to drop column two try this\n",
    "df.drop(['two'], axis=1)"
   ]
  },
  {
   "cell_type": "markdown",
   "metadata": {},
   "source": [
    "## Indexing, selection, Sorting and filtering\n",
    "Series indexing works analogously to NumPy array indexing, except you can use the Series’s index values instead of only integers.\n",
    "\n",
    "To slice and select only column one for rows 0 and 4 use the following."
   ]
  },
  {
   "cell_type": "code",
   "execution_count": 23,
   "metadata": {},
   "outputs": [
    {
     "name": "stdout",
     "output_type": "stream",
     "text": [
      "Dataframe: \n",
      "    one  two\n",
      "a  1.0  1.0\n",
      "b  2.0  2.0\n",
      "c  3.0  3.0\n",
      "d  NaN  4.0\n"
     ]
    },
    {
     "data": {
      "text/plain": [
       "a    1.0\n",
       "d    NaN\n",
       "Name: one, dtype: float64"
      ]
     },
     "execution_count": 23,
     "metadata": {},
     "output_type": "execute_result"
    }
   ],
   "source": [
    "print(\"Dataframe: \\n\",df)\n",
    "# Slicing and selecting only column `one` for row 0 and row 4\n",
    "df['one'][['a', 'd']]"
   ]
  },
  {
   "cell_type": "code",
   "execution_count": 24,
   "metadata": {},
   "outputs": [
    {
     "data": {
      "text/plain": [
       "b    2.0\n",
       "c    3.0\n",
       "d    NaN\n",
       "Name: one, dtype: float64"
      ]
     },
     "execution_count": 24,
     "metadata": {},
     "output_type": "execute_result"
    }
   ],
   "source": [
    "# Slicing df from row b to row 4 for column `one`\n",
    "df['one']['b':'d']"
   ]
  },
  {
   "cell_type": "markdown",
   "metadata": {},
   "source": [
    "If you observe the above command (and the one above it), you will see that slicing with labels behaves differently than normal Python slicing in that the endpoint is inclusive.\n",
    "\n",
    "For DataFrame label-indexing on the rows, there is a special indexing field `ix` (or `loc`). It enables you to select a subset of the rows and columns from a DataFrame with NumPy- like notation plus axis labels. It is a less verbose way to do the reindexing."
   ]
  },
  {
   "cell_type": "code",
   "execution_count": 37,
   "metadata": {},
   "outputs": [
    {
     "data": {
      "text/html": [
       "<div>\n",
       "<style scoped>\n",
       "    .dataframe tbody tr th:only-of-type {\n",
       "        vertical-align: middle;\n",
       "    }\n",
       "\n",
       "    .dataframe tbody tr th {\n",
       "        vertical-align: top;\n",
       "    }\n",
       "\n",
       "    .dataframe thead th {\n",
       "        text-align: right;\n",
       "    }\n",
       "</style>\n",
       "<table border=\"1\" class=\"dataframe\">\n",
       "  <thead>\n",
       "    <tr style=\"text-align: right;\">\n",
       "      <th></th>\n",
       "      <th>one</th>\n",
       "    </tr>\n",
       "  </thead>\n",
       "  <tbody>\n",
       "    <tr>\n",
       "      <th>a</th>\n",
       "      <td>1.0</td>\n",
       "    </tr>\n",
       "    <tr>\n",
       "      <th>c</th>\n",
       "      <td>3.0</td>\n",
       "    </tr>\n",
       "  </tbody>\n",
       "</table>\n",
       "</div>"
      ],
      "text/plain": [
       "   one\n",
       "a  1.0\n",
       "c  3.0"
      ]
     },
     "execution_count": 37,
     "metadata": {},
     "output_type": "execute_result"
    }
   ],
   "source": [
    "df.loc[['a','c'],['one']]"
   ]
  },
  {
   "cell_type": "code",
   "execution_count": 26,
   "metadata": {},
   "outputs": [
    {
     "data": {
      "text/html": [
       "<div>\n",
       "<style scoped>\n",
       "    .dataframe tbody tr th:only-of-type {\n",
       "        vertical-align: middle;\n",
       "    }\n",
       "\n",
       "    .dataframe tbody tr th {\n",
       "        vertical-align: top;\n",
       "    }\n",
       "\n",
       "    .dataframe thead th {\n",
       "        text-align: right;\n",
       "    }\n",
       "</style>\n",
       "<table border=\"1\" class=\"dataframe\">\n",
       "  <thead>\n",
       "    <tr style=\"text-align: right;\">\n",
       "      <th></th>\n",
       "      <th>one</th>\n",
       "    </tr>\n",
       "  </thead>\n",
       "  <tbody>\n",
       "    <tr>\n",
       "      <th>a</th>\n",
       "      <td>1.0</td>\n",
       "    </tr>\n",
       "    <tr>\n",
       "      <th>c</th>\n",
       "      <td>3.0</td>\n",
       "    </tr>\n",
       "  </tbody>\n",
       "</table>\n",
       "</div>"
      ],
      "text/plain": [
       "   one\n",
       "a  1.0\n",
       "c  3.0"
      ]
     },
     "execution_count": 26,
     "metadata": {},
     "output_type": "execute_result"
    }
   ],
   "source": [
    "df.loc[['a', 'c'], ['one']]"
   ]
  },
  {
   "cell_type": "code",
   "execution_count": 27,
   "metadata": {},
   "outputs": [
    {
     "name": "stderr",
     "output_type": "stream",
     "text": [
      "/usr/local/Cellar/ipython/7.2.0/libexec/vendor/lib/python3.7/site-packages/ipykernel_launcher.py:1: DeprecationWarning: \n",
      ".ix is deprecated. Please use\n",
      ".loc for label based indexing or\n",
      ".iloc for positional indexing\n",
      "\n",
      "See the documentation here:\n",
      "http://pandas.pydata.org/pandas-docs/stable/indexing.html#ix-indexer-is-deprecated\n",
      "  \"\"\"Entry point for launching an IPython kernel.\n"
     ]
    },
    {
     "data": {
      "text/html": [
       "<div>\n",
       "<style scoped>\n",
       "    .dataframe tbody tr th:only-of-type {\n",
       "        vertical-align: middle;\n",
       "    }\n",
       "\n",
       "    .dataframe tbody tr th {\n",
       "        vertical-align: top;\n",
       "    }\n",
       "\n",
       "    .dataframe thead th {\n",
       "        text-align: right;\n",
       "    }\n",
       "</style>\n",
       "<table border=\"1\" class=\"dataframe\">\n",
       "  <thead>\n",
       "    <tr style=\"text-align: right;\">\n",
       "      <th></th>\n",
       "      <th>one</th>\n",
       "      <th>two</th>\n",
       "    </tr>\n",
       "  </thead>\n",
       "  <tbody>\n",
       "    <tr>\n",
       "      <th>b</th>\n",
       "      <td>2.0</td>\n",
       "      <td>2.0</td>\n",
       "    </tr>\n",
       "    <tr>\n",
       "      <th>c</th>\n",
       "      <td>3.0</td>\n",
       "      <td>3.0</td>\n",
       "    </tr>\n",
       "  </tbody>\n",
       "</table>\n",
       "</div>"
      ],
      "text/plain": [
       "   one  two\n",
       "b  2.0  2.0\n",
       "c  3.0  3.0"
      ]
     },
     "execution_count": 27,
     "metadata": {},
     "output_type": "execute_result"
    }
   ],
   "source": [
    "df.ix[df.one > 1]"
   ]
  },
  {
   "cell_type": "markdown",
   "metadata": {},
   "source": [
    "There are many ways to select and rearrange the data contained in a pandas object. Some indexing options can be seen in below table:\n",
    "\n",
    "|Indexing Type| Description|\n",
    "|:---|:---|\n",
    "|df[val] | Select single column or sequence of columns from the DataFrame. Special case con- veniences: boolean array (filter rows), slice (slice rows), or boolean DataFrame (set values based on some criterion).|\n",
    "|df.ix[val] | Selects single row of subset of rows from the DataFrame.|\n",
    "|df.ix[:, val] | Selects single column of subset of columns.|\n",
    "|df.ix[val1, val2] | Select both rows and columns.|\n",
    "|reindex method | Conform one or more axes to new indexes.|\n",
    "|xs method | Select single row or column as a Series by label.|\n",
    "|icol, irowmethods | Select single column or row, respectively, as a Series by integer location.|\n",
    "|get_value, set_value methods | Select single value by row and column label.|"
   ]
  },
  {
   "cell_type": "markdown",
   "metadata": {},
   "source": [
    "You can sort a data frame or series (by some criteria) using the built-in functions. To sort lexicographically by row or column index, use the sort_index method, which returns a new, sorted object:"
   ]
  },
  {
   "cell_type": "code",
   "execution_count": 28,
   "metadata": {},
   "outputs": [
    {
     "name": "stdout",
     "output_type": "stream",
     "text": [
      "Original Data: \n",
      " g    6\n",
      "c    7\n",
      "a    7\n",
      "b    4\n",
      "e    9\n",
      "d    3\n",
      "f    8\n",
      "dtype: int64\n",
      "\n",
      "Sorted by Index: \n",
      " a    7\n",
      "b    4\n",
      "c    7\n",
      "d    3\n",
      "e    9\n",
      "f    8\n",
      "g    6\n",
      "dtype: int64\n"
     ]
    }
   ],
   "source": [
    "dt = pd.Series(np.random.randint(3, 10, size=7), \n",
    "               index=['g','c','a','b','e','d','f'])\n",
    "print('Original Data: \\n', dt, end=\"\\n\\n\")\n",
    "print('Sorted by Index: \\n',dt.sort_index())"
   ]
  },
  {
   "cell_type": "markdown",
   "metadata": {},
   "source": [
    "## Data alignment and arithmetic\n",
    "Data alignment between DataFrame objects automatically align on both the columns and the index (row labels). The resulting object will have the union of the column and row labels."
   ]
  },
  {
   "cell_type": "code",
   "execution_count": 29,
   "metadata": {},
   "outputs": [
    {
     "name": "stdout",
     "output_type": "stream",
     "text": [
      "df1:\n",
      "           A         B         C         D\n",
      "0 -1.027802  0.071980  1.083831  0.117767\n",
      "1  0.928299 -0.975015 -0.256632 -1.022280\n",
      "2  1.143273 -0.233660 -0.022156  2.083412\n",
      "3 -0.359587 -0.823477  0.363769  0.449445\n",
      "4 -0.862179 -0.110148 -1.419463  1.470670\n",
      "5  0.993296  0.390077  0.597697  0.669840\n",
      "6 -0.388123  0.274498  0.081150 -0.586702\n",
      "7  0.193284 -0.385378 -1.711573  0.593487\n",
      "8 -0.013713  0.201136 -0.813772  0.898498\n",
      "9  1.709947  0.272814 -1.435655 -0.714309\n",
      "\n",
      "df2:\n",
      "           A         B         C\n",
      "0 -1.382737 -0.206609  1.260968\n",
      "1  0.023300  0.079133  1.065827\n",
      "2 -1.708856  1.166897 -0.225432\n",
      "3  1.585032 -0.499857  1.794270\n",
      "4 -0.572394 -0.086707 -0.060390\n",
      "5  1.192763  0.101969  4.061451\n",
      "6 -0.315777 -0.131411 -1.806998\n",
      "\n",
      "Sum:\n",
      "           A         B         C   D\n",
      "0 -2.410540 -0.134629  2.344798 NaN\n",
      "1  0.951599 -0.895882  0.809196 NaN\n",
      "2 -0.565583  0.933236 -0.247588 NaN\n",
      "3  1.225444 -1.323334  2.158039 NaN\n",
      "4 -1.434573 -0.196855 -1.479853 NaN\n",
      "5  2.186058  0.492046  4.659148 NaN\n",
      "6 -0.703899  0.143088 -1.725848 NaN\n",
      "7       NaN       NaN       NaN NaN\n",
      "8       NaN       NaN       NaN NaN\n",
      "9       NaN       NaN       NaN NaN\n"
     ]
    }
   ],
   "source": [
    "df1 = pd.DataFrame(np.random.randn(10, 4), columns=['A', 'B', 'C', 'D'])\n",
    "df2 = pd.DataFrame(np.random.randn(7, 3), columns=['A', 'B', 'C'])\n",
    "print('df1:\\n',df1, end=\"\\n\\n\")\n",
    "print('df2:\\n',df2, end=\"\\n\\n\")\n",
    "print('Sum:\\n',df1.add(df2))"
   ]
  },
  {
   "cell_type": "markdown",
   "metadata": {},
   "source": [
    "Note that in arithmetic operations between differently-indexed objects, you might want to fill with a special value, like 0, when an axis label is found in one object but not the other:"
   ]
  },
  {
   "cell_type": "code",
   "execution_count": 30,
   "metadata": {},
   "outputs": [
    {
     "name": "stdout",
     "output_type": "stream",
     "text": [
      "Sum:\n",
      "           A         B         C         D\n",
      "0 -2.410540 -0.134629  2.344798  0.117767\n",
      "1  0.951599 -0.895882  0.809196 -1.022280\n",
      "2 -0.565583  0.933236 -0.247588  2.083412\n",
      "3  1.225444 -1.323334  2.158039  0.449445\n",
      "4 -1.434573 -0.196855 -1.479853  1.470670\n",
      "5  2.186058  0.492046  4.659148  0.669840\n",
      "6 -0.703899  0.143088 -1.725848 -0.586702\n",
      "7  0.193284 -0.385378 -1.711573  0.593487\n",
      "8 -0.013713  0.201136 -0.813772  0.898498\n",
      "9  1.709947  0.272814 -1.435655 -0.714309\n"
     ]
    }
   ],
   "source": [
    "print('Sum:\\n',df1.add(df2, fill_value=0))"
   ]
  },
  {
   "cell_type": "markdown",
   "metadata": {},
   "source": [
    "Similarly you can perform subtracion, multiplication and division. \n",
    "\n",
    "When doing an operation between DataFrame and Series, the default behavior is to align the Series index on the DataFrame columns, thus broadcasting (just like in numpy) row-wise."
   ]
  },
  {
   "cell_type": "code",
   "execution_count": 31,
   "metadata": {},
   "outputs": [
    {
     "name": "stdout",
     "output_type": "stream",
     "text": [
      "Dataframe: \n",
      "           A         B         C         D\n",
      "0 -1.027802  0.071980  1.083831  0.117767\n",
      "1  0.928299 -0.975015 -0.256632 -1.022280\n",
      "2  1.143273 -0.233660 -0.022156  2.083412\n",
      "3 -0.359587 -0.823477  0.363769  0.449445\n",
      "4 -0.862179 -0.110148 -1.419463  1.470670\n",
      "5  0.993296  0.390077  0.597697  0.669840\n",
      "6 -0.388123  0.274498  0.081150 -0.586702\n",
      "7  0.193284 -0.385378 -1.711573  0.593487\n",
      "8 -0.013713  0.201136 -0.813772  0.898498\n",
      "9  1.709947  0.272814 -1.435655 -0.714309\n",
      "\n",
      "Operand (0th row): \n",
      " A   -1.027802\n",
      "B    0.071980\n",
      "C    1.083831\n",
      "D    0.117767\n",
      "Name: 0, dtype: float64\n",
      "\n",
      "Subtraction: \n",
      "           A         B         C         D\n",
      "0  0.000000  0.000000  0.000000  0.000000\n",
      "1  1.956102 -1.046995 -1.340462 -1.140046\n",
      "2  2.171075 -0.305640 -1.105987  1.965645\n",
      "3  0.668215 -0.895457 -0.720062  0.331678\n",
      "4  0.165623 -0.182128 -2.503294  1.352903\n",
      "5  2.021098  0.318097 -0.486134  0.552073\n",
      "6  0.639680  0.202518 -1.002681 -0.704469\n",
      "7  1.221086 -0.457358 -2.795403  0.475720\n",
      "8  1.014089  0.129156 -1.897603  0.780731\n",
      "9  2.737749  0.200834 -2.519486 -0.832076\n"
     ]
    }
   ],
   "source": [
    "print(\"Dataframe: \\n\", df1, end=\"\\n\\n\")\n",
    "print(\"Operand (0th row): \\n\", df1.loc[0], end=\"\\n\\n\")\n",
    "print('Subtraction: \\n',df1.sub(df1.loc[0]))"
   ]
  },
  {
   "cell_type": "markdown",
   "metadata": {},
   "source": [
    "In the special case of working with time series data, and the DataFrame index also contains dates, the broadcasting will be column-wise:"
   ]
  },
  {
   "cell_type": "code",
   "execution_count": 32,
   "metadata": {},
   "outputs": [
    {
     "data": {
      "text/html": [
       "<div>\n",
       "<style scoped>\n",
       "    .dataframe tbody tr th:only-of-type {\n",
       "        vertical-align: middle;\n",
       "    }\n",
       "\n",
       "    .dataframe tbody tr th {\n",
       "        vertical-align: top;\n",
       "    }\n",
       "\n",
       "    .dataframe thead th {\n",
       "        text-align: right;\n",
       "    }\n",
       "</style>\n",
       "<table border=\"1\" class=\"dataframe\">\n",
       "  <thead>\n",
       "    <tr style=\"text-align: right;\">\n",
       "      <th></th>\n",
       "      <th>A</th>\n",
       "      <th>B</th>\n",
       "      <th>C</th>\n",
       "      <th>D</th>\n",
       "    </tr>\n",
       "  </thead>\n",
       "  <tbody>\n",
       "    <tr>\n",
       "      <th>2017-06-01</th>\n",
       "      <td>-1.027802</td>\n",
       "      <td>0.071980</td>\n",
       "      <td>1.083831</td>\n",
       "      <td>0.117767</td>\n",
       "    </tr>\n",
       "    <tr>\n",
       "      <th>2017-06-02</th>\n",
       "      <td>0.928299</td>\n",
       "      <td>-0.975015</td>\n",
       "      <td>-0.256632</td>\n",
       "      <td>-1.022280</td>\n",
       "    </tr>\n",
       "    <tr>\n",
       "      <th>2017-06-03</th>\n",
       "      <td>1.143273</td>\n",
       "      <td>-0.233660</td>\n",
       "      <td>-0.022156</td>\n",
       "      <td>2.083412</td>\n",
       "    </tr>\n",
       "    <tr>\n",
       "      <th>2017-06-04</th>\n",
       "      <td>-0.359587</td>\n",
       "      <td>-0.823477</td>\n",
       "      <td>0.363769</td>\n",
       "      <td>0.449445</td>\n",
       "    </tr>\n",
       "    <tr>\n",
       "      <th>2017-06-05</th>\n",
       "      <td>-0.862179</td>\n",
       "      <td>-0.110148</td>\n",
       "      <td>-1.419463</td>\n",
       "      <td>1.470670</td>\n",
       "    </tr>\n",
       "    <tr>\n",
       "      <th>2017-06-06</th>\n",
       "      <td>0.993296</td>\n",
       "      <td>0.390077</td>\n",
       "      <td>0.597697</td>\n",
       "      <td>0.669840</td>\n",
       "    </tr>\n",
       "    <tr>\n",
       "      <th>2017-06-07</th>\n",
       "      <td>-0.388123</td>\n",
       "      <td>0.274498</td>\n",
       "      <td>0.081150</td>\n",
       "      <td>-0.586702</td>\n",
       "    </tr>\n",
       "    <tr>\n",
       "      <th>2017-06-08</th>\n",
       "      <td>0.193284</td>\n",
       "      <td>-0.385378</td>\n",
       "      <td>-1.711573</td>\n",
       "      <td>0.593487</td>\n",
       "    </tr>\n",
       "    <tr>\n",
       "      <th>2017-06-09</th>\n",
       "      <td>-0.013713</td>\n",
       "      <td>0.201136</td>\n",
       "      <td>-0.813772</td>\n",
       "      <td>0.898498</td>\n",
       "    </tr>\n",
       "    <tr>\n",
       "      <th>2017-06-10</th>\n",
       "      <td>1.709947</td>\n",
       "      <td>0.272814</td>\n",
       "      <td>-1.435655</td>\n",
       "      <td>-0.714309</td>\n",
       "    </tr>\n",
       "  </tbody>\n",
       "</table>\n",
       "</div>"
      ],
      "text/plain": [
       "                   A         B         C         D\n",
       "2017-06-01 -1.027802  0.071980  1.083831  0.117767\n",
       "2017-06-02  0.928299 -0.975015 -0.256632 -1.022280\n",
       "2017-06-03  1.143273 -0.233660 -0.022156  2.083412\n",
       "2017-06-04 -0.359587 -0.823477  0.363769  0.449445\n",
       "2017-06-05 -0.862179 -0.110148 -1.419463  1.470670\n",
       "2017-06-06  0.993296  0.390077  0.597697  0.669840\n",
       "2017-06-07 -0.388123  0.274498  0.081150 -0.586702\n",
       "2017-06-08  0.193284 -0.385378 -1.711573  0.593487\n",
       "2017-06-09 -0.013713  0.201136 -0.813772  0.898498\n",
       "2017-06-10  1.709947  0.272814 -1.435655 -0.714309"
      ]
     },
     "execution_count": 32,
     "metadata": {},
     "output_type": "execute_result"
    }
   ],
   "source": [
    "ind1 = pd.date_range('06/1/2017', periods=10)\n",
    "df1.set_index(ind1)"
   ]
  },
  {
   "cell_type": "markdown",
   "metadata": {},
   "source": [
    "## Using Numpy functions on DataFrame\n",
    "Elementwise NumPy `ufuncs` like `log`, `exp`, `sqrt`, ... and various other NumPy functions can be used on DataFrame"
   ]
  },
  {
   "cell_type": "code",
   "execution_count": 33,
   "metadata": {},
   "outputs": [
    {
     "data": {
      "text/html": [
       "<div>\n",
       "<style scoped>\n",
       "    .dataframe tbody tr th:only-of-type {\n",
       "        vertical-align: middle;\n",
       "    }\n",
       "\n",
       "    .dataframe tbody tr th {\n",
       "        vertical-align: top;\n",
       "    }\n",
       "\n",
       "    .dataframe thead th {\n",
       "        text-align: right;\n",
       "    }\n",
       "</style>\n",
       "<table border=\"1\" class=\"dataframe\">\n",
       "  <thead>\n",
       "    <tr style=\"text-align: right;\">\n",
       "      <th></th>\n",
       "      <th>A</th>\n",
       "      <th>B</th>\n",
       "      <th>C</th>\n",
       "      <th>D</th>\n",
       "    </tr>\n",
       "  </thead>\n",
       "  <tbody>\n",
       "    <tr>\n",
       "      <th>0</th>\n",
       "      <td>1.027802</td>\n",
       "      <td>0.071980</td>\n",
       "      <td>1.083831</td>\n",
       "      <td>0.117767</td>\n",
       "    </tr>\n",
       "    <tr>\n",
       "      <th>1</th>\n",
       "      <td>0.928299</td>\n",
       "      <td>0.975015</td>\n",
       "      <td>0.256632</td>\n",
       "      <td>1.022280</td>\n",
       "    </tr>\n",
       "    <tr>\n",
       "      <th>2</th>\n",
       "      <td>1.143273</td>\n",
       "      <td>0.233660</td>\n",
       "      <td>0.022156</td>\n",
       "      <td>2.083412</td>\n",
       "    </tr>\n",
       "    <tr>\n",
       "      <th>3</th>\n",
       "      <td>0.359587</td>\n",
       "      <td>0.823477</td>\n",
       "      <td>0.363769</td>\n",
       "      <td>0.449445</td>\n",
       "    </tr>\n",
       "    <tr>\n",
       "      <th>4</th>\n",
       "      <td>0.862179</td>\n",
       "      <td>0.110148</td>\n",
       "      <td>1.419463</td>\n",
       "      <td>1.470670</td>\n",
       "    </tr>\n",
       "    <tr>\n",
       "      <th>5</th>\n",
       "      <td>0.993296</td>\n",
       "      <td>0.390077</td>\n",
       "      <td>0.597697</td>\n",
       "      <td>0.669840</td>\n",
       "    </tr>\n",
       "    <tr>\n",
       "      <th>6</th>\n",
       "      <td>0.388123</td>\n",
       "      <td>0.274498</td>\n",
       "      <td>0.081150</td>\n",
       "      <td>0.586702</td>\n",
       "    </tr>\n",
       "    <tr>\n",
       "      <th>7</th>\n",
       "      <td>0.193284</td>\n",
       "      <td>0.385378</td>\n",
       "      <td>1.711573</td>\n",
       "      <td>0.593487</td>\n",
       "    </tr>\n",
       "    <tr>\n",
       "      <th>8</th>\n",
       "      <td>0.013713</td>\n",
       "      <td>0.201136</td>\n",
       "      <td>0.813772</td>\n",
       "      <td>0.898498</td>\n",
       "    </tr>\n",
       "    <tr>\n",
       "      <th>9</th>\n",
       "      <td>1.709947</td>\n",
       "      <td>0.272814</td>\n",
       "      <td>1.435655</td>\n",
       "      <td>0.714309</td>\n",
       "    </tr>\n",
       "  </tbody>\n",
       "</table>\n",
       "</div>"
      ],
      "text/plain": [
       "          A         B         C         D\n",
       "0  1.027802  0.071980  1.083831  0.117767\n",
       "1  0.928299  0.975015  0.256632  1.022280\n",
       "2  1.143273  0.233660  0.022156  2.083412\n",
       "3  0.359587  0.823477  0.363769  0.449445\n",
       "4  0.862179  0.110148  1.419463  1.470670\n",
       "5  0.993296  0.390077  0.597697  0.669840\n",
       "6  0.388123  0.274498  0.081150  0.586702\n",
       "7  0.193284  0.385378  1.711573  0.593487\n",
       "8  0.013713  0.201136  0.813772  0.898498\n",
       "9  1.709947  0.272814  1.435655  0.714309"
      ]
     },
     "execution_count": 33,
     "metadata": {},
     "output_type": "execute_result"
    }
   ],
   "source": [
    "np.abs(df1)"
   ]
  },
  {
   "cell_type": "code",
   "execution_count": 34,
   "metadata": {},
   "outputs": [
    {
     "data": {
      "text/plain": [
       "array([[-1.02780241,  0.07197991,  1.08383075,  0.11776666],\n",
       "       [ 0.92829924, -0.97501521, -0.2566316 , -1.02227976],\n",
       "       [ 1.14327256, -0.23366037, -0.02215588,  2.08341213],\n",
       "       [-0.35958715, -0.82347742,  0.36376864,  0.44944499],\n",
       "       [-0.86217913, -0.11014768, -1.41946308,  1.47066962],\n",
       "       [ 0.99329586,  0.39007695,  0.59769692,  0.66983982],\n",
       "       [-0.38812253,  0.27449811,  0.08114999, -0.58670202],\n",
       "       [ 0.19328368, -0.38537794, -1.71157274,  0.59348704],\n",
       "       [-0.01371317,  0.20113613, -0.813772  ,  0.89849793],\n",
       "       [ 1.70994656,  0.2728144 , -1.43565488, -0.71430899]])"
      ]
     },
     "execution_count": 34,
     "metadata": {},
     "output_type": "execute_result"
    }
   ],
   "source": [
    "# Convert to numpy array\n",
    "np.asarray(df1)"
   ]
  },
  {
   "cell_type": "markdown",
   "metadata": {},
   "source": [
    "Below you will see another frequent operation is applying a function on 1D arrays to each column or row. DataFrame’s apply method does exactly this:"
   ]
  },
  {
   "cell_type": "code",
   "execution_count": 35,
   "metadata": {},
   "outputs": [
    {
     "data": {
      "text/html": [
       "<div>\n",
       "<style scoped>\n",
       "    .dataframe tbody tr th:only-of-type {\n",
       "        vertical-align: middle;\n",
       "    }\n",
       "\n",
       "    .dataframe tbody tr th {\n",
       "        vertical-align: top;\n",
       "    }\n",
       "\n",
       "    .dataframe thead th {\n",
       "        text-align: right;\n",
       "    }\n",
       "</style>\n",
       "<table border=\"1\" class=\"dataframe\">\n",
       "  <thead>\n",
       "    <tr style=\"text-align: right;\">\n",
       "      <th></th>\n",
       "      <th>A</th>\n",
       "      <th>B</th>\n",
       "      <th>C</th>\n",
       "      <th>D</th>\n",
       "    </tr>\n",
       "  </thead>\n",
       "  <tbody>\n",
       "    <tr>\n",
       "      <th>min</th>\n",
       "      <td>-1.027802</td>\n",
       "      <td>-0.975015</td>\n",
       "      <td>-1.711573</td>\n",
       "      <td>-1.022280</td>\n",
       "    </tr>\n",
       "    <tr>\n",
       "      <th>max</th>\n",
       "      <td>1.709947</td>\n",
       "      <td>0.390077</td>\n",
       "      <td>1.083831</td>\n",
       "      <td>2.083412</td>\n",
       "    </tr>\n",
       "  </tbody>\n",
       "</table>\n",
       "</div>"
      ],
      "text/plain": [
       "            A         B         C         D\n",
       "min -1.027802 -0.975015 -1.711573 -1.022280\n",
       "max  1.709947  0.390077  1.083831  2.083412"
      ]
     },
     "execution_count": 35,
     "metadata": {},
     "output_type": "execute_result"
    }
   ],
   "source": [
    "def fn(x):\n",
    "    \"\"\"\n",
    "    Get max and min of the columns\n",
    "    \"\"\"\n",
    "    return pd.Series([x.min(), x.max()], index=['min', 'max'])\n",
    "\n",
    "df1.apply(fn)"
   ]
  },
  {
   "cell_type": "markdown",
   "metadata": {},
   "source": [
    "Element-wise Python functions can be used, too. Suppose you wanted to format the dataframe elements in floating point format with accuracy of only 3 decimal places. You can do this with applymap:"
   ]
  },
  {
   "cell_type": "code",
   "execution_count": 36,
   "metadata": {},
   "outputs": [
    {
     "data": {
      "text/html": [
       "<div>\n",
       "<style scoped>\n",
       "    .dataframe tbody tr th:only-of-type {\n",
       "        vertical-align: middle;\n",
       "    }\n",
       "\n",
       "    .dataframe tbody tr th {\n",
       "        vertical-align: top;\n",
       "    }\n",
       "\n",
       "    .dataframe thead th {\n",
       "        text-align: right;\n",
       "    }\n",
       "</style>\n",
       "<table border=\"1\" class=\"dataframe\">\n",
       "  <thead>\n",
       "    <tr style=\"text-align: right;\">\n",
       "      <th></th>\n",
       "      <th>A</th>\n",
       "      <th>B</th>\n",
       "      <th>C</th>\n",
       "      <th>D</th>\n",
       "    </tr>\n",
       "  </thead>\n",
       "  <tbody>\n",
       "    <tr>\n",
       "      <th>0</th>\n",
       "      <td>-1.028</td>\n",
       "      <td>0.072</td>\n",
       "      <td>1.084</td>\n",
       "      <td>0.118</td>\n",
       "    </tr>\n",
       "    <tr>\n",
       "      <th>1</th>\n",
       "      <td>0.928</td>\n",
       "      <td>-0.975</td>\n",
       "      <td>-0.257</td>\n",
       "      <td>-1.022</td>\n",
       "    </tr>\n",
       "    <tr>\n",
       "      <th>2</th>\n",
       "      <td>1.143</td>\n",
       "      <td>-0.234</td>\n",
       "      <td>-0.022</td>\n",
       "      <td>2.083</td>\n",
       "    </tr>\n",
       "    <tr>\n",
       "      <th>3</th>\n",
       "      <td>-0.360</td>\n",
       "      <td>-0.823</td>\n",
       "      <td>0.364</td>\n",
       "      <td>0.449</td>\n",
       "    </tr>\n",
       "    <tr>\n",
       "      <th>4</th>\n",
       "      <td>-0.862</td>\n",
       "      <td>-0.110</td>\n",
       "      <td>-1.419</td>\n",
       "      <td>1.471</td>\n",
       "    </tr>\n",
       "    <tr>\n",
       "      <th>5</th>\n",
       "      <td>0.993</td>\n",
       "      <td>0.390</td>\n",
       "      <td>0.598</td>\n",
       "      <td>0.670</td>\n",
       "    </tr>\n",
       "    <tr>\n",
       "      <th>6</th>\n",
       "      <td>-0.388</td>\n",
       "      <td>0.274</td>\n",
       "      <td>0.081</td>\n",
       "      <td>-0.587</td>\n",
       "    </tr>\n",
       "    <tr>\n",
       "      <th>7</th>\n",
       "      <td>0.193</td>\n",
       "      <td>-0.385</td>\n",
       "      <td>-1.712</td>\n",
       "      <td>0.593</td>\n",
       "    </tr>\n",
       "    <tr>\n",
       "      <th>8</th>\n",
       "      <td>-0.014</td>\n",
       "      <td>0.201</td>\n",
       "      <td>-0.814</td>\n",
       "      <td>0.898</td>\n",
       "    </tr>\n",
       "    <tr>\n",
       "      <th>9</th>\n",
       "      <td>1.710</td>\n",
       "      <td>0.273</td>\n",
       "      <td>-1.436</td>\n",
       "      <td>-0.714</td>\n",
       "    </tr>\n",
       "  </tbody>\n",
       "</table>\n",
       "</div>"
      ],
      "text/plain": [
       "        A       B       C       D\n",
       "0  -1.028   0.072   1.084   0.118\n",
       "1   0.928  -0.975  -0.257  -1.022\n",
       "2   1.143  -0.234  -0.022   2.083\n",
       "3  -0.360  -0.823   0.364   0.449\n",
       "4  -0.862  -0.110  -1.419   1.471\n",
       "5   0.993   0.390   0.598   0.670\n",
       "6  -0.388   0.274   0.081  -0.587\n",
       "7   0.193  -0.385  -1.712   0.593\n",
       "8  -0.014   0.201  -0.814   0.898\n",
       "9   1.710   0.273  -1.436  -0.714"
      ]
     },
     "execution_count": 36,
     "metadata": {},
     "output_type": "execute_result"
    }
   ],
   "source": [
    "fmt = lambda x: \"{:.3f}\".format(x)\n",
    "df1.applymap(fmt)"
   ]
  },
  {
   "cell_type": "markdown",
   "metadata": {},
   "source": [
    "The reason for the name `applymap` for dataframe (instead of simply using `map`)is that pandas Series already has a `map` method for applying an element-wise operation"
   ]
  }
 ],
 "metadata": {
  "kernelspec": {
   "display_name": "Python 3",
   "language": "python",
   "name": "python3"
  },
  "language_info": {
   "codemirror_mode": {
    "name": "ipython",
    "version": 3
   },
   "file_extension": ".py",
   "mimetype": "text/x-python",
   "name": "python",
   "nbconvert_exporter": "python",
   "pygments_lexer": "ipython3",
   "version": "3.7.2"
  }
 },
 "nbformat": 4,
 "nbformat_minor": 1
}
