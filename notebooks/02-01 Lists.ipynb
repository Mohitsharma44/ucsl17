{
 "cells": [
  {
   "cell_type": "markdown",
   "metadata": {},
   "source": [
    "## Lists\n",
    "The `list` is one of the most versatile datatypes available in Python. It can be written as a group of comma-separated values between square brackets. Creating a list is as simple as separating items by comma between square brackets.\n",
    "\n",
    "For example:"
   ]
  },
  {
   "cell_type": "code",
   "execution_count": 2,
   "metadata": {},
   "outputs": [
    {
     "name": "stdout",
     "output_type": "stream",
     "text": [
      "Contents of my_list: ['Python', 'Julia', 1, 3.1415].\n",
      "Type: <class 'list'>\n"
     ]
    }
   ],
   "source": [
    "# Notice the mix data types\n",
    "my_list = ['Python', 'Julia', 1, 3.1415]\n",
    "print(\"Contents of my_list: {}.\\nType: {}\".format(my_list, type(my_list)))"
   ]
  },
  {
   "cell_type": "markdown",
   "metadata": {},
   "source": [
    " `\\n` is the escape character for line break\n",
    "\n",
    "Note: Python is a zero-index based, thus to get the first item we simply ask for the item/ element on the 0th index. \n",
    "\n",
    "To get the item in the list, we simply pass the index of the required item to the list:"
   ]
  },
  {
   "cell_type": "code",
   "execution_count": 3,
   "metadata": {},
   "outputs": [
    {
     "data": {
      "text/plain": [
       "'Python'"
      ]
     },
     "execution_count": 3,
     "metadata": {},
     "output_type": "execute_result"
    }
   ],
   "source": [
    "my_list[0]"
   ]
  },
  {
   "cell_type": "markdown",
   "metadata": {},
   "source": [
    "We will now look at some list manipulations techniques (which are similar to strings) and then look at some more methods that makes lists unique.\n",
    "\n",
    "#### Slicing the List\n",
    "\n",
    "When a list is sliced, a shallow copy (we’ll discuss shallow and deep copies in a moment) of the list is performed and a new list is created containing the requested elements.\n",
    "\n",
    "For example:"
   ]
  },
  {
   "cell_type": "code",
   "execution_count": 4,
   "metadata": {},
   "outputs": [
    {
     "data": {
      "text/plain": [
       "['Python', 'Julia']"
      ]
     },
     "execution_count": 4,
     "metadata": {},
     "output_type": "execute_result"
    }
   ],
   "source": [
    "my_list = ['Python', 'Julia', 1, 3.1415]\n",
    "# Performs shallow copy and returns a **new** list with first two elements\n",
    "my_list[:2] # [:2] means between start=0 and stop=2 index values (excluding stop)"
   ]
  },
  {
   "cell_type": "markdown",
   "metadata": {},
   "source": [
    "The slicing can also  be done to get the **n-th** value from a list by passing n as the third argument."
   ]
  },
  {
   "cell_type": "code",
   "execution_count": 5,
   "metadata": {},
   "outputs": [
    {
     "data": {
      "text/plain": [
       "['Julia', 3.1415]"
      ]
     },
     "execution_count": 5,
     "metadata": {},
     "output_type": "execute_result"
    }
   ],
   "source": [
    "my_list[1::2]"
   ]
  },
  {
   "cell_type": "code",
   "execution_count": 6,
   "metadata": {},
   "outputs": [
    {
     "data": {
      "text/plain": [
       "['Julia']"
      ]
     },
     "execution_count": 6,
     "metadata": {},
     "output_type": "execute_result"
    }
   ],
   "source": [
    "# Remember, it doesn't include the nth index value when traversing a list.\n",
    "my_list[-3:-2:1]  # Take every element between index value -3 and -2"
   ]
  },
  {
   "cell_type": "markdown",
   "metadata": {},
   "source": [
    "#### Updating the List\n",
    "\n",
    "Unlike strings and tuples which are immutable, elements in list can be changed without having to create a new list, thus making it mutable.\n",
    "\n",
    "For example:"
   ]
  },
  {
   "cell_type": "code",
   "execution_count": 7,
   "metadata": {},
   "outputs": [
    {
     "name": "stdout",
     "output_type": "stream",
     "text": [
      "Original Contents: \n",
      " ['Python', 'Julia', 'Java', 3.1415]\n",
      "Original Length of array: \n",
      " 4\n",
      "Modified Contents: \n",
      " ['Python', 'Julia']\n",
      "Modified Length of array: \n",
      " 2\n"
     ]
    }
   ],
   "source": [
    "my_list = ['Python', 'Julia', 1, 3.1415]\n",
    "my_list[2] = 'Java'\n",
    "print('Original Contents: \\n', my_list)\n",
    "print('Original Length of array: \\n', len(my_list))\n",
    "# Remove some elements/ changing the size\n",
    "my_list[2:4] = []\n",
    "print('Modified Contents: \\n', my_list)\n",
    "print('Modified Length of array: \\n', len(my_list))"
   ]
  },
  {
   "cell_type": "markdown",
   "metadata": {},
   "source": [
    "#### Appending to the List\n",
    "\n",
    "New items can be easily added to the list by using the `append()` method.\n",
    "\n",
    "Example:"
   ]
  },
  {
   "cell_type": "code",
   "execution_count": 7,
   "metadata": {},
   "outputs": [
    {
     "name": "stdout",
     "output_type": "stream",
     "text": [
      "['Python', 'Julia', 1, 3.1415, 'C++']\n"
     ]
    }
   ],
   "source": [
    "my_list = ['Python', 'Julia', 1, 3.1415]\n",
    "my_list.append('C++') # It will append the item to the end of the list\n",
    "print(my_list)"
   ]
  },
  {
   "cell_type": "markdown",
   "metadata": {},
   "source": [
    "#### Copying Lists\n",
    "\n",
    "There are many ways to create a copy of the lists in python. Lets take a look at few techniques:\n",
    "\n",
    "##### using copy package\n",
    "\n",
    "A copy package is included in Python so you don't have to install it externally to use it. So why create a separate package? \n",
    "\n",
    "From our module on variables, we know that it is very easy to create a copy of objects. We also know that assignment statements ( '=' ) in Python do not copy the objects, they merely create bindings between targets and objects. But for collections that are mutable or contain mutable items, a copy is sometimes needed so that one can change the content of the mutable item without changing the other. \n",
    "\n",
    "There are actually two ways of creating a copy of an object: shallow copies and deep copies. In a shallow copy, Python constructs a new object and then inserts references to into it that are found in the original list. A deep copy, however, creates a new object and copies everything.\n",
    "\n",
    "(If you are curious to know more about it, head over to the [`official documentation`](https://docs.python.org/3.4/library/copy.html) )"
   ]
  },
  {
   "cell_type": "code",
   "execution_count": 8,
   "metadata": {},
   "outputs": [],
   "source": [
    "import copy\n",
    "my_list  = ['Python', 'Julia', 1, 3.1415]\n",
    "my_list1 = copy.copy(my_list)  # Shallow copy.. Fast\n",
    "my_list2 = copy.deepcopy(my_list)  # Deep copy.. Slower"
   ]
  },
  {
   "cell_type": "markdown",
   "metadata": {},
   "source": [
    "##### using slice"
   ]
  },
  {
   "cell_type": "code",
   "execution_count": 9,
   "metadata": {},
   "outputs": [
    {
     "name": "stdout",
     "output_type": "stream",
     "text": [
      "['Python', 'Julia']\n"
     ]
    }
   ],
   "source": [
    "my_list = ['Python', 'Julia', 1, 3.1415]\n",
    "my_list1 = my_list[:2]\n",
    "print(my_list1)"
   ]
  },
  {
   "cell_type": "markdown",
   "metadata": {},
   "source": [
    "##### using list constructor"
   ]
  },
  {
   "cell_type": "code",
   "execution_count": 10,
   "metadata": {},
   "outputs": [
    {
     "name": "stdout",
     "output_type": "stream",
     "text": [
      "['Python', 'Julia', 1, 3.1415]\n"
     ]
    }
   ],
   "source": [
    "my_list = ['Python', 'Julia', 1, 3.1415]\n",
    "# when list method takes a list as a parameter, it creates a copy of that list\n",
    "my_list1 = list(my_list)\n",
    "print(my_list1)"
   ]
  },
  {
   "cell_type": "markdown",
   "metadata": {},
   "source": [
    "#### Delete List Elements\n",
    "To remove list elements, one has two options: either use the del statement or lists’ remove method (we will discuss this last one a bit more later). Here's an example:"
   ]
  },
  {
   "cell_type": "code",
   "execution_count": 11,
   "metadata": {},
   "outputs": [
    {
     "data": {
      "text/plain": [
       "[1, 2, 3, 4]"
      ]
     },
     "execution_count": 11,
     "metadata": {},
     "output_type": "execute_result"
    }
   ],
   "source": [
    "my_list = [1, 2, 3, 4, 5]\n",
    "del(my_list[4])\n",
    "my_list"
   ]
  },
  {
   "cell_type": "markdown",
   "metadata": {},
   "source": [
    "#### Nested Lists\n",
    "As the name suggests, nested lists are a list of elements where the element itself is another list. \n",
    "\n",
    "For example:"
   ]
  },
  {
   "cell_type": "code",
   "execution_count": 12,
   "metadata": {},
   "outputs": [
    {
     "data": {
      "text/plain": [
       "[[1, 2, 3, 4, 5], ['a', 'b', 'c', 'd', 'e']]"
      ]
     },
     "execution_count": 12,
     "metadata": {},
     "output_type": "execute_result"
    }
   ],
   "source": [
    "my_list1 = [1, 2, 3, 4, 5]\n",
    "my_list2 = ['a', 'b', 'c', 'd', 'e']\n",
    "my_list3 = [my_list1, my_list2]\n",
    "my_list3"
   ]
  },
  {
   "cell_type": "markdown",
   "metadata": {},
   "source": [
    "#### List Concatenation, Repetition, Membership:\n",
    "\n",
    "These are simple list manipulation methods similar to strings. Take a look at following examples:"
   ]
  },
  {
   "cell_type": "code",
   "execution_count": 13,
   "metadata": {},
   "outputs": [
    {
     "data": {
      "text/plain": [
       "[1, 2, 3, 4, 5, 'a', 'b', 'c', 'd', 'e']"
      ]
     },
     "execution_count": 13,
     "metadata": {},
     "output_type": "execute_result"
    }
   ],
   "source": [
    "my_list1 = [1, 2, 3, 4, 5]\n",
    "my_list2 = ['a', 'b', 'c', 'd', 'e']\n",
    "my_list1 + my_list2  # List Concatenation"
   ]
  },
  {
   "cell_type": "code",
   "execution_count": 14,
   "metadata": {},
   "outputs": [
    {
     "data": {
      "text/plain": [
       "[1, 2, 3, 4, 5, 1, 2, 3, 4, 5]"
      ]
     },
     "execution_count": 14,
     "metadata": {},
     "output_type": "execute_result"
    }
   ],
   "source": [
    "# List Repetition\n",
    "my_list1 * 2"
   ]
  },
  {
   "cell_type": "code",
   "execution_count": 15,
   "metadata": {},
   "outputs": [
    {
     "data": {
      "text/plain": [
       "True"
      ]
     },
     "execution_count": 15,
     "metadata": {},
     "output_type": "execute_result"
    }
   ],
   "source": [
    "# Membership operator, returns true if member of list\n",
    "3 in my_list1"
   ]
  },
  {
   "cell_type": "markdown",
   "metadata": {},
   "source": [
    "#### Traversing a list:\n",
    "\n",
    "The most straightforward way to traverse a list is using loops. We will look at loops in more detail later, but for now let’s just deal with two important elements, the for loop and while loop.\n",
    "\n",
    "##### for loop:\n",
    "Example:"
   ]
  },
  {
   "cell_type": "code",
   "execution_count": 16,
   "metadata": {},
   "outputs": [
    {
     "name": "stdout",
     "output_type": "stream",
     "text": [
      "1\n",
      "2\n",
      "3\n",
      "4\n",
      "5\n"
     ]
    }
   ],
   "source": [
    "my_list = [1, 2, 3, 4, 5]\n",
    "for element in my_list:\n",
    "    print(element)"
   ]
  },
  {
   "cell_type": "markdown",
   "metadata": {},
   "source": [
    "Now lets traverse using the index numbers\n",
    "\n",
    "Example:"
   ]
  },
  {
   "cell_type": "code",
   "execution_count": 16,
   "metadata": {},
   "outputs": [
    {
     "name": "stdout",
     "output_type": "stream",
     "text": [
      "my_list[0] : 1\n",
      "my_list[1] : 2\n",
      "my_list[2] : 3\n",
      "my_list[3] : 4\n"
     ]
    }
   ],
   "source": [
    "for index in range(len(my_list)): # start from 0 and go till the length of the list.\n",
    "    print(\"my_list[{}] : {}\".format(index, my_list[index]))"
   ]
  },
  {
   "cell_type": "markdown",
   "metadata": {},
   "source": [
    "##### While loop:\n",
    "Just like for loop, we can traverse the list based on its index numbers:\n",
    "\n",
    "For example:"
   ]
  },
  {
   "cell_type": "code",
   "execution_count": 17,
   "metadata": {},
   "outputs": [
    {
     "name": "stdout",
     "output_type": "stream",
     "text": [
      "my_list[0] : 1\n",
      "my_list[1] : 2\n",
      "my_list[2] : 3\n",
      "my_list[3] : 4\n"
     ]
    }
   ],
   "source": [
    "index = 0\n",
    "# till index is less than length of list\n",
    "while index < len(my_list):\n",
    "    print(\"my_list[{}] : {}\".format(index, my_list[index]))\n",
    "    # increment index by 1 at every iteration\n",
    "    index += 1"
   ]
  },
  {
   "cell_type": "markdown",
   "metadata": {},
   "source": [
    "#### Enumerating:\n",
    "Python has a built-in method called enumerate which returns both index value and value of list ( or any other iterable object).\n",
    "\n",
    "Example:"
   ]
  },
  {
   "cell_type": "code",
   "execution_count": 18,
   "metadata": {},
   "outputs": [
    {
     "name": "stdout",
     "output_type": "stream",
     "text": [
      "my_list[0] : 1\n",
      "my_list[1] : 2\n",
      "my_list[2] : 3\n",
      "my_list[3] : 4\n"
     ]
    }
   ],
   "source": [
    "for ind, val in enumerate(my_list):\n",
    "    print(\"my_list[{}] : {}\".format(ind, val))"
   ]
  },
  {
   "cell_type": "markdown",
   "metadata": {},
   "source": [
    "#### List Comprehension\n",
    "List comprehension is a syntactic way of creating a list based on the existing list, just like we did when copying the lists above. The basic structure of the syntax includes a for loop that traverses the list and evaluates a condition using the if.. else condition. It then stores the output of the condition as a new list. Let's take a look at a quick example:\n"
   ]
  },
  {
   "cell_type": "code",
   "execution_count": 19,
   "metadata": {},
   "outputs": [
    {
     "name": "stdout",
     "output_type": "stream",
     "text": [
      "[2, 4]\n"
     ]
    }
   ],
   "source": [
    "my_list1 = [elem for elem in my_list if elem % 2 == 0]\n",
    "print(my_list1)"
   ]
  },
  {
   "cell_type": "markdown",
   "metadata": {},
   "source": [
    "We simply create a list `my_list1` from the elements in `my_list` that are completely divisible by 2.\n",
    "\n",
    "There are many ways in which the list comprehension can be used. It is just a shorthand of writing better readable code."
   ]
  },
  {
   "cell_type": "markdown",
   "metadata": {},
   "source": [
    "#### Built- in List Functions and Methods:\n",
    "\n",
    "Python provides following methods for lists:\n",
    "\n",
    "##### max:\n",
    "\n",
    "This method returns the elements from the list with maximum value.\n",
    "\n",
    "For example:"
   ]
  },
  {
   "cell_type": "code",
   "execution_count": 21,
   "metadata": {},
   "outputs": [
    {
     "data": {
      "text/plain": [
       "3"
      ]
     },
     "execution_count": 21,
     "metadata": {},
     "output_type": "execute_result"
    }
   ],
   "source": [
    "my_list1 = [1, 2, 3]\n",
    "max(my_list1)"
   ]
  },
  {
   "cell_type": "markdown",
   "metadata": {},
   "source": [
    "##### min:\n",
    "\n",
    "This method returns the element from the list with minimum value."
   ]
  },
  {
   "cell_type": "code",
   "execution_count": 20,
   "metadata": {},
   "outputs": [
    {
     "data": {
      "text/plain": [
       "1"
      ]
     },
     "execution_count": 20,
     "metadata": {},
     "output_type": "execute_result"
    }
   ],
   "source": [
    "min(my_list)"
   ]
  },
  {
   "cell_type": "markdown",
   "metadata": {},
   "source": [
    "##### list:\n",
    "\n",
    "This method takes sequence types and converts them to lists. This is also used to convert a tuple into a list.\n",
    "\n",
    "For example:"
   ]
  },
  {
   "cell_type": "code",
   "execution_count": 21,
   "metadata": {},
   "outputs": [
    {
     "data": {
      "text/plain": [
       "['Python', 'Julia', 1, 3.1415]"
      ]
     },
     "execution_count": 21,
     "metadata": {},
     "output_type": "execute_result"
    }
   ],
   "source": [
    "my_list = list(('Python', 'Julia', 1, 3.1415))  # iterable as a tuple\n",
    "my_list"
   ]
  },
  {
   "cell_type": "markdown",
   "metadata": {},
   "source": [
    "The above line might be a little confusing. `list` is a built-in function which can either create an empty list if it is called with no parameters, or create a new list of the iterable/ sequence that it is given as an input. That means that list can at most 1 argument. Thus we have to put our elements in a circular bracket (which makes it a `tuple`, btw) and then pass it as an argument to list method. \n",
    "\n",
    "##### list.count(obj):\n",
    "This method returns the number of times the object, that is passed as a parameter, occurs in the list.\n",
    "\n",
    "For example:"
   ]
  },
  {
   "cell_type": "code",
   "execution_count": 22,
   "metadata": {},
   "outputs": [
    {
     "data": {
      "text/plain": [
       "1"
      ]
     },
     "execution_count": 22,
     "metadata": {},
     "output_type": "execute_result"
    }
   ],
   "source": [
    "my_list = ['Python', 'Julia', 1, 3.1415]\n",
    "my_list.count('Python')"
   ]
  },
  {
   "cell_type": "markdown",
   "metadata": {},
   "source": [
    "##### list.extend(seq):\n",
    "This method appends the contents of a sequence to a list. Here is an equivalent operation using slicing -- `my_list1[len(my_list1):] = my_list2` and print `my_list1`."
   ]
  },
  {
   "cell_type": "code",
   "execution_count": 23,
   "metadata": {},
   "outputs": [
    {
     "name": "stdout",
     "output_type": "stream",
     "text": [
      "['Python', 'Julia', 1, 3.1415, 'C++', 'Java', 2, 2.7182]\n"
     ]
    }
   ],
   "source": [
    "my_list1 = ['Python', 'Julia', 1, 3.1415]\n",
    "my_list2 = ['C++', 'Java', 2, 2.7182]\n",
    "my_list1.extend(my_list2)\n",
    "print(my_list1)"
   ]
  },
  {
   "cell_type": "markdown",
   "metadata": {},
   "source": [
    "##### list.index(obj):\n",
    "\n",
    "This method returns the lowest index in the list that object appears."
   ]
  },
  {
   "cell_type": "code",
   "execution_count": 24,
   "metadata": {},
   "outputs": [
    {
     "data": {
      "text/plain": [
       "1"
      ]
     },
     "execution_count": 24,
     "metadata": {},
     "output_type": "execute_result"
    }
   ],
   "source": [
    "my_list = ['Python', 'Julia', 1, 3.1415]\n",
    "my_list.index('Julia')"
   ]
  },
  {
   "cell_type": "markdown",
   "metadata": {},
   "source": [
    "##### list.insert(index, obj):\n",
    "\n",
    "This method is used to insert the object at the offset index."
   ]
  },
  {
   "cell_type": "code",
   "execution_count": 25,
   "metadata": {},
   "outputs": [
    {
     "name": "stdout",
     "output_type": "stream",
     "text": [
      "['Python', 'Julia', 1, 2.7182, 3.1415]\n"
     ]
    }
   ],
   "source": [
    "my_list = ['Python', 'Julia', 1, 3.1415]\n",
    "my_list.insert(3, 2.7182)\n",
    "print(my_list)"
   ]
  },
  {
   "cell_type": "markdown",
   "metadata": {
    "collapsed": true
   },
   "source": [
    "##### list.pop(obj = list[-1]):\n",
    "\n",
    "This method removes and returns the removed object from the list. If you don't pass the argument to the function, it will by default `pop` the last element from the list"
   ]
  },
  {
   "cell_type": "code",
   "execution_count": 28,
   "metadata": {},
   "outputs": [
    {
     "data": {
      "text/plain": [
       "'Julia'"
      ]
     },
     "execution_count": 28,
     "metadata": {},
     "output_type": "execute_result"
    }
   ],
   "source": [
    "my_list = ['Python', 'Julia', 1, 3.1415]\n",
    "# pop the last element\n",
    "my_list.pop(1)"
   ]
  },
  {
   "cell_type": "markdown",
   "metadata": {},
   "source": [
    "##### list.remove(obj):\n",
    "\n",
    "This method is used to remove the object from the list. The `object` to be removed should be passed as an argument to the function. Unlike pop, this does not return anything."
   ]
  },
  {
   "cell_type": "code",
   "execution_count": 29,
   "metadata": {},
   "outputs": [
    {
     "name": "stdout",
     "output_type": "stream",
     "text": [
      "['Python', 1, 3.1415]\n"
     ]
    }
   ],
   "source": [
    "my_list = ['Python', 'Julia', 1, 3.1415]\n",
    "my_list.remove('Julia')\n",
    "print(my_list)"
   ]
  },
  {
   "cell_type": "markdown",
   "metadata": {},
   "source": [
    "##### list.reverse():\n",
    "\n",
    "This method reverses the objects of list in place"
   ]
  },
  {
   "cell_type": "code",
   "execution_count": 30,
   "metadata": {},
   "outputs": [
    {
     "name": "stdout",
     "output_type": "stream",
     "text": [
      "[3.1415, 1, 'Julia', 'Python']\n"
     ]
    }
   ],
   "source": [
    "my_list = ['Python', 'Julia', 1, 3.1415]\n",
    "my_list.reverse()\n",
    "print(my_list)"
   ]
  },
  {
   "cell_type": "markdown",
   "metadata": {},
   "source": [
    "##### list.sort([func]):\n",
    "\n",
    "This method sorts objects of list by using the compare function passed as optional parameter. You can also sort the string in reverse by passing the optional parameter `reverse=True`"
   ]
  },
  {
   "cell_type": "code",
   "execution_count": 30,
   "metadata": {},
   "outputs": [
    {
     "name": "stdout",
     "output_type": "stream",
     "text": [
      "Sorted:          [1, 2, 6, 7, 9]\n",
      "Reverse Sorted:  [9, 7, 6, 2, 1]\n"
     ]
    }
   ],
   "source": [
    "my_list = [7, 6, 1, 9, 2]\n",
    "my_list.sort()\n",
    "print(\"Sorted:         \", my_list)\n",
    "my_list.sort(reverse=True)\n",
    "print(\"Reverse Sorted: \", my_list)"
   ]
  }
 ],
 "metadata": {
  "kernelspec": {
   "display_name": "Python 3",
   "language": "python",
   "name": "python3"
  },
  "language_info": {
   "codemirror_mode": {
    "name": "ipython",
    "version": 3
   },
   "file_extension": ".py",
   "mimetype": "text/x-python",
   "name": "python",
   "nbconvert_exporter": "python",
   "pygments_lexer": "ipython3",
   "version": "3.7.2"
  }
 },
 "nbformat": 4,
 "nbformat_minor": 2
}
