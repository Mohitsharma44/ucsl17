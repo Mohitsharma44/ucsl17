{
 "cells": [
  {
   "cell_type": "markdown",
   "metadata": {},
   "source": [
    "### Python Syntax"
   ]
  },
  {
   "cell_type": "markdown",
   "metadata": {},
   "source": [
    "In June of 1999, early Python developer Tim Peters wrote The Zen of Python, which summed up the ethos of the program and included such sayings as \"Beautiful is better than ugly\" and \"Simple is better than complex.\" The most important of them for our purposes, however, and the reason you're learning Python today, is this one: \n",
    "\n",
    "\"There should be one -- and preferably only one -- obvious way to do it\" \n",
    "\n",
    "As The Zen of Python suggests, the syntax of the Python programming language is the set of rules that define how a Python program will be written and interpreted by the system (and by yourself). Python was designed to be a highly readable language. It has an uncluttered visual layout and uses English keywords frequently. Python aims towards simplicity and generality in the design of its syntax.\n",
    "\n",
    "The rest of this section will outline the key aspects of Python syntax. But first..."
   ]
  },
  {
   "cell_type": "markdown",
   "metadata": {},
   "source": [
    "### Jupyter Notebooks Tip"
   ]
  },
  {
   "cell_type": "markdown",
   "metadata": {},
   "source": [
    "Remember:\n",
    "\n",
    "To run a cell, you can press Shift+Enter (to execute and go to next cell) or Ctrl+Enter (to execute and stay on the same cell).\n",
    "\n",
    "To add an empty cell, press Esc to get out of edit mode and press either b key (to add it after the current cell) or a  key (to add it before the current cell).\n",
    "\n",
    "You can make edits to the code and play around with it. However you cannot save the edits made to this notebook if you are running it on CDF.\n",
    "\n",
    "Now let's go on! "
   ]
  },
  {
   "cell_type": "markdown",
   "metadata": {},
   "source": [
    "### Indentation\n",
    "Python provides no braces to indicate blocks of code. Blocks of code are denoted by line indentation. The number of spaces or tabs in an indentation is variable but it is rigidly enforced. For example:"
   ]
  },
  {
   "cell_type": "code",
   "execution_count": 1,
   "metadata": {},
   "outputs": [
    {
     "name": "stdout",
     "output_type": "stream",
     "text": [
      "a is 12 :) \n"
     ]
    }
   ],
   "source": [
    "a = 12\n",
    "if a == 12:\n",
    "    print(\"a is 12 :) \")\n",
    "else:\n",
    "    print(\"a is not 12 :( \")"
   ]
  },
  {
   "cell_type": "markdown",
   "metadata": {},
   "source": [
    "Let’s see what happens If we don't respect the indentation, let's say, in the “else” block of code:"
   ]
  },
  {
   "cell_type": "code",
   "execution_count": 2,
   "metadata": {},
   "outputs": [
    {
     "ename": "IndentationError",
     "evalue": "expected an indented block (<ipython-input-2-403d004eab8c>, line 5)",
     "output_type": "error",
     "traceback": [
      "\u001b[0;36m  File \u001b[0;32m\"<ipython-input-2-403d004eab8c>\"\u001b[0;36m, line \u001b[0;32m5\u001b[0m\n\u001b[0;31m    print (\"a is not 12 :( \")\u001b[0m\n\u001b[0m        ^\u001b[0m\n\u001b[0;31mIndentationError\u001b[0m\u001b[0;31m:\u001b[0m expected an indented block\n"
     ]
    }
   ],
   "source": [
    "a = 12\n",
    "if a == 12:\n",
    "    print(\"a is 12 :) \")\n",
    "else:\n",
    "print (\"a is not 12 :( \")"
   ]
  },
  {
   "cell_type": "markdown",
   "metadata": {},
   "source": [
    "Thus, if we want to add any more lines in the condition blocks, the lines should all have same level of indentation inside the if block or else block. The Jupyter Notebooks automatically indent your code so you don't have to. However when you write your own code in a regular text editor or in an idle, make sure to indent your code.\n",
    "\n",
    "Note: Cross-platform compatibility note: because of the nature of text editors on non-UNIX platforms, it is unwise to use a mixture of spaces and tabs for the indentation in a single source file. It should also be noted that different platforms may explicitly limit the maximum indentation level.\n",
    "\n",
    "Thus, if we want to add any more lines in the condition blocks, the lines should all have same level of indentation inside the if block or else block"
   ]
  },
  {
   "cell_type": "markdown",
   "metadata": {},
   "source": [
    "#### Multi-line Statements\n",
    "\n",
    "Statements in Python typically ends with a new line. However, python allows the use of the line continuation character ( \\ ) to denote that the line should continue. For example:\n",
    "\n"
   ]
  },
  {
   "cell_type": "code",
   "execution_count": 3,
   "metadata": {},
   "outputs": [
    {
     "ename": "SyntaxError",
     "evalue": "EOL while scanning string literal (<ipython-input-3-c61beeff2813>, line 1)",
     "output_type": "error",
     "traceback": [
      "\u001b[0;36m  File \u001b[0;32m\"<ipython-input-3-c61beeff2813>\"\u001b[0;36m, line \u001b[0;32m1\u001b[0m\n\u001b[0;31m    a = \"Hello\u001b[0m\n\u001b[0m               ^\u001b[0m\n\u001b[0;31mSyntaxError\u001b[0m\u001b[0;31m:\u001b[0m EOL while scanning string literal\n"
     ]
    }
   ],
   "source": [
    "a = \"Hello \n",
    "World\"\n",
    "print(a)"
   ]
  },
  {
   "cell_type": "code",
   "execution_count": 4,
   "metadata": {},
   "outputs": [
    {
     "name": "stdout",
     "output_type": "stream",
     "text": [
      "Hello World\n"
     ]
    }
   ],
   "source": [
    "a = \"Hello \\\n",
    "World\"\n",
    "print(a)"
   ]
  },
  {
   "cell_type": "markdown",
   "metadata": {},
   "source": [
    "The above is an explicit line joining technique. Another way to tell Python not to end is by putting the strings or variables within the brackets ( ), { }, [ ] without using the line continuation character"
   ]
  },
  {
   "cell_type": "code",
   "execution_count": 5,
   "metadata": {},
   "outputs": [
    {
     "data": {
      "text/plain": [
       "['one', 'two', 'threefour', 'five']"
      ]
     },
     "execution_count": 5,
     "metadata": {},
     "output_type": "execute_result"
    }
   ],
   "source": [
    "num = ['one', 'two', 'three'\n",
    "       'four', 'five']\n",
    "num"
   ]
  },
  {
   "cell_type": "markdown",
   "metadata": {},
   "source": [
    "This is known as implicit line joining technique.\n"
   ]
  },
  {
   "cell_type": "markdown",
   "metadata": {},
   "source": [
    "#### Quotations\n",
    "We have used single and double quotes in the examples so far. Python accepts single, double and triple (''' or \"\"\")quotes to denote string literals. Bear in mind that the start quote and end quote should be of the same type. Strings are generally created by using single or double quotes (python treats single and double quotes as the same.) Triple quotes are used when the string literals span across multiple lines. Consider the following examples:"
   ]
  },
  {
   "cell_type": "code",
   "execution_count": 5,
   "metadata": {},
   "outputs": [],
   "source": [
    "name = 'UCSL'\n",
    "instructor = \"Mohit\"\n",
    "description = '''The UCSL at CUSP is a series of online sessions designed to build a \n",
    "common skillset and familiarity with techniques, concepts, and models for \n",
    "urban informatics computing. The online sessions focus on data explorations, \n",
    "programming skills and statistical methods needed for scientific computing \n",
    "in the field of Urban Informatics.'''"
   ]
  },
  {
   "cell_type": "code",
   "execution_count": 6,
   "metadata": {},
   "outputs": [
    {
     "name": "stdout",
     "output_type": "stream",
     "text": [
      "UCSL\n",
      "Mohit\n",
      "The UCSL at CUSP is a series of online sessions designed to build a \n",
      "common skillset and familiarity with techniques, concepts, and models for \n",
      "urban informatics computing. The online sessions focus on data explorations, \n",
      "programming skills and statistical methods needed for scientific computing \n",
      "in the field of Urban Informatics.\n"
     ]
    }
   ],
   "source": [
    "print(name)\n",
    "print(instructor)\n",
    "print(description)"
   ]
  },
  {
   "cell_type": "markdown",
   "metadata": {},
   "source": [
    "### Comments\n",
    "Comments are the statements that are not evaluated by Python. They are generally used for improving the readability and understanding of what the code does. You will also be expected to comment on your own code at CUSP, so it's important to get used to both reading and doing it. There are basically 3 ways:\n",
    "\n",
    "##### Block Comments \n",
    "Block comments generally apply to some (or all) code that follows them, and are indented to the same level as that code. Each line of a block comment starts with a # and a single space. Paragraphs inside a block comment are separated by a line containing a single #\n",
    "\n",
    "You can replace # by putting the comment inside in a non repl environment"
   ]
  },
  {
   "cell_type": "code",
   "execution_count": 8,
   "metadata": {},
   "outputs": [
    {
     "data": {
      "text/plain": [
       "12"
      ]
     },
     "execution_count": 8,
     "metadata": {},
     "output_type": "execute_result"
    }
   ],
   "source": [
    "# I wont be evaluated\n",
    "a = 12\n",
    "a"
   ]
  },
  {
   "cell_type": "markdown",
   "metadata": {},
   "source": [
    "##### Inline Comments\n",
    "An inline comment is a comment on the same line as a statement. Inline comments should be separated by at least two spaces from the statement. They should start with a # and a single space. Inline comments are unnecessary and in fact distracting if they state the obvious."
   ]
  },
  {
   "cell_type": "code",
   "execution_count": 7,
   "metadata": {},
   "outputs": [],
   "source": [
    "x = 100  # Setting x to 100 (this is unnecessary)"
   ]
  },
  {
   "cell_type": "markdown",
   "metadata": {},
   "source": [
    "#### Docstrings\n",
    "Every function that you write should be accompanied with a Docstring that tells about the function.\n",
    "\n",
    "Docstrings are written between a triple quote (\"\"\" ...< docstring >...\"\"\").\n",
    "\n",
    "We'll learn about functions a bit later.. and will enforce having docstrings there."
   ]
  },
  {
   "cell_type": "code",
   "execution_count": 8,
   "metadata": {},
   "outputs": [],
   "source": [
    "def my_func():\n",
    "    \"\"\"\n",
    "    This function will\n",
    "    perform .....\n",
    "    \"\"\"\n",
    "    pass"
   ]
  },
  {
   "cell_type": "code",
   "execution_count": 9,
   "metadata": {},
   "outputs": [
    {
     "data": {
      "text/plain": [
       "'\\n    This function will\\n    perform .....\\n    '"
      ]
     },
     "execution_count": 9,
     "metadata": {},
     "output_type": "execute_result"
    }
   ],
   "source": [
    "my_func.__doc__"
   ]
  },
  {
   "cell_type": "markdown",
   "metadata": {},
   "source": [
    "Docstrings are also printed when you type < function_name. Go ahead.. try typing my_func? on the next line."
   ]
  },
  {
   "cell_type": "code",
   "execution_count": 12,
   "metadata": {},
   "outputs": [
    {
     "ename": "SyntaxError",
     "evalue": "invalid syntax (<ipython-input-12-86183cac2d11>, line 1)",
     "output_type": "error",
     "traceback": [
      "\u001b[0;36m  File \u001b[0;32m\"<ipython-input-12-86183cac2d11>\"\u001b[0;36m, line \u001b[0;32m1\u001b[0m\n\u001b[0;31m    sum my func?\u001b[0m\n\u001b[0m         ^\u001b[0m\n\u001b[0;31mSyntaxError\u001b[0m\u001b[0;31m:\u001b[0m invalid syntax\n"
     ]
    }
   ],
   "source": [
    "sum my func? "
   ]
  },
  {
   "cell_type": "code",
   "execution_count": 13,
   "metadata": {},
   "outputs": [
    {
     "ename": "SyntaxError",
     "evalue": "invalid syntax (<ipython-input-13-5ca67e274d2a>, line 1)",
     "output_type": "error",
     "traceback": [
      "\u001b[0;36m  File \u001b[0;32m\"<ipython-input-13-5ca67e274d2a>\"\u001b[0;36m, line \u001b[0;32m1\u001b[0m\n\u001b[0;31m    <sum?\u001b[0m\n\u001b[0m    ^\u001b[0m\n\u001b[0;31mSyntaxError\u001b[0m\u001b[0;31m:\u001b[0m invalid syntax\n"
     ]
    }
   ],
   "source": [
    "<sum? "
   ]
  },
  {
   "cell_type": "code",
   "execution_count": null,
   "metadata": {},
   "outputs": [],
   "source": []
  }
 ],
 "metadata": {
  "kernelspec": {
   "display_name": "Python 3",
   "language": "python",
   "name": "python3"
  },
  "language_info": {
   "codemirror_mode": {
    "name": "ipython",
    "version": 3
   },
   "file_extension": ".py",
   "mimetype": "text/x-python",
   "name": "python",
   "nbconvert_exporter": "python",
   "pygments_lexer": "ipython3",
   "version": "3.7.2"
  }
 },
 "nbformat": 4,
 "nbformat_minor": 2
}
