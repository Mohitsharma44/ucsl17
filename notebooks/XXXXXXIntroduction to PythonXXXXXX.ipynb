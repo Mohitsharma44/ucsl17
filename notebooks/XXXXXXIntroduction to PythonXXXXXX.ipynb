{
 "cells": [
  {
   "cell_type": "markdown",
   "metadata": {},
   "source": [
    "## 01 - 00 Introduction to Python\n",
    "We mentioned the pros of using Python as our tool for performing urban science in the Introduction to Notebook and Beyond. In this introductory module we will discuss the basic semantics of the language and get our hands dirty by actually typing and executing the code blocks.\n",
    "> ##### Remeber:\n",
    "> - To run a cell, you can press `Shift+Enter` (to execute and go to next cell) or `Ctrl+Enter` (to execute and stay on the same cell).\n",
    "> - To add an empty cell, press `Esc` to get out of edit mode and press either `b` key (to add it after the current cell) or `a` key (to add it before the current cell). \n",
    "> - You can make edits to the code and play around with it. However you cannot save the edits made to this notebook if you are running it on CDF.\n"
   ]
  },
  {
   "cell_type": "markdown",
   "metadata": {},
   "source": [
    "Python has following 6 built-in Data-Types:\n",
    "\n",
    "| Type     | Description           | Example |\n",
    "|----------|-----------------------|---------|\n",
    "| int      | Integer values        | 123     |\n",
    "| float    | Floating point values | 10.12   |\n",
    "| complex  | Complex values        | 1 + 3j  |\n",
    "| bool     | Boolean values        | True    |\n",
    "| str      | String values         | \"Hello\" |\n",
    "| NoneType | None value            | None    |"
   ]
  },
  {
   "cell_type": "markdown",
   "metadata": {},
   "source": [
    "and 4 Data-Structures\n",
    "\n",
    "| Type  | Description                           | Example              |\n",
    "|-------|---------------------------------------|----------------------|\n",
    "| list  | Ordered collection of values          | [1, 'abc', 3, 1]     |\n",
    "| set   | Unordered collection of unique values | {1, 'abc', 3}        |\n",
    "| tuple | Immutable Ordered collection          | (1, 'abc', 3)        |\n",
    "| dict  | Unordered key. value pairs            | {'abc': 1, 'def': 2} |"
   ]
  },
  {
   "cell_type": "markdown",
   "metadata": {},
   "source": [
    "In this section we will learn about the above Python's built-in Data-Types and Data-Structures."
   ]
  }
 ],
 "metadata": {
  "kernelspec": {
   "display_name": "Python 3",
   "language": "python",
   "name": "python3"
  },
  "language_info": {
   "codemirror_mode": {
    "name": "ipython",
    "version": 3
   },
   "file_extension": ".py",
   "mimetype": "text/x-python",
   "name": "python",
   "nbconvert_exporter": "python",
   "pygments_lexer": "ipython3",
   "version": "3.7.2"
  }
 },
 "nbformat": 4,
 "nbformat_minor": 2
}
