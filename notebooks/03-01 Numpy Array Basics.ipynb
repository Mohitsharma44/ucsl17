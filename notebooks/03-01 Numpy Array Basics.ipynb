{
 "cells": [
  {
   "cell_type": "markdown",
   "metadata": {},
   "source": [
    "## Numpy Array Basics\n",
    "\n",
    "Numpy’s main object is the homogenous multi-dimensional array, generally of fixed size. The number of dimensions in a numpy array is defined by its shape which is a tuple of positive integers that specifies the size of each dimension.\n",
    "\n",
    "Numpy arrays are similar to Python lists with few differences such as: \n",
    " - All the elements in a numpy array must be of same datatype. \n",
    " - You can't change the size of a numpy array (at least not without making a full copy.. we'll see this a little later)\n",
    " - Numpy arrays are easy to construct and to manipulate.\n",
    " - Numpy arrays support “vectorized” operations like elementwise addition and multiplication without having to run a `for` loop explicitly in python.\n",
    " \n",
    "We'll cover basic array manipulations here:\n",
    "- *Attributes of arrays*: Determining the size, shape, memory consumption, and data types of arrays\n",
    "- *Creating arrays*: Different ways of creating the Arrays\n",
    "- *Indexing of arrays*: Getting and setting the value of individual array elements\n",
    "- *Slicing of arrays*: Getting and setting smaller subarrays within a larger array\n",
    "- *Reshaping of arrays*: Changing the shape of a given array\n",
    "- *Joining and splitting of arrays*: Combining multiple arrays into one, and splitting one array into many\n",
    "\n",
    "### Attributes of Arrays"
   ]
  },
  {
   "cell_type": "code",
   "execution_count": 1,
   "metadata": {},
   "outputs": [
    {
     "name": "stdout",
     "output_type": "stream",
     "text": [
      "Type:  <class 'numpy.ndarray'>\n",
      "Shape:  (4,)\n",
      "Dimension:  1\n",
      "Itemsize:  8\n",
      "Size:  4\n"
     ]
    }
   ],
   "source": [
    "from __future__ import print_function\n",
    "import numpy as np\n",
    "# Single dimensional Array from a list\n",
    "arr = np.array([1, 2, 3, 4], dtype=float)\n",
    "print('Type: ',type(arr))\n",
    "print('Shape: ',arr.shape)\n",
    "print('Dimension: ',arr.ndim)\n",
    "print('Itemsize: ',arr.itemsize)\n",
    "print('Size: ',arr.size)"
   ]
  },
  {
   "cell_type": "markdown",
   "metadata": {},
   "source": [
    "There are many different attributes of `ndarray` class and by now you should be able to understand how to access those attributes and get help for them (Hint: completion). \n",
    "\n",
    "Let's understand at some of the attributes that we printed above.\n",
    "\n",
    "##### ndarray.ndim\n",
    "It is the number of axes or dimensions of the array.\n",
    "\n",
    "##### ndarray.shape\n",
    "It is the dimension of the array. This is a tuple of integers indicating the size of the array in each dimension. For a matrix with n rows and m columns, the shape will be (m, n). The shape attribute is thus a tuple. For single dimensional arrays, the second element of the tuple will be None (as it is on our case).\n",
    "\n",
    "##### ndarray.dtype\n",
    "It is an object describing the type of the elements in the array. Remember that all the elements need to be of same datatype in a numpy array. Additionally numpy provides its own int16, int32, float64 and so on.\n",
    "\n",
    "##### ndarray.itemsize\n",
    "The size in bytes of each element of the array. For example an array of elements of type float64 has itemsize of $\\frac{64}{8} = 8$ and one complex32 has item size of $\\frac{32}{8} = 4$.\n",
    "\n",
    "##### ndarray.data\n",
    "This is the buffer containing the actual elements of the array. Normally this attribute is not used as numpy offers many fancy indexing facilities.\n",
    "\n",
    "Let's take a look at another example:"
   ]
  },
  {
   "cell_type": "code",
   "execution_count": 2,
   "metadata": {},
   "outputs": [
    {
     "name": "stdout",
     "output_type": "stream",
     "text": [
      "Datatype:  <U32\n"
     ]
    }
   ],
   "source": [
    "# Elements have to be of same datatype\n",
    "arr = np.array([1, 2.0, \"ucsl\"])\n",
    "print(\"Datatype: \", arr.dtype)"
   ]
  },
  {
   "cell_type": "markdown",
   "metadata": {},
   "source": [
    "Since we did not pass the `dtype` parameter, Numpy saw that there are mixed types and it converts the datatype of all the elements to type `U`nicode`32` (or `S`tring`32` if you are using Python2). \n",
    "\n",
    "> To know all the datatypes supported by Numpy, you can type\n",
    "```ipython\n",
    "In [2]: np.typeDict\n",
    "```\n",
    "and check the output\n",
    "\n",
    "If we would've passed the `dtype` as `float` or anything other than a type of `string` or `unicode`, we would've recevied a value error. (Try it!)"
   ]
  },
  {
   "cell_type": "markdown",
   "metadata": {
    "collapsed": true
   },
   "source": [
    "### Creating Arrays\n",
    "There are many different ways in which a numpy array can be created. We saw one in the above example. Lets look at some other ways of creating arrays"
   ]
  },
  {
   "cell_type": "code",
   "execution_count": 5,
   "metadata": {},
   "outputs": [
    {
     "name": "stdout",
     "output_type": "stream",
     "text": [
      "arange() with float dtype: \n",
      " [0. 1. 2. 3. 4.]\n",
      "\n",
      " linspace(): \n",
      " [0. 2. 4. 6. 8.]\n",
      "\n",
      " ones(): \n",
      " [[1. 1. 1.]\n",
      " [1. 1. 1.]]\n",
      "\n",
      " zeros(): \n",
      " [[0. 0. 0.]\n",
      " [0. 0. 0.]]\n",
      "\n",
      " Empty: \n",
      " [[0.00000000e+000 2.32035099e+077 2.15408347e-314 0.00000000e+000]\n",
      " [0.00000000e+000 0.00000000e+000 0.00000000e+000 5.56268465e-309]]\n",
      "\n",
      " Ones_like(): \n",
      " [1. 1. 1. 1. 1.]\n",
      "\n",
      " Diagonal array: \n",
      " [[0. 0. 0. 0. 0.]\n",
      " [0. 1. 0. 0. 0.]\n",
      " [0. 0. 2. 0. 0.]\n",
      " [0. 0. 0. 3. 0.]\n",
      " [0. 0. 0. 0. 4.]]\n"
     ]
    }
   ],
   "source": [
    "arr1 = np.arange(5, dtype=float)\n",
    "print('arange() with float dtype: \\n',arr1)\n",
    "# Divide the range between start and stop in equal `num` intervals\n",
    "arr2 = np.linspace(0, 8, num=5)\n",
    "print('\\n linspace(): \\n', arr2)\n",
    "arr3 = np.ones((2, 3), dtype=float)\n",
    "print ('\\n ones(): \\n',arr3)\n",
    "arr4 = np.zeros((2,3), dtype=float)\n",
    "print ('\\n zeros(): \\n',arr4)\n",
    "arr5 = np.empty((2, 4))\n",
    "print('\\n Empty: \\n',arr5)  # Your output may be different..\n",
    "arr6 = np.ones_like(arr1)\n",
    "print('\\n Ones_like(): \\n',arr6)\n",
    "arr7 = np.diag(arr1)\n",
    "print('\\n Diagonal array: \\n',arr7)\n"
   ]
  },
  {
   "cell_type": "markdown",
   "metadata": {},
   "source": [
    "#### np.arange()\n",
    "\n",
    "is the same as the range function that we used previously. This method will however return a numpy array.\n",
    "\n",
    "#### np.zeros() and np.ones()\n",
    "\n",
    "as the name suggests, generate new arrays of specified dimensions filled with these values. These are most commonly used functions to create new arrays."
   ]
  },
  {
   "cell_type": "code",
   "execution_count": 6,
   "metadata": {},
   "outputs": [
    {
     "name": "stdout",
     "output_type": "stream",
     "text": [
      "\n",
      " ones(): \n",
      " [[1. 1. 1.]\n",
      " [1. 1. 1.]]\n",
      "\n",
      " zeros(): \n",
      " [[0. 0. 0.]\n",
      " [0. 0. 0.]]\n"
     ]
    }
   ],
   "source": [
    "arr3 = np.ones((2, 3), dtype=float)\n",
    "print ('\\n ones(): \\n',arr3)\n",
    "arr4 = np.zeros((2,3), dtype=float)\n",
    "print ('\\n zeros(): \\n',arr4)"
   ]
  },
  {
   "cell_type": "markdown",
   "metadata": {},
   "source": [
    "#### np.empty()\n",
    "\n",
    "This function creates an array whose initial content is random and depends on the state of the memory. If not specified, the data type of the created array is float64"
   ]
  },
  {
   "cell_type": "code",
   "execution_count": 7,
   "metadata": {},
   "outputs": [
    {
     "name": "stdout",
     "output_type": "stream",
     "text": [
      "\n",
      " Empty: \n",
      " [[0.00000000e+000 2.32035099e+077 2.15408347e-314 0.00000000e+000]\n",
      " [0.00000000e+000 0.00000000e+000 0.00000000e+000 5.56268465e-309]]\n"
     ]
    }
   ],
   "source": [
    "arr5 = np.empty((2, 4))\n",
    "print('\\n Empty: \\n',arr5)  # Your output may be different.."
   ]
  },
  {
   "cell_type": "markdown",
   "metadata": {},
   "source": [
    "#### np.ones_like()  , np.zeros_like() and np.empty_like()\n",
    "\n",
    "These functions create a new array with the same dimensions and type as the existing one but with the values as either ones or zeros or random value."
   ]
  },
  {
   "cell_type": "code",
   "execution_count": 8,
   "metadata": {},
   "outputs": [
    {
     "name": "stdout",
     "output_type": "stream",
     "text": [
      "\n",
      " Ones_like(): \n",
      " [1. 1. 1. 1. 1.]\n"
     ]
    }
   ],
   "source": [
    "arr6 = np.ones_like(arr1)\n",
    "print('\\n Ones_like(): \\n',arr6)"
   ]
  },
  {
   "cell_type": "markdown",
   "metadata": {},
   "source": [
    "#### np.diag()\n",
    "\n",
    "As the name suggests, this will construct a diagonal array\n"
   ]
  },
  {
   "cell_type": "code",
   "execution_count": 9,
   "metadata": {},
   "outputs": [
    {
     "name": "stdout",
     "output_type": "stream",
     "text": [
      "\n",
      " Diagonal array: \n",
      " [[0. 0. 0. 0. 0.]\n",
      " [0. 1. 0. 0. 0.]\n",
      " [0. 0. 2. 0. 0.]\n",
      " [0. 0. 0. 3. 0.]\n",
      " [0. 0. 0. 0. 4.]]\n"
     ]
    }
   ],
   "source": [
    "arr7 = np.diag(arr1)\n",
    "print('\\n Diagonal array: \\n',arr7)"
   ]
  },
  {
   "cell_type": "markdown",
   "metadata": {},
   "source": [
    "Let's take a look at an example for creating multi-dimensional array"
   ]
  },
  {
   "cell_type": "code",
   "execution_count": 10,
   "metadata": {},
   "outputs": [
    {
     "name": "stdout",
     "output_type": "stream",
     "text": [
      "2D array: \n",
      "[[ 0  1  2  3  4  5  6  7  8]\n",
      " [ 9 10 11 12 13 14 15 16 17]\n",
      " [18 19 20 21 22 23 24 25 26]]\n",
      "\n",
      "3D array: \n",
      "[[[ 0  1  2]\n",
      "  [ 3  4  5]\n",
      "  [ 6  7  8]]\n",
      "\n",
      " [[ 9 10 11]\n",
      "  [12 13 14]\n",
      "  [15 16 17]]\n",
      "\n",
      " [[18 19 20]\n",
      "  [21 22 23]\n",
      "  [24 25 26]]]\n",
      "\n"
     ]
    }
   ],
   "source": [
    "arr2d = np.arange(27).reshape(3, 9)\n",
    "print(\"2D array: \\n{}\\n\".format(arr2d))\n",
    "arr3d = np.arange(27).reshape(3,3,3)\n",
    "print(\"3D array: \\n{}\\n\".format(arr3d))"
   ]
  },
  {
   "cell_type": "markdown",
   "metadata": {},
   "source": [
    "Numpy displays the arrays in a similar way to nested lists but with the following layout:\n",
    "- the last axis is printed from left to right\n",
    "- the second to last axis is printed from top to bottom.\n",
    "- the rest rest are also printed from top to bottom with each slice separated from the next by an empty line. Simply put, single dimensional arrays are printed as rows, bi-dimensional and multi-dimensional are printed as matrices and as lists of matrices respectively.\n",
    "\n",
    "We will look at reshaping of arrays later in this module."
   ]
  },
  {
   "cell_type": "markdown",
   "metadata": {},
   "source": [
    "### Array Indexing\n",
    "Numpy arrays are indexed in the same way as lists, so accessing the elements for single dimensional array is equivalent to accessing elements in a list"
   ]
  },
  {
   "cell_type": "code",
   "execution_count": 5,
   "metadata": {},
   "outputs": [
    {
     "name": "stdout",
     "output_type": "stream",
     "text": [
      "7\n"
     ]
    }
   ],
   "source": [
    "arr = np.arange(3, 10)\n",
    "print(arr[4\n",
    "          "
   ]
  },
  {
   "cell_type": "markdown",
   "metadata": {},
   "source": [
    "You can also use negative indexing like we did for lists. For example:"
   ]
  },
  {
   "cell_type": "code",
   "execution_count": 11,
   "metadata": {},
   "outputs": [
    {
     "name": "stdout",
     "output_type": "stream",
     "text": [
      "1\n"
     ]
    }
   ],
   "source": [
    "print(arr[-3])"
   ]
  },
  {
   "cell_type": "markdown",
   "metadata": {},
   "source": [
    "Multi-dimensional array items can be accessed using comma-separated tuple of indexes, as here: "
   ]
  },
  {
   "cell_type": "code",
   "execution_count": 12,
   "metadata": {},
   "outputs": [
    {
     "name": "stdout",
     "output_type": "stream",
     "text": [
      "3D array: \n",
      " [[[ 0  1  2]\n",
      "  [ 3  4  5]\n",
      "  [ 6  7  8]]\n",
      "\n",
      " [[ 9 10 11]\n",
      "  [12 13 14]\n",
      "  [15 16 17]]\n",
      "\n",
      " [[18 19 20]\n",
      "  [21 22 23]\n",
      "  [24 25 26]]]\n",
      "\n",
      "Element at 2, 1, 0 is: 21\n"
     ]
    }
   ],
   "source": [
    "arr3d = np.arange(27).reshape(3,3,3)\n",
    "dim, row, col = 2, 1, 0\n",
    "print(\"3D array: \\n\", arr3d, end=\"\\n\\n\")\n",
    "print(\"Element at {dim}, {row}, {col} is: {val}\".format(dim=dim, \n",
    "                                                        row=row, \n",
    "                                                        col=col, \n",
    "                                                        val=arr3d[dim, row, col]))"
   ]
  },
  {
   "cell_type": "markdown",
   "metadata": {},
   "source": [
    "### Array Slicing\n",
    "Slicing extracts the portion of a sequence by specifying a lower and upper bound. The lower bound element is included, but the upper-bound element is not included in slicing. Just like lists, there is a third parameter step which means the strides to be taken between the elements. If any of these are unspecified, they default to the values `start=0, stop=size of dimension, step=1`. Each of these parameters are separated by colons (`:`) as you can see in the example here: "
   ]
  },
  {
   "cell_type": "code",
   "execution_count": 13,
   "metadata": {},
   "outputs": [
    {
     "name": "stdout",
     "output_type": "stream",
     "text": [
      "Original Array: \n",
      " [0. 2. 4. 6. 8.]\n",
      "\n",
      "arr[:3]:  [0. 2. 4.]\n",
      "arr[-5:5:2]:  [0. 4. 8.]\n",
      "arr[::2]:  [0. 4. 8.]\n",
      "arr[::-1]:  [8. 6. 4. 2. 0.]\n",
      "arr[2::-2]:  [4. 0.]\n"
     ]
    }
   ],
   "source": [
    "arr = np.linspace(0, 8, num=5)\n",
    "print(\"Original Array: \\n\", arr, end=\"\\n\\n\")\n",
    "# let the slicings begin\n",
    "print(\"arr[:3]: \", arr[:3])\n",
    "print(\"arr[-5:5:2]: \", arr[-5:5:2])\n",
    "print(\"arr[::2]: \", arr[::2])\n",
    "# Reverse the elements\n",
    "print(\"arr[::-1]: \", arr[::-1])\n",
    "# Reverse every other array from index 2\n",
    "print(\"arr[2::-2]: \", arr[2::-2])"
   ]
  },
  {
   "cell_type": "markdown",
   "metadata": {},
   "source": [
    "For multi-dimensional array, we specify in rows, columns format, as in the example below. "
   ]
  },
  {
   "cell_type": "code",
   "execution_count": 9,
   "metadata": {},
   "outputs": [
    {
     "name": "stdout",
     "output_type": "stream",
     "text": [
      "2D array: \n",
      " [[74 19 29 29]\n",
      " [66  9 69 21]\n",
      " [25 76 27 49]]\n",
      "\n",
      "first row, three columns: \n",
      " [[74 19 29]]\n",
      "\n",
      "all rows, third column: \n",
      " [29 21 49]\n",
      "\n",
      "reversing rows and columns together: \n",
      " [[49 27 76 25]\n",
      " [21 69  9 66]\n",
      " [29 29 19 74]]\n",
      "\n"
     ]
    }
   ],
   "source": [
    "# Array of random integers between low and high of fixed size(mxn)\n",
    "arr = np.random.randint(low=0, high=100, size=(3,4))\n",
    "print(\"2D array: \\n\", arr, end=\"\\n\\n\")\n",
    "# first row, three columns\n",
    "print(\"first row, three columns: \\n\", arr[:1, :3], end=\"\\n\\n\")\n",
    "# all rows, third column\n",
    "print(\"all rows, third column: \\n\", arr[:, 3], end=\"\\n\\n\")\n",
    "# changing dimensions \n",
    "print(\"reversing rows and columns together: \\n\",\n",
    "     arr[::-1, ::-1], end=\"\\n\\n\")"
   ]
  },
  {
   "cell_type": "markdown",
   "metadata": {},
   "source": [
    "Slices are references to the original array in memory. Changing the values in a slice also changes the original array. We can see that in this example: "
   ]
  },
  {
   "cell_type": "code",
   "execution_count": 14,
   "metadata": {},
   "outputs": [
    {
     "name": "stdout",
     "output_type": "stream",
     "text": [
      "arr1: \n",
      " [0 1 2 3 4]\n",
      "\n",
      "Sliced array: \n",
      " [3 4]\n",
      "\n",
      "Before changing, arr2[0]: \n",
      " 3\n",
      "\n",
      "After changing arr2[0], arr1: \n",
      " [ 0  1  2 99  4]\n"
     ]
    }
   ],
   "source": [
    "arr1 = np.arange(5)\n",
    "# slice arr1\n",
    "arr2 = arr1[3:5]\n",
    "print(\"arr1: \\n\", arr1, end=\"\\n\\n\")\n",
    "print(\"Sliced array: \\n\", arr2)\n",
    "print('\\nBefore changing, arr2[0]: \\n',arr2[0])\n",
    "# change value for 0th element of the slice\n",
    "arr2[0] = 99\n",
    "print('\\nAfter changing arr2[0], arr1: \\n',arr1)"
   ]
  },
  {
   "cell_type": "markdown",
   "metadata": {},
   "source": [
    "### Reshaping Arrays\n",
    "We have been using the`reshape` function to view a one dimensional array as a multi-dimensional array. This nifty method only works if your new array shape matches the size of the original array i.e `size = m x n`\n",
    "\n",
    "One can also row and column elements using `newaxis` method, demonstrated below: "
   ]
  },
  {
   "cell_type": "code",
   "execution_count": 15,
   "metadata": {},
   "outputs": [
    {
     "name": "stdout",
     "output_type": "stream",
     "text": [
      "Original Array: \n",
      " [41 73  8 47 52  5 55 77 80 72 85 34]\n",
      "\n",
      "Reshaped to 3 x 4: \n",
      " [[41 73  8 47]\n",
      " [52  5 55 77]\n",
      " [80 72 85 34]]\n",
      "\n",
      "Row vector : \n",
      " [[41 73  8 47 52  5 55 77 80 72 85 34]]\n",
      "\n",
      "Column vector : \n",
      " [[41]\n",
      " [73]\n",
      " [ 8]\n",
      " [47]\n",
      " [52]\n",
      " [ 5]\n",
      " [55]\n",
      " [77]\n",
      " [80]\n",
      " [72]\n",
      " [85]\n",
      " [34]]\n",
      "\n"
     ]
    }
   ],
   "source": [
    "arr = np.random.randint(low=0, high=100, size=12)\n",
    "print(\"Original Array: \\n\", arr, end=\"\\n\\n\")\n",
    "print(\"Reshaped to 3 x 4: \\n\", arr.reshape(3,4), end=\"\\n\\n\")\n",
    "print(\"Row vector : \\n\", arr[np.newaxis, :], end=\"\\n\\n\")\n",
    "print(\"Column vector : \\n\", arr[:, np.newaxis], end=\"\\n\\n\")"
   ]
  },
  {
   "cell_type": "markdown",
   "metadata": {
    "collapsed": true
   },
   "source": [
    "### Concatenating Arrays\n",
    "Just like Python Lists, you can concatenate two arrays using Numpy's `concatenate()`, `hstack()` and `vstack()` functions. \n",
    "\n",
    "However, you must remember that just like lists, when you combine a Numpy array, an actual copy of both the arrays is made. If you created the two arrays separately, they are randomly scattered in memory, and there is no way to represent them as a `view` Know the size of the array you need beforehand so that you can start with one big array, and have each of the small arrays be a `view` to the big array. (You can leverage the power of slicing!)\n",
    "\n",
    "Follow the example below. "
   ]
  },
  {
   "cell_type": "code",
   "execution_count": 16,
   "metadata": {},
   "outputs": [
    {
     "name": "stdout",
     "output_type": "stream",
     "text": [
      "Arr1: \n",
      "[0 1 2 3 4 5 6 7 8 9]\n",
      "\n",
      "Arr2: \n",
      "[10 11 12 13 14 15 16 17 18 19]\n",
      "\n",
      "Concatenated Array: \n",
      "[ 0  1  2  3  4  5  6  7  8  9 10 11 12 13 14 15 16 17 18 19]\n"
     ]
    }
   ],
   "source": [
    "# Creating two 1D arrays separately\n",
    "arr1 = np.arange(10)\n",
    "arr2 = np.arange(10, 20)\n",
    "arr3 = np.concatenate((arr1, arr2))\n",
    "print(\"Arr1: \\n{}\".format(arr1), end=\"\\n\\n\")\n",
    "print(\"Arr2: \\n{}\".format(arr2), end=\"\\n\\n\")\n",
    "print(\"Concatenated Array: \\n{}\".format(arr3))"
   ]
  },
  {
   "cell_type": "markdown",
   "metadata": {},
   "source": [
    "For concatenation of two multi-dimensional arrays, it is better to use the `hstack()` -- for stacking horizontally and `vstack()` -- for stacking against vertical axis, as demonstrated in example below."
   ]
  },
  {
   "cell_type": "code",
   "execution_count": 18,
   "metadata": {},
   "outputs": [
    {
     "name": "stdout",
     "output_type": "stream",
     "text": [
      "Arr1: \n",
      "[[7 8 8 7]\n",
      " [8 7 1 6]]\n",
      "\n",
      "Arr2: \n",
      "[[94 96 95 92]\n",
      " [91 96 95 90]]\n",
      "\n",
      "Horizontally Stacked Array: \n",
      "[[ 7  8  8  7 94 96 95 92]\n",
      " [ 8  7  1  6 91 96 95 90]]\n",
      "\n",
      "Vertically Stacked Array: \n",
      "[[ 7  8  8  7]\n",
      " [ 8  7  1  6]\n",
      " [94 96 95 92]\n",
      " [91 96 95 90]]\n",
      "\n"
     ]
    }
   ],
   "source": [
    "arr1 = np.random.randint(1, 10, 8).reshape(2, 4)\n",
    "arr2 = np.random.randint(90, 100, 8).reshape(2, 4)\n",
    "# stacking horizontally\n",
    "hs_arr = np.hstack((arr1, arr2))\n",
    "# stacking vertically\n",
    "vs_arr = np.vstack((arr1, arr2))\n",
    "print(\"Arr1: \\n{}\".format(arr1), end=\"\\n\\n\")\n",
    "print(\"Arr2: \\n{}\".format(arr2), end=\"\\n\\n\")\n",
    "print(\"Horizontally Stacked Array: \\n{}\".format(hs_arr), end=\"\\n\\n\")\n",
    "print(\"Vertically Stacked Array: \\n{}\".format(vs_arr), end=\"\\n\\n\")"
   ]
  },
  {
   "cell_type": "markdown",
   "metadata": {},
   "source": [
    "### Splitting Arrays\n",
    "Just like concatenating multiple arrays into one, Numpy's `split()`, `hsplit()` and `vsplit()` allows splitting of one array into multiple smaller ones."
   ]
  },
  {
   "cell_type": "code",
   "execution_count": 14,
   "metadata": {},
   "outputs": [
    {
     "data": {
      "text/plain": [
       "[array([0, 1]),\n",
       " array([2, 3, 4, 5, 6, 7]),\n",
       " array([8, 9]),\n",
       " array([10, 11, 12, 13]),\n",
       " array([14, 15, 16, 17, 18, 19])]"
      ]
     },
     "execution_count": 14,
     "metadata": {},
     "output_type": "execute_result"
    }
   ],
   "source": [
    "arr1 = np.arange(20)\n",
    "np.split(arr1, (2, 8, 10, 14))"
   ]
  },
  {
   "cell_type": "markdown",
   "metadata": {},
   "source": [
    "`np.split()` takes the array that we want to split as the first argument and as a second argument, it requires a list or tuple of the index of the elements at which we want to split the array. More the number of split-points, there will be one more subarray i.e `N` split-points, leads to `N + 1` subarrays.\n",
    "\n",
    "Similarly for multi-dimensional arrays, we can use `hsplit()` and `vsplit()`"
   ]
  },
  {
   "cell_type": "code",
   "execution_count": 15,
   "metadata": {},
   "outputs": [
    {
     "name": "stdout",
     "output_type": "stream",
     "text": [
      "Original Array: \n",
      "[[8 5 4]\n",
      " [8 5 2]\n",
      " [4 8 3]]\n",
      "\n",
      "First Split: \n",
      "[[8 5]\n",
      " [8 5]\n",
      " [4 8]]\n",
      "\n",
      "Remaining Split: \n",
      "[[4]\n",
      " [2]\n",
      " [3]]\n",
      "\n"
     ]
    }
   ],
   "source": [
    "arr2d = np.random.randint(0, 9, (3,3))\n",
    "print(\"Original Array: \\n{}\".format(arr2d), end=\"\\n\\n\")\n",
    "# split along horizontal axis\n",
    "arr1, arr2 = np.hsplit(arr2d, [2])\n",
    "print(\"First Split: \\n{}\".format(arr1), end=\"\\n\\n\")\n",
    "print(\"Remaining Split: \\n{}\".format(arr2), end=\"\\n\\n\")"
   ]
  }
 ],
 "metadata": {
  "kernelspec": {
   "display_name": "Python 3",
   "language": "python",
   "name": "python3"
  },
  "language_info": {
   "codemirror_mode": {
    "name": "ipython",
    "version": 3
   },
   "file_extension": ".py",
   "mimetype": "text/x-python",
   "name": "python",
   "nbconvert_exporter": "python",
   "pygments_lexer": "ipython3",
   "version": "3.7.2"
  }
 },
 "nbformat": 4,
 "nbformat_minor": 2
}
