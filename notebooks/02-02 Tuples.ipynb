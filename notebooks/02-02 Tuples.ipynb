{
 "cells": [
  {
   "cell_type": "markdown",
   "metadata": {},
   "source": [
    "## 01 - 06 Tuples\n",
    "Python tuple is much like a list except that it is immutable or unchangeable once created. Tuples use parentheses and creating them is as easy as putting different items separated by a comma between parentheses."
   ]
  },
  {
   "cell_type": "code",
   "execution_count": 1,
   "metadata": {},
   "outputs": [
    {
     "data": {
      "text/plain": [
       "tuple"
      ]
     },
     "execution_count": 1,
     "metadata": {},
     "output_type": "execute_result"
    }
   ],
   "source": [
    "my_tup = ('Python', 'Julia', 1, 3.1415)\n",
    "type(my_tup)"
   ]
  },
  {
   "cell_type": "markdown",
   "metadata": {},
   "source": [
    "Pretty easy. So the next question is why do we need a new datatype? The answer can be summed up in three points:\n",
    "\n",
    "- Tuples are faster than lists. If you ever defined a set of constant values and all you ever want to do is read those values, you should use tuples instead of lists.\n",
    "- Tuples are like 'write-protected' lists so that the data cannot be changed by accident.\n",
    "- Tuples are using in string formatting (we will see this in some examples below)\n",
    "\n",
    "\n",
    "### Creating a Tuple\n",
    "We already saw one example above on how to create tuples with multiple items. But to create a tuple with a single item, you need to include a comma after the first item.\n",
    "\n",
    "See what happens when you don't enter comma. What is the type of such object?"
   ]
  },
  {
   "cell_type": "code",
   "execution_count": 3,
   "metadata": {},
   "outputs": [],
   "source": [
    "my_tup = ('test',)"
   ]
  },
  {
   "cell_type": "markdown",
   "metadata": {},
   "source": [
    "### Slicing the Tuple\n",
    "\n",
    "Slicing a tuple is similar to slicing a list."
   ]
  },
  {
   "cell_type": "code",
   "execution_count": 4,
   "metadata": {},
   "outputs": [
    {
     "name": "stdout",
     "output_type": "stream",
     "text": [
      "('Python',)\n",
      "(3.1415, 'Julia')\n"
     ]
    }
   ],
   "source": [
    "my_tup = ('Python', 'Julia', 1, 3.1415)\n",
    "print(my_tup[:-3])\n",
    "# -ve sign indicates -ve indexing. So start from right and skip 2 elements\n",
    "print(my_tup[::-2])"
   ]
  },
  {
   "cell_type": "markdown",
   "metadata": {},
   "source": [
    "From above example we can observe that just like lists, slicing a tuple returns a new shallow copied tuple containing the requested items.\n",
    "\n",
    "### Tuple Concatentation, Repetition, Membership\n",
    "\n",
    "Tuples are immutable objects which means that you cannot update, append, remove, and/or modify the items in the tuple. However what you can do is take items from different tuples and create new tuples with those. Let's take a look at some examples below."
   ]
  },
  {
   "cell_type": "code",
   "execution_count": 5,
   "metadata": {},
   "outputs": [
    {
     "data": {
      "text/plain": [
       "(1, 2, 3, 4, 5, 'a', 'b', 'c', 'd', 'e')"
      ]
     },
     "execution_count": 5,
     "metadata": {},
     "output_type": "execute_result"
    }
   ],
   "source": [
    "tuple1 = (1, 2, 3, 4, 5)\n",
    "tuple2 = ('a', 'b' , 'c' ,'d' , 'e')\n",
    "# Tuple Concatentation\n",
    "tuple1 + tuple2"
   ]
  },
  {
   "cell_type": "code",
   "execution_count": 6,
   "metadata": {},
   "outputs": [
    {
     "data": {
      "text/plain": [
       "(1, 2, 3, 4, 5, 1, 2, 3, 4, 5)"
      ]
     },
     "execution_count": 6,
     "metadata": {},
     "output_type": "execute_result"
    }
   ],
   "source": [
    "# Tuple Repetition\n",
    "tuple1 * 2"
   ]
  },
  {
   "cell_type": "code",
   "execution_count": 7,
   "metadata": {},
   "outputs": [
    {
     "data": {
      "text/plain": [
       "True"
      ]
     },
     "execution_count": 7,
     "metadata": {},
     "output_type": "execute_result"
    }
   ],
   "source": [
    "# Membership operator, returns true if member of tuple\n",
    "'a' in tuple2"
   ]
  },
  {
   "cell_type": "markdown",
   "metadata": {},
   "source": [
    "### Nested Tuples\n",
    "\n",
    "It is also possible to create a tuple of tuples or tuple of lists. "
   ]
  },
  {
   "cell_type": "code",
   "execution_count": 8,
   "metadata": {},
   "outputs": [
    {
     "data": {
      "text/plain": [
       "('Python', 'Julia', 1, 3.1415, ('a', 'b'), ('c', 'd'), 1, 2, 3, 4, 5)"
      ]
     },
     "execution_count": 8,
     "metadata": {},
     "output_type": "execute_result"
    }
   ],
   "source": [
    "list1 = ['Python', 'Julia', 1, 3.1415]\n",
    " # List of tuples is possible too!\n",
    "list2 = [('a', 'b'), ('c', 'd')]\n",
    "tuple1 = (1, 2, 3, 4, 5)\n",
    "# Concatenating the list and converting to tuple. \n",
    "# Then adding two tuples and storing it in another tuple\n",
    "tuple2 = tuple(list1 + list2)+ tuple1\n",
    "tuple2"
   ]
  },
  {
   "cell_type": "markdown",
   "metadata": {},
   "source": [
    "NOTE: Remember, we cannot concatenate a `list` and a `tuple` so we concatenate two lists and convert the new list into tuple by using the tuple built-in function. Then we concatenate that to tuple1 and store the new tuple as tuple2.\n",
    "\n",
    "### Traversing a Tuple\n",
    "\n",
    "Tuples can be traversed using the index value of the items. The most straightforward way of traversing a tuple is by using loops. Below is an example that extends the above example and using the items of tuple2."
   ]
  },
  {
   "cell_type": "code",
   "execution_count": 9,
   "metadata": {},
   "outputs": [
    {
     "name": "stdout",
     "output_type": "stream",
     "text": [
      "tuple2[0]: Python\n",
      "tuple2[1]: Julia\n",
      "tuple2[2]: 1\n",
      "tuple2[3]: 3.1415\n",
      "tuple2[4]: ('a', 'b')\n",
      "tuple2[5]: ('c', 'd')\n",
      "tuple2[6]: 1\n",
      "tuple2[7]: 2\n",
      "tuple2[8]: 3\n",
      "tuple2[9]: 4\n",
      "tuple2[10]: 5\n"
     ]
    }
   ],
   "source": [
    "for ind in enumerate(tuple2):\n",
    "    print('tuple2[{0[0]}]: {0[1]}'.format(ind))"
   ]
  },
  {
   "cell_type": "markdown",
   "metadata": {},
   "source": [
    "Almost everything that we did in lists apply over here. Of course, except for the fact that we can modify the lists items but not the tuples. Remember, tuples are immutable.\n",
    "\n",
    "#### Tuple Comprehension\n",
    "We know that list comprehension is performed using a for loop that traverses the list and evaluates a condition using if.. else condition and creates a new list with the output. So for tuples it should be same as the list, right? Let's see below:"
   ]
  },
  {
   "cell_type": "code",
   "execution_count": 10,
   "metadata": {},
   "outputs": [
    {
     "data": {
      "text/plain": [
       "generator"
      ]
     },
     "execution_count": 10,
     "metadata": {},
     "output_type": "execute_result"
    }
   ],
   "source": [
    "tuple1 = (1, 2, 3, 4, 5)\n",
    "# Same example as in list comprehension\n",
    "tuple2 = (elem for elem in tuple1 if elem%2 == 0)\n",
    "type(tuple2)"
   ]
  },
  {
   "cell_type": "code",
   "execution_count": 11,
   "metadata": {},
   "outputs": [
    {
     "data": {
      "text/plain": [
       "2"
      ]
     },
     "execution_count": 11,
     "metadata": {},
     "output_type": "execute_result"
    }
   ],
   "source": [
    "next(tuple2)"
   ]
  },
  {
   "cell_type": "markdown",
   "metadata": {},
   "source": [
    "Remember when we talked about list comprehension and got all happy looking at such an easier way to create new lists? It so happens that the 'comprehension' for lists and dictionaries is just a syntactic sugar to use a generator expression that outputs a specific type. \n",
    "\n",
    "We learned the basics about generators when we saw `range` function. List comprehension, under the covers, creates a generator expression that outputs a list (just like we did above using next() method). Now that you know the truth behind the comprehension you might feel that you don't need list comprehension but believe me, it is awfully handy for lists when you start writing your codes in python using lists. So if you want  to use comprehension in tuples, you will get a generator expression and you can obtain your results using the next method. This also doesn't require the invention of another brace or bracket."
   ]
  },
  {
   "cell_type": "markdown",
   "metadata": {},
   "source": [
    "How do you obtain all the elements of generator without using loops? "
   ]
  },
  {
   "cell_type": "markdown",
   "metadata": {},
   "source": [
    "### Built-in Tuple Functions and Methods\n",
    "\n",
    "Python provides following methods for tuples:"
   ]
  },
  {
   "cell_type": "markdown",
   "metadata": {},
   "source": [
    "##### tuple.count()\n",
    "This method returns the number of times the object, that is passed as a parameter, occurs in the tuple."
   ]
  },
  {
   "cell_type": "code",
   "execution_count": 12,
   "metadata": {},
   "outputs": [
    {
     "data": {
      "text/plain": [
       "1"
      ]
     },
     "execution_count": 12,
     "metadata": {},
     "output_type": "execute_result"
    }
   ],
   "source": [
    "tuple1.count(3)"
   ]
  },
  {
   "cell_type": "markdown",
   "metadata": {},
   "source": [
    "##### tuple.index()\n",
    "This method returns the lowest index in the tuple that object appears at."
   ]
  },
  {
   "cell_type": "code",
   "execution_count": 13,
   "metadata": {},
   "outputs": [
    {
     "data": {
      "text/plain": [
       "2"
      ]
     },
     "execution_count": 13,
     "metadata": {},
     "output_type": "execute_result"
    }
   ],
   "source": [
    "tuple1.index(3)"
   ]
  },
  {
   "cell_type": "code",
   "execution_count": null,
   "metadata": {},
   "outputs": [],
   "source": []
  }
 ],
 "metadata": {
  "kernelspec": {
   "display_name": "Python 3",
   "language": "python",
   "name": "python3"
  },
  "language_info": {
   "codemirror_mode": {
    "name": "ipython",
    "version": 3
   },
   "file_extension": ".py",
   "mimetype": "text/x-python",
   "name": "python",
   "nbconvert_exporter": "python",
   "pygments_lexer": "ipython3",
   "version": "3.7.2"
  }
 },
 "nbformat": 4,
 "nbformat_minor": 2
}
