{
 "cells": [
  {
   "cell_type": "markdown",
   "metadata": {},
   "source": [
    "## Python in Practice\n",
    "\n",
    "- In the previous modules, we learnt about python's built-in 'simple' types. In this module, we will learn about the different ways in which the data of those types can be organized, so that it can be used (algorithmically) efficiently.\n",
    "> we have already covered `str`, `int`, `float`, and `complex`. Here, we will also introduce the remaining two -- `bool` and `None` python's built-in types\n",
    "\n",
    "- We will also take a look at how to reduce code duplication and improve code readability by using Functions.\n",
    "\n",
    "- Finally we will look at Exception Handling in which we will learn about ways of making our code handle the errors without crashing.\n",
    "\n",
    "## Data Structures\n",
    "Python's most basic data structure is the `sequence`. Each element of a sequence is assigned a number known as index number. Different types of sequences in Python are:\n",
    "- `List`\n",
    "- `Tuple`\n",
    "- `Range`\n",
    "- Text sequence types e.g. `str`\n",
    "- Binary sequence types e.g. `bytearray`, `buffer`\n",
    "\n",
    "Python has several built-in data structures (or compound types) that act as containers and hold the other types. They are:\n",
    "- List\n",
    "- Tuples\n",
    "- Sets\n",
    "- Dictionaries\n"
   ]
  }
 ],
 "metadata": {
  "kernelspec": {
   "display_name": "Python 3",
   "language": "python",
   "name": "python3"
  },
  "language_info": {
   "codemirror_mode": {
    "name": "ipython",
    "version": 3
   },
   "file_extension": ".py",
   "mimetype": "text/x-python",
   "name": "python",
   "nbconvert_exporter": "python",
   "pygments_lexer": "ipython3",
   "version": "3.7.2"
  }
 },
 "nbformat": 4,
 "nbformat_minor": 2
}
