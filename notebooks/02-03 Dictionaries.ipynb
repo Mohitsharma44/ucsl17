{
 "cells": [
  {
   "cell_type": "markdown",
   "metadata": {},
   "source": [
    "##  Dictionaries\n",
    "Python dictionary is an interesting and useful data structure in python. It is a container of [key-value pairs](https://en.wikipedia.org/wiki/Attribute%E2%80%93value_pair_). Just like lists, python dictionaries are mutable and can contain mixed types, however the key **must** be immutable (i.e the object being used as a key must be [hashable](https://docs.python.org/3/glossary.html#term-hashable)) -- e.g. like strings or numbers or even Tuples and must be unique within a dictionary. \n",
    "\n",
    "Python dictionaries are also known as hash tables in other programming languages. Each key is separated from its value by a colon ( `:` ) and just like lists the items are separated by commas and the whole thing is enclosed in curly braces (`{}`).\n",
    "\n",
    "An important thing to remember is that, by design, python dictionaries do not maintain any ordering (i.e the sequence in which the objects were entered). This lack of ordering allows random elements to be accessed quickly, regardless of the size of the dictionary.\n",
    "\n",
    "> For curious minds who wants to know more about `hash`ing (it is not *required*), [wikipedia](https://en.wikipedia.org/wiki/Hash_table) has a good writeup and then maybe this [StackOverflow](http://stackoverflow.com/questions/2061222/what-is-the-true-difference-between-a-dictionary-and-a-hash-table) link.\n",
    "\n",
    "### Creating Dictionaries"
   ]
  },
  {
   "cell_type": "code",
   "execution_count": 1,
   "metadata": {},
   "outputs": [
    {
     "name": "stdout",
     "output_type": "stream",
     "text": [
      "{'Name': 'John', 'Class': 'Urban Skills', 'Course': 'Python'}\n",
      "<class 'dict'>\n"
     ]
    }
   ],
   "source": [
    "student = {'Name': 'John', 'Class': 'Urban Skills', 'Course': 'Python'}\n",
    "print(student)\n",
    "print(type(student))"
   ]
  },
  {
   "cell_type": "code",
   "execution_count": 2,
   "metadata": {},
   "outputs": [
    {
     "name": "stdout",
     "output_type": "stream",
     "text": [
      "{'AL': 'Alabama', 'NY': 'New York'}\n"
     ]
    }
   ],
   "source": [
    "# Creating empty dictionary\n",
    "states = {}\n",
    "# Keys are inside square brackets and values on the right side of assignment\n",
    "states['AL'] = 'Alabama'\n",
    "states['NY'] = 'New York'\n",
    "print(states)"
   ]
  },
  {
   "cell_type": "markdown",
   "metadata": {},
   "source": [
    "You can convert other data structures like lists and tuples to dictionaries too.. Lets look at some of the ways to achieve that:\n",
    "\n",
    "#### fromkeys()"
   ]
  },
  {
   "cell_type": "code",
   "execution_count": 3,
   "metadata": {},
   "outputs": [
    {
     "name": "stdout",
     "output_type": "stream",
     "text": [
      "Just added keys with default values as 0:  {'AL': 0, 'NY': 0}\n",
      "{'AL': 'Alabama', 'NY': 'New York'}\n"
     ]
    }
   ],
   "source": [
    "states_key_list   = ['AL', 'NY']\n",
    "# Instead of 0 you can leave the field empty\n",
    "states_dict       = {}.fromkeys(states_key_list, 0)\n",
    "print(\"Just added keys with default values as 0: \", states_dict)\n",
    "states_dict['AL'] = 'Alabama'\n",
    "states_dict['NY'] = 'New York'\n",
    "print(states_dict)"
   ]
  },
  {
   "cell_type": "markdown",
   "metadata": {},
   "source": [
    "#### zip()\n",
    "This is a python built-in method to group every element from each iterable passed as an argument.\n",
    "`zip` will return the group of size equal to the smallest iterable."
   ]
  },
  {
   "cell_type": "code",
   "execution_count": 4,
   "metadata": {},
   "outputs": [
    {
     "name": "stdout",
     "output_type": "stream",
     "text": [
      "{'AL': 'Alabama', 'NY': 'New York'}\n"
     ]
    }
   ],
   "source": [
    "states_key_list = ['AL', 'NY']\n",
    "states_val_list = ['Alabama', 'New York']\n",
    "states_dict     = dict(zip(states_key_list, states_val_list))\n",
    "print(states_dict)"
   ]
  },
  {
   "cell_type": "code",
   "execution_count": 5,
   "metadata": {
    "scrolled": true
   },
   "outputs": [
    {
     "name": "stdout",
     "output_type": "stream",
     "text": [
      "{'AL': 'Alabama', 'NY': 'New York', 'TX': 'Texas'}\n"
     ]
    }
   ],
   "source": [
    "# what happens if we have more keys than values\n",
    "states_key_tup  = ('AL', 'NY', 'TX', 'NJ')\n",
    "states_val_list = ['Alabama', 'New York', 'Texas']\n",
    "states_dict     = dict(zip(states_key_tup, states_val_list))\n",
    "print(states_dict)"
   ]
  },
  {
   "cell_type": "markdown",
   "metadata": {},
   "source": [
    "### Accessing Dictionary Items\n",
    "\n",
    "#### Passing key as index to the dictionary"
   ]
  },
  {
   "cell_type": "code",
   "execution_count": 6,
   "metadata": {},
   "outputs": [
    {
     "data": {
      "text/plain": [
       "'John'"
      ]
     },
     "execution_count": 6,
     "metadata": {},
     "output_type": "execute_result"
    }
   ],
   "source": [
    "student = {'Name': 'John', 'Class': 'Urban Skills', 'Course': 'Python'}\n",
    "student['Name']"
   ]
  },
  {
   "cell_type": "markdown",
   "metadata": {},
   "source": [
    "#### get(key [, default])"
   ]
  },
  {
   "cell_type": "code",
   "execution_count": 7,
   "metadata": {},
   "outputs": [
    {
     "name": "stdout",
     "output_type": "stream",
     "text": [
      "Course:    Python\n",
      "Location:  Not Found\n"
     ]
    }
   ],
   "source": [
    "# If key is in Dictionary, it will return the value else return the \n",
    "# default.. in this case default = \"Not Found\"\n",
    "print(\"Course:   \", student.get('Course'  , 'Not Found'))\n",
    "# This will print Not Found since there is not key 'Location'\n",
    "print(\"Location: \", student.get('Location', 'Not Found'))"
   ]
  },
  {
   "cell_type": "markdown",
   "metadata": {},
   "source": [
    "### Updating Dictionary:\n",
    "\n",
    "The dictionary can be updated by adding a new entry or a new key-value pair, modifying existing entry and/ or deleting an entry.\n",
    "\n",
    "#### Passing key as index and assigning value"
   ]
  },
  {
   "cell_type": "code",
   "execution_count": 8,
   "metadata": {},
   "outputs": [
    {
     "data": {
      "text/plain": [
       "{'Name': 'John',\n",
       " 'Class': 'Urban Skills',\n",
       " 'Course': 'Python',\n",
       " 'Degree': 'Masters',\n",
       " 'Location': 'NYU CUSP'}"
      ]
     },
     "execution_count": 8,
     "metadata": {},
     "output_type": "execute_result"
    }
   ],
   "source": [
    "student = {'Name': 'John', 'Class': 'Urban Skills', 'Course': 'Python'}\n",
    "student['Degree']   = 'Masters'\n",
    "student['Location'] = 'NYU CUSP'\n",
    "student"
   ]
  },
  {
   "cell_type": "markdown",
   "metadata": {},
   "source": [
    "#### setdefault( )\n",
    "\n",
    "In python, the value (of a key-value pair) is mutable. However at times you might not want to overwrite the key-value pair if it already exists. \n",
    "You can achieve this by using `setdefault()` method. The setdefault method returns a value if a key is present. Otherwise it inserts a key with the specified value and returns the value"
   ]
  },
  {
   "cell_type": "code",
   "execution_count": 9,
   "metadata": {},
   "outputs": [
    {
     "data": {
      "text/plain": [
       "'Masters'"
      ]
     },
     "execution_count": 9,
     "metadata": {},
     "output_type": "execute_result"
    }
   ],
   "source": [
    "student = {'Name': 'John', 'Class': 'Urban Skills', 'Course': 'Python'}\n",
    "# This will add the 'Degree:Masters' key value pair since it doesn't exist\n",
    "# and return the value added\n",
    "student.setdefault('Degree', 'Masters')"
   ]
  },
  {
   "cell_type": "code",
   "execution_count": 10,
   "metadata": {},
   "outputs": [
    {
     "data": {
      "text/plain": [
       "'Urban Skills'"
      ]
     },
     "execution_count": 10,
     "metadata": {},
     "output_type": "execute_result"
    }
   ],
   "source": [
    "# This will return the existing value for key = \"Class\"\n",
    "student.setdefault('Class','Urban Sensing')"
   ]
  },
  {
   "cell_type": "code",
   "execution_count": 11,
   "metadata": {},
   "outputs": [
    {
     "name": "stdout",
     "output_type": "stream",
     "text": [
      "{'Name': 'John', 'Class': 'Urban Skills', 'Course': 'Python', 'Degree': 'Masters'}\n"
     ]
    }
   ],
   "source": [
    "print(student)"
   ]
  },
  {
   "cell_type": "markdown",
   "metadata": {},
   "source": [
    "#### update( )\n",
    "\n",
    "The update method adds (joins) the two dictionary together."
   ]
  },
  {
   "cell_type": "code",
   "execution_count": 12,
   "metadata": {},
   "outputs": [
    {
     "data": {
      "text/plain": [
       "{'AL': 'Alabama', 'NY': 'New York', 'NJ': 'New Jersey', 'CA': 'California'}"
      ]
     },
     "execution_count": 12,
     "metadata": {},
     "output_type": "execute_result"
    }
   ],
   "source": [
    "states_dict = {'AL': 'Alabama', 'NY': 'New York'}\n",
    "states_dict2 = {'NJ': 'New Jersey', 'CA': 'California'}\n",
    "states_dict.update(states_dict2)\n",
    "states_dict"
   ]
  },
  {
   "cell_type": "markdown",
   "metadata": {},
   "source": [
    "###  Removing elements from Dictionary\n",
    "\n",
    "#### pop( )\n",
    "\n",
    "Pop() method removes the key-value pair based on the key passed as an argument. It returns the value that is being 'popped' from the dictionary"
   ]
  },
  {
   "cell_type": "code",
   "execution_count": 13,
   "metadata": {},
   "outputs": [
    {
     "data": {
      "text/plain": [
       "'Alabama'"
      ]
     },
     "execution_count": 13,
     "metadata": {},
     "output_type": "execute_result"
    }
   ],
   "source": [
    "states_dict = {'AL': 'Alabama', 'CA': 'California', 'NJ': 'New Jersey', 'NY': 'New York'}\n",
    "states_dict.pop('AL')"
   ]
  },
  {
   "cell_type": "code",
   "execution_count": 14,
   "metadata": {},
   "outputs": [
    {
     "data": {
      "text/plain": [
       "{'CA': 'California', 'NJ': 'New Jersey', 'NY': 'New York'}"
      ]
     },
     "execution_count": 14,
     "metadata": {},
     "output_type": "execute_result"
    }
   ],
   "source": [
    "states_dict"
   ]
  },
  {
   "cell_type": "markdown",
   "metadata": {},
   "source": [
    "#### del()\n",
    "del() method can be used to perform the above operation and also can be used to remove an entire dictionary. It does not return anything."
   ]
  },
  {
   "cell_type": "code",
   "execution_count": 25,
   "metadata": {},
   "outputs": [
    {
     "data": {
      "text/plain": [
       "{'CA': 'California', 'NJ': 'New Jersey', 'NY': 'New York'}"
      ]
     },
     "execution_count": 25,
     "metadata": {},
     "output_type": "execute_result"
    }
   ],
   "source": [
    "states_dict = {'AL': 'Alabama', 'CA': 'California', 'NJ': 'New Jersey', 'NY': 'New York'}\n",
    "del states_dict['AL']\n",
    "states_dict"
   ]
  },
  {
   "cell_type": "code",
   "execution_count": 26,
   "metadata": {},
   "outputs": [
    {
     "ename": "NameError",
     "evalue": "name 'states_dict' is not defined",
     "output_type": "error",
     "traceback": [
      "\u001b[0;31m---------------------------------------------------------------------------\u001b[0m",
      "\u001b[0;31mNameError\u001b[0m                                 Traceback (most recent call last)",
      "\u001b[0;32m<ipython-input-26-33158d208970>\u001b[0m in \u001b[0;36m<module>\u001b[0;34m\u001b[0m\n\u001b[1;32m      1\u001b[0m \u001b[0;31m# delete the whole dictionary\u001b[0m\u001b[0;34m\u001b[0m\u001b[0;34m\u001b[0m\u001b[0;34m\u001b[0m\u001b[0m\n\u001b[1;32m      2\u001b[0m \u001b[0;32mdel\u001b[0m \u001b[0mstates_dict\u001b[0m\u001b[0;34m\u001b[0m\u001b[0;34m\u001b[0m\u001b[0m\n\u001b[0;32m----> 3\u001b[0;31m \u001b[0mprint\u001b[0m\u001b[0;34m(\u001b[0m\u001b[0mstates_dict\u001b[0m\u001b[0;34m)\u001b[0m\u001b[0;34m\u001b[0m\u001b[0;34m\u001b[0m\u001b[0m\n\u001b[0m",
      "\u001b[0;31mNameError\u001b[0m: name 'states_dict' is not defined"
     ]
    }
   ],
   "source": [
    "# delete the whole dictionary\n",
    "del states_dict\n",
    "print(states_dict)"
   ]
  },
  {
   "cell_type": "markdown",
   "metadata": {},
   "source": [
    "#### clear( )\n",
    "\n",
    "The clear method clears all items from the dictionary but does not delete the dictionary"
   ]
  },
  {
   "cell_type": "code",
   "execution_count": 27,
   "metadata": {},
   "outputs": [
    {
     "data": {
      "text/plain": [
       "{}"
      ]
     },
     "execution_count": 27,
     "metadata": {},
     "output_type": "execute_result"
    }
   ],
   "source": [
    "states_dict = {'CA': 'California', 'NJ': 'New Jersey', 'NY': 'New York'}\n",
    "states_dict.clear()\n",
    "states_dict"
   ]
  },
  {
   "cell_type": "markdown",
   "metadata": {},
   "source": [
    "### Traversing a Dictionary\n",
    "\n",
    "#### 07.06.01 for loop:\n",
    "\n",
    "A dictionary can be traversed using for loops."
   ]
  },
  {
   "cell_type": "code",
   "execution_count": 28,
   "metadata": {},
   "outputs": [
    {
     "name": "stdout",
     "output_type": "stream",
     "text": [
      "AL: Alabama\n",
      "CA: California\n",
      "NJ: New Jersey\n",
      "NY: New York\n"
     ]
    }
   ],
   "source": [
    "states_dict = {'AL': 'Alabama', 'CA': 'California', 'NJ': 'New Jersey', 'NY': 'New York'}\n",
    "for k in states_dict:\n",
    "    print(\"{key}: {val}\".format(key=k, val=states_dict[k]))"
   ]
  },
  {
   "cell_type": "code",
   "execution_count": 29,
   "metadata": {},
   "outputs": [
    {
     "name": "stdout",
     "output_type": "stream",
     "text": [
      "AL: Alabama\n",
      "CA: California\n",
      "NJ: New Jersey\n",
      "NY: New York\n"
     ]
    }
   ],
   "source": [
    " # We will see items() method in next sub- topic\n",
    "for k, v in states_dict.items():\n",
    "    print(': '.join((k, v)))"
   ]
  },
  {
   "cell_type": "markdown",
   "metadata": {},
   "source": [
    "> Check the print statements in above two examples."
   ]
  },
  {
   "cell_type": "markdown",
   "metadata": {},
   "source": [
    "#### .. 07.06.02 keys( ) , values( ) and items( )\n",
    "\n",
    "The keys() method returns a list of keys in dictionary. The values() method returns a list of all the values and items() returns a list of all key-value tuples.\n",
    "\n",
    "> - For python2 users: The above methods will directly return a list (note: a `list`!). \n",
    "- For python3 users: The above methods return dict_keys, dict_values and dict_items respectively which are basically `view` objects (note: `view`!). \n",
    "    - view objects are faster and require small and fixed amount of memory and processor time. (python2 equivalent of these are `viewkeys()`, `viewvalues()` and `viewitems()`).\n",
    "    - `views` are *dynamic view* of the dictionary which shows the contents of the dictionary even after it changes. They offer features that differ from those of lists: a list of keys contain a copy of the dictionary keys at a given point in time, while a view is dynamic and is much faster to obtain, as it does not have to copy any data (keys or values) in order to be created.\n",
    "    - These `views` can be converted to lists by passing them to list constructor. e.g. `list(dict_keys)`. This technique will also work for python2 users.\n",
    "- Python2 users: wherever you see `.keys()` or `.items()` or `.values()` you can also use `.viewkeys()`, `.viewitems()` and `.viewvalues()` respectively. These will return the `dict_keys`, `dict_items` and `dict_values`."
   ]
  },
  {
   "cell_type": "code",
   "execution_count": 30,
   "metadata": {},
   "outputs": [
    {
     "data": {
      "text/plain": [
       "['AL', 'CA', 'NJ', 'NY']"
      ]
     },
     "execution_count": 30,
     "metadata": {},
     "output_type": "execute_result"
    }
   ],
   "source": [
    "states_dict = {'AL': 'Alabama', 'CA': 'California', \n",
    "               'NJ': 'New Jersey', 'NY': 'New York'}\n",
    "list(states_dict.keys())"
   ]
  },
  {
   "cell_type": "code",
   "execution_count": 31,
   "metadata": {},
   "outputs": [
    {
     "data": {
      "text/plain": [
       "['Alabama', 'California', 'New Jersey', 'New York']"
      ]
     },
     "execution_count": 31,
     "metadata": {},
     "output_type": "execute_result"
    }
   ],
   "source": [
    "list(states_dict.values())"
   ]
  },
  {
   "cell_type": "code",
   "execution_count": 32,
   "metadata": {},
   "outputs": [
    {
     "data": {
      "text/plain": [
       "[('AL', 'Alabama'),\n",
       " ('CA', 'California'),\n",
       " ('NJ', 'New Jersey'),\n",
       " ('NY', 'New York')]"
      ]
     },
     "execution_count": 32,
     "metadata": {},
     "output_type": "execute_result"
    }
   ],
   "source": [
    "list(states_dict.items())"
   ]
  },
  {
   "cell_type": "markdown",
   "metadata": {},
   "source": [
    "### Sorting\n",
    "\n",
    "Dictionaries in Python can be sorted using keys or values in ascending or descending order. First let us look as the built-in function sorted() and then the method specific to collections class.\n",
    "\n",
    "#### sorted( )\n",
    "\n",
    "Sorted method returns a new list containing sorted items from iterable (in our case it is a dictionary). It can also take a boolean value for reverse, which, if set as True, will sort the iterable in descending order.\n",
    "\n",
    "In this example, we will sort the dictionary by keys."
   ]
  },
  {
   "cell_type": "code",
   "execution_count": 33,
   "metadata": {},
   "outputs": [
    {
     "name": "stdout",
     "output_type": "stream",
     "text": [
      "AL : Alabama\n",
      "CA : California\n",
      "NJ : New Jersey\n",
      "NY : New York\n"
     ]
    }
   ],
   "source": [
    "states_dict = {'AL': 'Alabama', 'CA': 'California', \n",
    "               'NJ': 'New Jersey', 'NY': 'New York'}\n",
    "sorted_keys = sorted(list(states_dict.keys()), reverse=False)\n",
    "for key in sorted_keys:\n",
    "    print('{} : {}'.format(key, states_dict[key]))"
   ]
  },
  {
   "cell_type": "markdown",
   "metadata": {},
   "source": [
    "#### sort()\n",
    "This method sorts the list inplace!\n",
    "\n",
    "Remember: Creating a copy of lists is memory expensive. (Any operation you perform on a list creates a copy of the list, making computations slower.) You should always try to reduce the copies that you create"
   ]
  },
  {
   "cell_type": "code",
   "execution_count": 34,
   "metadata": {},
   "outputs": [
    {
     "name": "stdout",
     "output_type": "stream",
     "text": [
      "AL : Alabama\n",
      "CA : California\n",
      "NJ : New Jersey\n",
      "NY : New York\n"
     ]
    }
   ],
   "source": [
    "states_dict = {'AL': 'Alabama', 'CA': 'California', \n",
    "               'NJ': 'New Jersey', 'NY': 'New York'}\n",
    "k = list(states_dict.keys())\n",
    "k.sort(reverse=False)\n",
    "for key in k:\n",
    "    print('{key} : {val}'.format(key=key, val=states_dict[key]))"
   ]
  },
  {
   "cell_type": "markdown",
   "metadata": {},
   "source": [
    "*Remember, If you have any difficulty using any function or method in Jupyter notebook, type the function or method name followed by a '?' or `shift + Tab` and it will print the docstring/ help manual for you.*"
   ]
  }
 ],
 "metadata": {
  "kernelspec": {
   "display_name": "Python 3",
   "language": "python",
   "name": "python3"
  },
  "language_info": {
   "codemirror_mode": {
    "name": "ipython",
    "version": 3
   },
   "file_extension": ".py",
   "mimetype": "text/x-python",
   "name": "python",
   "nbconvert_exporter": "python",
   "pygments_lexer": "ipython3",
   "version": "3.7.2"
  }
 },
 "nbformat": 4,
 "nbformat_minor": 2
}
