{
 "cells": [
  {
   "cell_type": "markdown",
   "metadata": {},
   "source": [
    "### Acessing Jupyter Notebook on CUSP CDF (preferred way)\n",
    "Depending on the Operating System that you are using, you should simply follow the instructions on cusp datahub.\n",
    "\n",
    "For Linux and Mac OS: https://datahub.cusp.nyu.edu/sites/default/files/documents/guides/Jupyter_Notebook_from_your_browser_Mac.pdf\n",
    "For Windows OS: \n",
    "https://datahub.cusp.nyu.edu/sites/default/files/documents/guides/Jupyter_Notebook_from_your_browser_Windows.pdf\n",
    "All the packages that we need to use are already installed for you."
   ]
  },
  {
   "cell_type": "markdown",
   "metadata": {},
   "source": [
    "### Setting Up Jupyter Notebook locally on your machine (Method 1)"
   ]
  },
  {
   "cell_type": "markdown",
   "metadata": {},
   "source": [
    "If you are familiar with Docker, then there is a pre-built container that you can use following the instructions here: https://github.com/Mohitsharma44/ucsl-image"
   ]
  },
  {
   "cell_type": "markdown",
   "metadata": {},
   "source": [
    "### Setting Up Jupyter Notebook locally on your machine (Method 2)\n",
    "\n",
    "\n",
    "These instructions can be followed only if you are using either a Mac OS or Linux based OS\n",
    "\n",
    "#### Mac OS\n",
    "- Installing Brew (if you already don't have it)\n",
    "```\n",
    "/usr/bin/ruby -e \"$(curl -fsSL https://raw.githubusercontent.com/Homebrew/install/master/install)\"\n",
    "```\n",
    "- Update Brew:\n",
    "`brew update\n",
    "- Install Python\n",
    "```\n",
    "brew install python\n",
    "``` \n",
    "> (or `brew install python3` if you want to use python3)\n",
    "\n",
    "#### Linux Flavored OS (assuming Ubuntu)\n",
    "- Using your favorite package manager install Python\n",
    "```\n",
    "sudo apt-get install python\n",
    "```\n",
    "> (or `sudo apt-get install python3` if you want to use python3)\n",
    "\n",
    "- Install python package manager\n",
    "```\n",
    "sudo apt-get install python-pip\n",
    "```\n",
    "> (or `sudo apt-get install python3-pip` if you want to use python3)\n",
    "\n",
    "#### Common Commands for Mac and Linux \n",
    "> (even windows if you have managed to install python and pip on it)\n",
    "\n",
    "- Install jupyter\n",
    "```\n",
    "pip install jupyter\n",
    "```\n",
    "> (or `pip3 install jupyter` if you want to use python3)\n",
    "\n",
    "- Installing Numpy, Matplotlib, Scipy, Pandas\n",
    "```\n",
    "pip install numpy matplotlib scipy pandas packages\n",
    "```\n",
    "> (use `pip3` for python3)\n",
    "\n",
    "> If, for Linux flavored OS, the above command gives you a dependency error, replace it with\n",
    "```\n",
    "sudo apt-get install python-<package name>\n",
    "```\n",
    "\n",
    "----------\n",
    "\n",
    "If you want to have an option of using either python2 or python3, run:\n",
    "```\n",
    "python2 -m pip install ipykernel\n",
    "python2 -m ipykernel install --user\n",
    "```\n",
    "> - replace `python2` with `python3` if you ran all the above commands for python3\n",
    "> - remember to install the \"packages\" for python2 and python3"
   ]
  },
  {
   "cell_type": "markdown",
   "metadata": {},
   "source": [
    "> Remember .. No matter where you set up your development environment, the assignments have to be uploaded on CDF (check the Welcome notebook for more instructions)"
   ]
  }
 ],
 "metadata": {
  "kernelspec": {
   "display_name": "Python 3",
   "language": "python",
   "name": "python3"
  },
  "language_info": {
   "codemirror_mode": {
    "name": "ipython",
    "version": 3
   },
   "file_extension": ".py",
   "mimetype": "text/x-python",
   "name": "python",
   "nbconvert_exporter": "python",
   "pygments_lexer": "ipython3",
   "version": "3.7.2"
  }
 },
 "nbformat": 4,
 "nbformat_minor": 2
}
