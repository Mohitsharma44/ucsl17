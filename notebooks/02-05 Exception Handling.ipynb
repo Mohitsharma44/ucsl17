{
 "cells": [
  {
   "cell_type": "markdown",
   "metadata": {},
   "source": [
    "## 02 - 05 Exception Handling\n",
    "An exception is a python object that represents an error. It is an event, which occurs during the execution of a program that disrupts the normal flow of the program's instructions. When such a situation occurs and if python is not able to cope with it, it raises and exception. We have been seeing errors like TypeError and NameError or IndentationError throughout our tutorial which caused our application or that code to stop the execution. To prevent this from happening, we have to handle such exceptions.\n",
    "Following is a hierarchy for built-in exceptions in python:\n",
    "\n",
    "```\n",
    "BaseException\n",
    " +-- SystemExit\n",
    " +-- KeyboardInterrupt\n",
    " +-- GeneratorExit\n",
    " +-- Exception\n",
    "      +-- StopIteration\n",
    "      +-- StandardError\n",
    "      |    +-- BufferError\n",
    "      |    +-- ArithmeticError\n",
    "      |    |    +-- FloatingPointError\n",
    "      |    |    +-- OverflowError\n",
    "      |    |    +-- ZeroDivisionError\n",
    "      |    +-- AssertionError\n",
    "      |    +-- AttributeError\n",
    "      |    +-- EnvironmentError\n",
    "      |    |    +-- IOError\n",
    "      |    |    +-- OSError\n",
    "      |    |         +-- WindowsError (Windows)\n",
    "      |    |         +-- VMSError (VMS)\n",
    "      |    +-- EOFError\n",
    "      |    +-- ImportError\n",
    "      |    +-- LookupError\n",
    "      |    |    +-- IndexError\n",
    "      |    |    +-- KeyError\n",
    "      |    +-- MemoryError\n",
    "      |    +-- NameError\n",
    "      |    |    +-- UnboundLocalError\n",
    "      |    +-- ReferenceError\n",
    "      |    +-- RuntimeError\n",
    "      |    |    +-- NotImplementedError\n",
    "      |    +-- SyntaxError\n",
    "      |    |    +-- IndentationError\n",
    "      |    |         +-- TabError\n",
    "      |    +-- SystemError\n",
    "      |    +-- TypeError\n",
    "      |    +-- ValueError\n",
    "      |         +-- UnicodeError\n",
    "      |              +-- UnicodeDecodeError\n",
    "      |              +-- UnicodeEncodeError\n",
    "      |              +-- UnicodeTranslateError\n",
    "      +-- Warning\n",
    "           +-- DeprecationWarning\n",
    "           +-- PendingDeprecationWarning\n",
    "           +-- RuntimeWarning\n",
    "           +-- SyntaxWarning\n",
    "           +-- UserWarning\n",
    "           +-- FutureWarning\n",
    "       +-- ImportWarning\n",
    "       +-- UnicodeWarning\n",
    "       +-- BytesWarning\n",
    "```\n",
    "\n",
    "Let's take a look at an example"
   ]
  },
  {
   "cell_type": "code",
   "execution_count": 1,
   "metadata": {},
   "outputs": [
    {
     "ename": "ZeroDivisionError",
     "evalue": "division by zero",
     "output_type": "error",
     "traceback": [
      "\u001b[0;31m---------------------------------------------------------------------------\u001b[0m",
      "\u001b[0;31mZeroDivisionError\u001b[0m                         Traceback (most recent call last)",
      "\u001b[0;32m<ipython-input-1-bc757c3fda29>\u001b[0m in \u001b[0;36m<module>\u001b[0;34m\u001b[0m\n\u001b[0;32m----> 1\u001b[0;31m \u001b[0;36m1\u001b[0m \u001b[0;34m/\u001b[0m \u001b[0;36m0\u001b[0m\u001b[0;34m\u001b[0m\u001b[0;34m\u001b[0m\u001b[0m\n\u001b[0m",
      "\u001b[0;31mZeroDivisionError\u001b[0m: division by zero"
     ]
    }
   ],
   "source": [
    "1 / 0"
   ]
  },
  {
   "cell_type": "markdown",
   "metadata": {},
   "source": [
    "Quite a straightforward example where we are trying to divide a number by 0. Python raises a `ZeroDivisionError` and the execution halts. There are basically two ways to handle this error. \n",
    "\n",
    "Check to make sure that the divisor is not zero.\n",
    "\n",
    "Use `try-catch` block. Place the code to be executed inside the try block and place the exception to be handled in the except block.\n",
    "\n",
    "Give this a try in your notebook if you’d like."
   ]
  },
  {
   "cell_type": "code",
   "execution_count": 2,
   "metadata": {},
   "outputs": [
    {
     "name": "stdout",
     "output_type": "stream",
     "text": [
      "0.3333333333333333\n",
      "0.5\n",
      "1.0\n",
      "So, you're trying to divide by zero huh?\n",
      "-1.0\n",
      "-0.5\n"
     ]
    }
   ],
   "source": [
    "for i in range(3, -3, -1):\n",
    "    try:\n",
    "        print(1.0 / i)\n",
    "    except ZeroDivisionError:\n",
    "        print(\"So, you're trying to divide by zero huh?\")"
   ]
  },
  {
   "cell_type": "markdown",
   "metadata": {},
   "source": [
    "As observed from the above example, our execution continued even after we tried dividing 1.0 by zero.\n",
    "> Python2 users.. Check the division that is being performed. To obtain floating point answer, you have to convert any one of the operand to float\n",
    "\n",
    "> Python3 users.. you don't HAVE to do this. You can simply perform integer division and get floating point output\n",
    "\n",
    "### Argument of an Exception\n",
    "\n",
    "An exception can have an argument, which is a value that gives additional information about the problem that caused the exception. The contents of argument vary by exception."
   ]
  },
  {
   "cell_type": "code",
   "execution_count": 3,
   "metadata": {},
   "outputs": [
    {
     "name": "stdout",
     "output_type": "stream",
     "text": [
      "0.3333333333333333\n",
      "0.5\n",
      "1.0\n",
      "Zero Division Error:  float division by zero\n",
      "-1.0\n",
      "-0.5\n"
     ]
    }
   ],
   "source": [
    "for i in range(3, -3, -1):\n",
    "    try:\n",
    "        print(1.0 / i)\n",
    "    except ZeroDivisionError as err:\n",
    "        print('Zero Division Error: ', str(err.args[0]))"
   ]
  },
  {
   "cell_type": "markdown",
   "metadata": {},
   "source": [
    "### 02 - 05.02 Hierarchy of Exceptions\n",
    "\n",
    "The exceptions are organized in an hierarchy as observed from above tree. This means that we can have multiple exceptions handled by the except block."
   ]
  },
  {
   "cell_type": "code",
   "execution_count": 4,
   "metadata": {},
   "outputs": [
    {
     "name": "stdout",
     "output_type": "stream",
     "text": [
      "-1.0\n",
      "So, you're trying to divide by zero huh?\n",
      "1.0\n",
      "0.5\n",
      "0.3333333333333333\n",
      "0.25\n",
      "0.2\n"
     ]
    }
   ],
   "source": [
    "# time module has a sleep method which will help slow down the execution of loop\n",
    "import time \n",
    "i = -2\n",
    "while i < 5:\n",
    "    i = i + 1\n",
    "    try:\n",
    "        print(1.0 / i)\n",
    "        # This will halt the code for 2 seconds\n",
    "        time.sleep(2)\n",
    "    except KeyboardInterrupt:\n",
    "        # Lets raise the exception that we just caught!\n",
    "        raise KeyboardInterrupt('Ctrl C pressed')\n",
    "    except ZeroDivisionError:\n",
    "        print(\"So, you're trying to divide by zero huh?\")"
   ]
  },
  {
   "cell_type": "markdown",
   "metadata": {},
   "source": [
    "After starting the execution of the code, wait for few seconds and then press `i` key twice on your keyboard and you should get the above error (another way is to click on `Kernel -> Interrupt` ). The new thing that we can observe in this code is that we have used a keyword `raise`. This helps in raising a particular exception and as a parameter to the exception you can pass the string that you want to print. \n",
    "\n",
    "The raise statement does two things: it creates an exception object, and immediately leaves the expected program execution sequence to search the enclosing `try` statements for a matching `except` clause. The effect of `raise` statement is to either divert execution in a matching `except` suite, or to stop the program (if no proper exception handling was performed).\n",
    "\n",
    "Now lets see the above example with hierarchy in action:"
   ]
  },
  {
   "cell_type": "code",
   "execution_count": 5,
   "metadata": {},
   "outputs": [
    {
     "name": "stdout",
     "output_type": "stream",
     "text": [
      "-1.0\n",
      "Some Exception occurred..\n",
      "1.0\n",
      "0.5\n",
      "0.3333333333333333\n",
      "0.25\n",
      "0.2\n"
     ]
    }
   ],
   "source": [
    "import time\n",
    "i = -2\n",
    "while i < 5:\n",
    "    i = i + 1\n",
    "    try:\n",
    "        print(1.0 / i)\n",
    "        time.sleep(2)\n",
    "    except BaseException:\n",
    "        print('Some Exception occurred..')"
   ]
  },
  {
   "cell_type": "markdown",
   "metadata": {},
   "source": [
    "In the above example we can see that we did implement a handler (a very bad kind, I must say). If you check from the hierarchy list, you can observe that `KeyboardInterrupt` and `ArithmeticError`(which includes `ZeroDivideError`) are subclass of `BaseException` class. So since we implemented `BaseException` handler, all the errors under the base class are handled. \n",
    "\n",
    "Avoid raising a generic exception like we did in this example because you will not be able to understand what actually caused the exception and allows bugs to pass through. Instead use the most specific Exception constructor that semantically fits your issue.\n",
    "\n",
    "### 02 - 05.03 Finally\n",
    "\n",
    "`finally` keyword is a clause which contains the block of code that will always be executed regardless of whether there was any exception in the code or not. This is generally used to cleanup some resources in a program.. especially when using file I/O operations"
   ]
  },
  {
   "cell_type": "code",
   "execution_count": 6,
   "metadata": {},
   "outputs": [
    {
     "name": "stdout",
     "output_type": "stream",
     "text": [
      "['Alteration literature to or an sympathize mr imprudence. Of is ferrars subject as enjoyed or tedious cottage. Procuring as in resembled by in agreeable. Next long no gave mr eyes. Admiration advantages no he celebrated so pianoforte unreserved. Not its herself forming charmed amiable. Him why feebly expect future now. Preserved defective offending he daughters on or. Rejoiced prospect yet material servants out answered men admitted. Sportsmen certainty prevailed suspected am as. Add stairs admire all answer the nearer yet length. Advantages prosperous remarkably my inhabiting so reasonably be if. Too any appearance announcing impossible one. Out mrs means heart ham tears shall power every.']\n"
     ]
    }
   ],
   "source": [
    "fhandler = None\n",
    "try:\n",
    "    # Open file in read-only mode. Try renaming file to test1.txt\n",
    "    fhandler = open('./sample_datasets/test.txt', 'r')\n",
    "    # Read all lines\n",
    "    print(fhandler.readlines())\n",
    "except IOError:\n",
    "    print('Error Opening File')\n",
    "finally:\n",
    "    # If the file was opened\n",
    "    if fhandler:\n",
    "        # Close the file\n",
    "        fhandler.close"
   ]
  },
  {
   "cell_type": "markdown",
   "metadata": {},
   "source": [
    "In the above example we can observe that we are trying to open a file and read its contents. If the file doesn't exist, it will raise an IOError exception. We are handling that, no worries. However once the file has been read, we need to close the file so that other processes or other functions in our code can access it. (Remember: when accessing/ modifying a file, the file is locked to that process which is performing the I/O operation on it. Unless the lock is released, no other process will be able to modify it.. ) \n",
    "\n",
    "To make sure we release the resources, in the `finally` block we are checking if fhandler is not null and closing it. "
   ]
  }
 ],
 "metadata": {
  "kernelspec": {
   "display_name": "Python 3",
   "language": "python",
   "name": "python3"
  },
  "language_info": {
   "codemirror_mode": {
    "name": "ipython",
    "version": 3
   },
   "file_extension": ".py",
   "mimetype": "text/x-python",
   "name": "python",
   "nbconvert_exporter": "python",
   "pygments_lexer": "ipython3",
   "version": "3.7.4"
  }
 },
 "nbformat": 4,
 "nbformat_minor": 2
}
